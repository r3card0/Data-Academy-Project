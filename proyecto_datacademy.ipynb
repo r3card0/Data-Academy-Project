{
 "cells": [
  {
   "cell_type": "markdown",
   "metadata": {
    "cell_id": "1df879a0-53cd-4031-a50b-2c2fe17304a4",
    "deepnote_cell_height": 238,
    "deepnote_cell_type": "text-cell-h1",
    "is_collapsed": false,
    "tags": []
   },
   "source": [
    "# Análisis de los 25 retailers más grandes de Estados Unidos"
   ]
  },
  {
   "cell_type": "markdown",
   "metadata": {
    "cell_id": "c95236cf-2f8e-49d5-b53c-fdc74522248b",
    "deepnote_cell_type": "text-cell-h2",
    "is_collapsed": false,
    "tags": []
   },
   "source": [
    "## Objetivo"
   ]
  },
  {
   "cell_type": "markdown",
   "metadata": {
    "cell_id": "a15eb6f1-d9d0-4721-8cee-b2914a6f3097",
    "deepnote_cell_type": "markdown",
    "tags": []
   },
   "source": [
    "Una empresa de retail abrirá operaciones en los Estados Unidos. Los gerentes de ventas quieren conocer el mercado de retail mediante el análisis de ventas de las 25 grandes corporaciones de retail en el pais. Los gerentes tienen un listado de preguntas con el propósito de entender mejor el mercado de retail en los Estados Unidos.\n",
    "\n",
    "Como Data Analyst recien contratado, el objetivo es recopilar información del mercado de retail analizando el reporte de ventas de los competidores:  largest_us_retailers.csv"
   ]
  },
  {
   "cell_type": "markdown",
   "metadata": {
    "cell_id": "d4f72c07-70a1-45aa-b6f9-eb7e9452198f",
    "deepnote_cell_type": "text-cell-h2",
    "is_collapsed": false,
    "tags": []
   },
   "source": [
    "## Flujo de Trabajo"
   ]
  },
  {
   "cell_type": "markdown",
   "metadata": {
    "cell_id": "aaad7c6e-6693-4170-bc85-77ba9f0fcc36",
    "deepnote_cell_type": "markdown",
    "tags": []
   },
   "source": [
    "El análisis se llevara a cabo en 3 etapas:\n",
    "1. Exploración, análisis y clasificación de la información\n",
    "2. Responder las preguntas del Negocio\n",
    "3. Conclusiones y recomendaciones"
   ]
  },
  {
   "cell_type": "markdown",
   "metadata": {
    "cell_id": "f69fd483-0209-4804-b904-643a2baa8134",
    "deepnote_cell_type": "text-cell-h2",
    "is_collapsed": false,
    "tags": []
   },
   "source": [
    "# I. Exploración, análisis y clasificación de la información"
   ]
  },
  {
   "cell_type": "code",
   "execution_count": 1,
   "metadata": {
    "cell_id": "3347a937-91c3-4305-b06c-213bb2f3bcaf",
    "deepnote_cell_height": 153,
    "deepnote_cell_type": "code",
    "deepnote_to_be_reexecuted": false,
    "execution_millis": 1472,
    "execution_start": 1645987401816,
    "source_hash": "842fca63",
    "tags": []
   },
   "outputs": [],
   "source": [
    "# Importar librerías aquí\n",
    "import pandas as pd\n",
    "import numpy as np\n",
    "import matplotlib.pyplot as plt\n",
    "import seaborn as sns"
   ]
  },
  {
   "cell_type": "code",
   "execution_count": 2,
   "metadata": {
    "cell_id": "081fdaf2-888a-4a54-9495-467464cfc400",
    "deepnote_cell_height": 649,
    "deepnote_cell_type": "code",
    "deepnote_to_be_reexecuted": false,
    "execution_millis": 4,
    "execution_start": 1645987403291,
    "source_hash": "2e69c04",
    "tags": []
   },
   "outputs": [],
   "source": [
    "# Importar datos aquí\n",
    "df = pd.read_csv('/work/largest_us_retailers.csv')"
   ]
  },
  {
   "cell_type": "markdown",
   "metadata": {
    "cell_id": "e02902b0-ce0f-47da-90ef-ae470b5a8f2d",
    "deepnote_cell_type": "text-cell-h3",
    "is_collapsed": false,
    "tags": []
   },
   "source": [
    "## 1. Exploración"
   ]
  },
  {
   "cell_type": "code",
   "execution_count": 3,
   "metadata": {
    "cell_id": "3935b793-990f-4e15-8b64-31dc73d4a9c3",
    "deepnote_cell_type": "code",
    "deepnote_to_be_reexecuted": false,
    "execution_millis": 5,
    "execution_start": 1645987403298,
    "source_hash": "b1e3e003",
    "tags": []
   },
   "outputs": [
    {
     "data": {
      "text/plain": [
       "(25, 6)"
      ]
     },
     "execution_count": 3,
     "metadata": {},
     "output_type": "execute_result"
    }
   ],
   "source": [
    "# Conocer cuantas filas y columnas tiene el reporte\n",
    "df.shape"
   ]
  },
  {
   "cell_type": "code",
   "execution_count": 4,
   "metadata": {
    "cell_id": "0b11c375-f90f-4df4-87d2-a2519ab91159",
    "deepnote_cell_type": "code",
    "deepnote_table_loading": false,
    "deepnote_table_state": {
     "filters": [],
     "pageIndex": 1,
     "pageSize": 10,
     "sortBy": []
    },
    "deepnote_to_be_reexecuted": false,
    "execution_millis": 70,
    "execution_start": 1645987403323,
    "scrolled": true,
    "source_hash": "b6408cc3",
    "tags": []
   },
   "outputs": [
    {
     "data": {
      "text/html": [
       "<div>\n",
       "<style scoped>\n",
       "    .dataframe tbody tr th:only-of-type {\n",
       "        vertical-align: middle;\n",
       "    }\n",
       "\n",
       "    .dataframe tbody tr th {\n",
       "        vertical-align: top;\n",
       "    }\n",
       "\n",
       "    .dataframe thead th {\n",
       "        text-align: right;\n",
       "    }\n",
       "</style>\n",
       "<table border=\"1\" class=\"dataframe\">\n",
       "  <thead>\n",
       "    <tr style=\"text-align: right;\">\n",
       "      <th></th>\n",
       "      <th>Company</th>\n",
       "      <th>Sales</th>\n",
       "      <th>Stores</th>\n",
       "      <th>Sales/Avg. Store</th>\n",
       "      <th>Store Count Growth</th>\n",
       "      <th>Category</th>\n",
       "    </tr>\n",
       "  </thead>\n",
       "  <tbody>\n",
       "    <tr>\n",
       "      <th>0</th>\n",
       "      <td>Walmart US</td>\n",
       "      <td>658119</td>\n",
       "      <td>4574.0</td>\n",
       "      <td>65.649725</td>\n",
       "      <td>0.012843</td>\n",
       "      <td>Supercenters</td>\n",
       "    </tr>\n",
       "    <tr>\n",
       "      <th>1</th>\n",
       "      <td>Kroger</td>\n",
       "      <td>115037</td>\n",
       "      <td>3931.0</td>\n",
       "      <td>30.031850</td>\n",
       "      <td>0.053887</td>\n",
       "      <td>Grocery</td>\n",
       "    </tr>\n",
       "    <tr>\n",
       "      <th>2</th>\n",
       "      <td>Costco</td>\n",
       "      <td>90048</td>\n",
       "      <td>495.0</td>\n",
       "      <td>187.795620</td>\n",
       "      <td>0.066810</td>\n",
       "      <td>Warehouse Club</td>\n",
       "    </tr>\n",
       "    <tr>\n",
       "      <th>3</th>\n",
       "      <td>Home Depot</td>\n",
       "      <td>83976</td>\n",
       "      <td>1965.0</td>\n",
       "      <td>42.735878</td>\n",
       "      <td>0.000000</td>\n",
       "      <td>Home Improvement</td>\n",
       "    </tr>\n",
       "    <tr>\n",
       "      <th>4</th>\n",
       "      <td>Walgreen Boots</td>\n",
       "      <td>78924</td>\n",
       "      <td>8002.0</td>\n",
       "      <td>9.810927</td>\n",
       "      <td>-0.010511</td>\n",
       "      <td>Drug Stores</td>\n",
       "    </tr>\n",
       "    <tr>\n",
       "      <th>5</th>\n",
       "      <td>CVS incl. Target</td>\n",
       "      <td>77792</td>\n",
       "      <td>9813.0</td>\n",
       "      <td>8.825959</td>\n",
       "      <td>0.255662</td>\n",
       "      <td>Drug Stores</td>\n",
       "    </tr>\n",
       "    <tr>\n",
       "      <th>6</th>\n",
       "      <td>Amazon</td>\n",
       "      <td>71687</td>\n",
       "      <td>NaN</td>\n",
       "      <td>NaN</td>\n",
       "      <td>NaN</td>\n",
       "      <td>Electronic/Mail Order</td>\n",
       "    </tr>\n",
       "    <tr>\n",
       "      <th>7</th>\n",
       "      <td>Target</td>\n",
       "      <td>71208</td>\n",
       "      <td>1772.0</td>\n",
       "      <td>39.982033</td>\n",
       "      <td>-0.010056</td>\n",
       "      <td>Supercenters</td>\n",
       "    </tr>\n",
       "    <tr>\n",
       "      <th>8</th>\n",
       "      <td>Lowe's</td>\n",
       "      <td>60311</td>\n",
       "      <td>1828.0</td>\n",
       "      <td>33.311792</td>\n",
       "      <td>0.019520</td>\n",
       "      <td>Home Improvement</td>\n",
       "    </tr>\n",
       "    <tr>\n",
       "      <th>9</th>\n",
       "      <td>Albertsons</td>\n",
       "      <td>56829</td>\n",
       "      <td>2326.0</td>\n",
       "      <td>23.877731</td>\n",
       "      <td>-0.044371</td>\n",
       "      <td>Grocery</td>\n",
       "    </tr>\n",
       "    <tr>\n",
       "      <th>10</th>\n",
       "      <td>Sam's Club</td>\n",
       "      <td>56828</td>\n",
       "      <td>655.0</td>\n",
       "      <td>87.293395</td>\n",
       "      <td>0.012365</td>\n",
       "      <td>Warehouse Clubs</td>\n",
       "    </tr>\n",
       "    <tr>\n",
       "      <th>11</th>\n",
       "      <td>Apple incl. Online</td>\n",
       "      <td>37664</td>\n",
       "      <td>NaN</td>\n",
       "      <td>NaN</td>\n",
       "      <td>NaN</td>\n",
       "      <td>NaN</td>\n",
       "    </tr>\n",
       "    <tr>\n",
       "      <th>12</th>\n",
       "      <td>Best Buy</td>\n",
       "      <td>34980</td>\n",
       "      <td>1389.0</td>\n",
       "      <td>24.685956</td>\n",
       "      <td>-0.038754</td>\n",
       "      <td>Electronics</td>\n",
       "    </tr>\n",
       "    <tr>\n",
       "      <th>13</th>\n",
       "      <td>Publix</td>\n",
       "      <td>34408</td>\n",
       "      <td>1351.0</td>\n",
       "      <td>25.997733</td>\n",
       "      <td>0.042438</td>\n",
       "      <td>Grocery</td>\n",
       "    </tr>\n",
       "    <tr>\n",
       "      <th>14</th>\n",
       "      <td>Rite Aid</td>\n",
       "      <td>27486</td>\n",
       "      <td>4553.0</td>\n",
       "      <td>6.025649</td>\n",
       "      <td>-0.003720</td>\n",
       "      <td>Drug Stores</td>\n",
       "    </tr>\n",
       "    <tr>\n",
       "      <th>15</th>\n",
       "      <td>Ahold</td>\n",
       "      <td>26903</td>\n",
       "      <td>794.0</td>\n",
       "      <td>34.446863</td>\n",
       "      <td>0.033854</td>\n",
       "      <td>Grocery</td>\n",
       "    </tr>\n",
       "    <tr>\n",
       "      <th>16</th>\n",
       "      <td>Macy's</td>\n",
       "      <td>26028</td>\n",
       "      <td>889.0</td>\n",
       "      <td>30.442105</td>\n",
       "      <td>0.082826</td>\n",
       "      <td>Department Stores</td>\n",
       "    </tr>\n",
       "    <tr>\n",
       "      <th>17</th>\n",
       "      <td>TJX</td>\n",
       "      <td>25012</td>\n",
       "      <td>2770.0</td>\n",
       "      <td>9.369545</td>\n",
       "      <td>0.078241</td>\n",
       "      <td>Apparel</td>\n",
       "    </tr>\n",
       "    <tr>\n",
       "      <th>18</th>\n",
       "      <td>Aldi</td>\n",
       "      <td>24402</td>\n",
       "      <td>2021.0</td>\n",
       "      <td>12.715998</td>\n",
       "      <td>0.112273</td>\n",
       "      <td>Grocery</td>\n",
       "    </tr>\n",
       "    <tr>\n",
       "      <th>19</th>\n",
       "      <td>Dollar General</td>\n",
       "      <td>22234</td>\n",
       "      <td>13350.0</td>\n",
       "      <td>1.768885</td>\n",
       "      <td>0.132412</td>\n",
       "      <td>Dollar Stores</td>\n",
       "    </tr>\n",
       "    <tr>\n",
       "      <th>20</th>\n",
       "      <td>Dollar Tree</td>\n",
       "      <td>21464</td>\n",
       "      <td>14250.0</td>\n",
       "      <td>1.563919</td>\n",
       "      <td>0.079627</td>\n",
       "      <td>Dollar Stores</td>\n",
       "    </tr>\n",
       "    <tr>\n",
       "      <th>21</th>\n",
       "      <td>HEB</td>\n",
       "      <td>21384</td>\n",
       "      <td>323.0</td>\n",
       "      <td>66.825000</td>\n",
       "      <td>0.018927</td>\n",
       "      <td>Grocery</td>\n",
       "    </tr>\n",
       "    <tr>\n",
       "      <th>22</th>\n",
       "      <td>Kohl's</td>\n",
       "      <td>19060</td>\n",
       "      <td>1169.0</td>\n",
       "      <td>16.353496</td>\n",
       "      <td>0.006024</td>\n",
       "      <td>Department Stores</td>\n",
       "    </tr>\n",
       "    <tr>\n",
       "      <th>23</th>\n",
       "      <td>Delhaize</td>\n",
       "      <td>18201</td>\n",
       "      <td>1280.0</td>\n",
       "      <td>13.783415</td>\n",
       "      <td>-0.059515</td>\n",
       "      <td>Grocery</td>\n",
       "    </tr>\n",
       "    <tr>\n",
       "      <th>24</th>\n",
       "      <td>Meijer</td>\n",
       "      <td>16592</td>\n",
       "      <td>231.0</td>\n",
       "      <td>74.738739</td>\n",
       "      <td>0.084507</td>\n",
       "      <td>Supercenters</td>\n",
       "    </tr>\n",
       "  </tbody>\n",
       "</table>\n",
       "</div>"
      ],
      "text/plain": [
       "               Company   Sales   Stores  Sales/Avg. Store  Store Count Growth  \\\n",
       "0           Walmart US  658119   4574.0         65.649725            0.012843   \n",
       "1               Kroger  115037   3931.0         30.031850            0.053887   \n",
       "2               Costco   90048    495.0        187.795620            0.066810   \n",
       "3           Home Depot   83976   1965.0         42.735878            0.000000   \n",
       "4       Walgreen Boots   78924   8002.0          9.810927           -0.010511   \n",
       "5     CVS incl. Target   77792   9813.0          8.825959            0.255662   \n",
       "6               Amazon   71687      NaN               NaN                 NaN   \n",
       "7               Target   71208   1772.0         39.982033           -0.010056   \n",
       "8               Lowe's   60311   1828.0         33.311792            0.019520   \n",
       "9           Albertsons   56829   2326.0         23.877731           -0.044371   \n",
       "10          Sam's Club   56828    655.0         87.293395            0.012365   \n",
       "11  Apple incl. Online   37664      NaN               NaN                 NaN   \n",
       "12            Best Buy   34980   1389.0         24.685956           -0.038754   \n",
       "13              Publix   34408   1351.0         25.997733            0.042438   \n",
       "14            Rite Aid   27486   4553.0          6.025649           -0.003720   \n",
       "15               Ahold   26903    794.0         34.446863            0.033854   \n",
       "16              Macy's   26028    889.0         30.442105            0.082826   \n",
       "17                 TJX   25012   2770.0          9.369545            0.078241   \n",
       "18                Aldi   24402   2021.0         12.715998            0.112273   \n",
       "19      Dollar General   22234  13350.0          1.768885            0.132412   \n",
       "20         Dollar Tree   21464  14250.0          1.563919            0.079627   \n",
       "21                 HEB   21384    323.0         66.825000            0.018927   \n",
       "22              Kohl's   19060   1169.0         16.353496            0.006024   \n",
       "23            Delhaize   18201   1280.0         13.783415           -0.059515   \n",
       "24              Meijer   16592    231.0         74.738739            0.084507   \n",
       "\n",
       "                 Category  \n",
       "0            Supercenters  \n",
       "1                 Grocery  \n",
       "2          Warehouse Club  \n",
       "3        Home Improvement  \n",
       "4             Drug Stores  \n",
       "5             Drug Stores  \n",
       "6   Electronic/Mail Order  \n",
       "7            Supercenters  \n",
       "8        Home Improvement  \n",
       "9                 Grocery  \n",
       "10        Warehouse Clubs  \n",
       "11                    NaN  \n",
       "12            Electronics  \n",
       "13                Grocery  \n",
       "14            Drug Stores  \n",
       "15                Grocery  \n",
       "16      Department Stores  \n",
       "17                Apparel  \n",
       "18                Grocery  \n",
       "19          Dollar Stores  \n",
       "20          Dollar Stores  \n",
       "21                Grocery  \n",
       "22      Department Stores  \n",
       "23                Grocery  \n",
       "24           Supercenters  "
      ]
     },
     "execution_count": 4,
     "metadata": {},
     "output_type": "execute_result"
    }
   ],
   "source": [
    "# Explorar el archivo\n",
    "df"
   ]
  },
  {
   "cell_type": "markdown",
   "metadata": {},
   "source": [
    "### Primeras observaciones\n",
    "1. El reporte (dataframe) contiene 25 filas y 6 columnas\n",
    "2. Contiene información de las ventas totales (Sales), número de tiendas(Stores), promedio de ventas por tienda (Sales/Avg. Store), crecimiento por tienda ('Store Count Growth') y categoría (Category)\n",
    "3. Hay valores nulos en el reporte, lo cuales deben ser limpiados"
   ]
  },
  {
   "cell_type": "markdown",
   "metadata": {},
   "source": [
    "#### Limpieza del reporte, eliminación de valores nulos (NaN)\n",
    "* Eliminación de valores nulos (NaN) en columnas numéricas"
   ]
  },
  {
   "cell_type": "code",
   "execution_count": 5,
   "metadata": {},
   "outputs": [],
   "source": [
    "# This class finds columns with numerical dtypes (int64,float64) \n",
    "# and replaces NaN values for 0\n",
    "class FillNaN:\n",
    "    def __init__(self,dataframe) -> None:\n",
    "        self.dataframe = dataframe\n",
    "\n",
    "    def fill_numerical(self):\n",
    "        self.numerical_column_list = self.dataframe.dtypes[(self.dataframe.dtypes == 'int64') | (self.dataframe.dtypes == 'float64')].index\n",
    "\n",
    "        for col in self.numerical_column_list:\n",
    "            self.dataframe[col].replace(np.nan,0,inplace=True)\n",
    "\n",
    "        return self.dataframe"
   ]
  },
  {
   "cell_type": "code",
   "execution_count": 6,
   "metadata": {},
   "outputs": [],
   "source": [
    "df1 = FillNaN(df).fill_numerical()"
   ]
  },
  {
   "cell_type": "markdown",
   "metadata": {},
   "source": [
    "#### Reporte con valores nulos (NaN) eliminados"
   ]
  },
  {
   "cell_type": "code",
   "execution_count": 7,
   "metadata": {},
   "outputs": [
    {
     "data": {
      "text/html": [
       "<div>\n",
       "<style scoped>\n",
       "    .dataframe tbody tr th:only-of-type {\n",
       "        vertical-align: middle;\n",
       "    }\n",
       "\n",
       "    .dataframe tbody tr th {\n",
       "        vertical-align: top;\n",
       "    }\n",
       "\n",
       "    .dataframe thead th {\n",
       "        text-align: right;\n",
       "    }\n",
       "</style>\n",
       "<table border=\"1\" class=\"dataframe\">\n",
       "  <thead>\n",
       "    <tr style=\"text-align: right;\">\n",
       "      <th></th>\n",
       "      <th>Company</th>\n",
       "      <th>Sales</th>\n",
       "      <th>Stores</th>\n",
       "      <th>Sales/Avg. Store</th>\n",
       "      <th>Store Count Growth</th>\n",
       "      <th>Category</th>\n",
       "    </tr>\n",
       "  </thead>\n",
       "  <tbody>\n",
       "    <tr>\n",
       "      <th>0</th>\n",
       "      <td>Walmart US</td>\n",
       "      <td>658119</td>\n",
       "      <td>4574.0</td>\n",
       "      <td>65.649725</td>\n",
       "      <td>0.012843</td>\n",
       "      <td>Supercenters</td>\n",
       "    </tr>\n",
       "    <tr>\n",
       "      <th>1</th>\n",
       "      <td>Kroger</td>\n",
       "      <td>115037</td>\n",
       "      <td>3931.0</td>\n",
       "      <td>30.031850</td>\n",
       "      <td>0.053887</td>\n",
       "      <td>Grocery</td>\n",
       "    </tr>\n",
       "    <tr>\n",
       "      <th>2</th>\n",
       "      <td>Costco</td>\n",
       "      <td>90048</td>\n",
       "      <td>495.0</td>\n",
       "      <td>187.795620</td>\n",
       "      <td>0.066810</td>\n",
       "      <td>Warehouse Club</td>\n",
       "    </tr>\n",
       "    <tr>\n",
       "      <th>3</th>\n",
       "      <td>Home Depot</td>\n",
       "      <td>83976</td>\n",
       "      <td>1965.0</td>\n",
       "      <td>42.735878</td>\n",
       "      <td>0.000000</td>\n",
       "      <td>Home Improvement</td>\n",
       "    </tr>\n",
       "    <tr>\n",
       "      <th>4</th>\n",
       "      <td>Walgreen Boots</td>\n",
       "      <td>78924</td>\n",
       "      <td>8002.0</td>\n",
       "      <td>9.810927</td>\n",
       "      <td>-0.010511</td>\n",
       "      <td>Drug Stores</td>\n",
       "    </tr>\n",
       "    <tr>\n",
       "      <th>5</th>\n",
       "      <td>CVS incl. Target</td>\n",
       "      <td>77792</td>\n",
       "      <td>9813.0</td>\n",
       "      <td>8.825959</td>\n",
       "      <td>0.255662</td>\n",
       "      <td>Drug Stores</td>\n",
       "    </tr>\n",
       "    <tr>\n",
       "      <th>6</th>\n",
       "      <td>Amazon</td>\n",
       "      <td>71687</td>\n",
       "      <td>0.0</td>\n",
       "      <td>0.000000</td>\n",
       "      <td>0.000000</td>\n",
       "      <td>Electronic/Mail Order</td>\n",
       "    </tr>\n",
       "    <tr>\n",
       "      <th>7</th>\n",
       "      <td>Target</td>\n",
       "      <td>71208</td>\n",
       "      <td>1772.0</td>\n",
       "      <td>39.982033</td>\n",
       "      <td>-0.010056</td>\n",
       "      <td>Supercenters</td>\n",
       "    </tr>\n",
       "    <tr>\n",
       "      <th>8</th>\n",
       "      <td>Lowe's</td>\n",
       "      <td>60311</td>\n",
       "      <td>1828.0</td>\n",
       "      <td>33.311792</td>\n",
       "      <td>0.019520</td>\n",
       "      <td>Home Improvement</td>\n",
       "    </tr>\n",
       "    <tr>\n",
       "      <th>9</th>\n",
       "      <td>Albertsons</td>\n",
       "      <td>56829</td>\n",
       "      <td>2326.0</td>\n",
       "      <td>23.877731</td>\n",
       "      <td>-0.044371</td>\n",
       "      <td>Grocery</td>\n",
       "    </tr>\n",
       "    <tr>\n",
       "      <th>10</th>\n",
       "      <td>Sam's Club</td>\n",
       "      <td>56828</td>\n",
       "      <td>655.0</td>\n",
       "      <td>87.293395</td>\n",
       "      <td>0.012365</td>\n",
       "      <td>Warehouse Clubs</td>\n",
       "    </tr>\n",
       "    <tr>\n",
       "      <th>11</th>\n",
       "      <td>Apple incl. Online</td>\n",
       "      <td>37664</td>\n",
       "      <td>0.0</td>\n",
       "      <td>0.000000</td>\n",
       "      <td>0.000000</td>\n",
       "      <td>NaN</td>\n",
       "    </tr>\n",
       "    <tr>\n",
       "      <th>12</th>\n",
       "      <td>Best Buy</td>\n",
       "      <td>34980</td>\n",
       "      <td>1389.0</td>\n",
       "      <td>24.685956</td>\n",
       "      <td>-0.038754</td>\n",
       "      <td>Electronics</td>\n",
       "    </tr>\n",
       "    <tr>\n",
       "      <th>13</th>\n",
       "      <td>Publix</td>\n",
       "      <td>34408</td>\n",
       "      <td>1351.0</td>\n",
       "      <td>25.997733</td>\n",
       "      <td>0.042438</td>\n",
       "      <td>Grocery</td>\n",
       "    </tr>\n",
       "    <tr>\n",
       "      <th>14</th>\n",
       "      <td>Rite Aid</td>\n",
       "      <td>27486</td>\n",
       "      <td>4553.0</td>\n",
       "      <td>6.025649</td>\n",
       "      <td>-0.003720</td>\n",
       "      <td>Drug Stores</td>\n",
       "    </tr>\n",
       "    <tr>\n",
       "      <th>15</th>\n",
       "      <td>Ahold</td>\n",
       "      <td>26903</td>\n",
       "      <td>794.0</td>\n",
       "      <td>34.446863</td>\n",
       "      <td>0.033854</td>\n",
       "      <td>Grocery</td>\n",
       "    </tr>\n",
       "    <tr>\n",
       "      <th>16</th>\n",
       "      <td>Macy's</td>\n",
       "      <td>26028</td>\n",
       "      <td>889.0</td>\n",
       "      <td>30.442105</td>\n",
       "      <td>0.082826</td>\n",
       "      <td>Department Stores</td>\n",
       "    </tr>\n",
       "    <tr>\n",
       "      <th>17</th>\n",
       "      <td>TJX</td>\n",
       "      <td>25012</td>\n",
       "      <td>2770.0</td>\n",
       "      <td>9.369545</td>\n",
       "      <td>0.078241</td>\n",
       "      <td>Apparel</td>\n",
       "    </tr>\n",
       "    <tr>\n",
       "      <th>18</th>\n",
       "      <td>Aldi</td>\n",
       "      <td>24402</td>\n",
       "      <td>2021.0</td>\n",
       "      <td>12.715998</td>\n",
       "      <td>0.112273</td>\n",
       "      <td>Grocery</td>\n",
       "    </tr>\n",
       "    <tr>\n",
       "      <th>19</th>\n",
       "      <td>Dollar General</td>\n",
       "      <td>22234</td>\n",
       "      <td>13350.0</td>\n",
       "      <td>1.768885</td>\n",
       "      <td>0.132412</td>\n",
       "      <td>Dollar Stores</td>\n",
       "    </tr>\n",
       "    <tr>\n",
       "      <th>20</th>\n",
       "      <td>Dollar Tree</td>\n",
       "      <td>21464</td>\n",
       "      <td>14250.0</td>\n",
       "      <td>1.563919</td>\n",
       "      <td>0.079627</td>\n",
       "      <td>Dollar Stores</td>\n",
       "    </tr>\n",
       "    <tr>\n",
       "      <th>21</th>\n",
       "      <td>HEB</td>\n",
       "      <td>21384</td>\n",
       "      <td>323.0</td>\n",
       "      <td>66.825000</td>\n",
       "      <td>0.018927</td>\n",
       "      <td>Grocery</td>\n",
       "    </tr>\n",
       "    <tr>\n",
       "      <th>22</th>\n",
       "      <td>Kohl's</td>\n",
       "      <td>19060</td>\n",
       "      <td>1169.0</td>\n",
       "      <td>16.353496</td>\n",
       "      <td>0.006024</td>\n",
       "      <td>Department Stores</td>\n",
       "    </tr>\n",
       "    <tr>\n",
       "      <th>23</th>\n",
       "      <td>Delhaize</td>\n",
       "      <td>18201</td>\n",
       "      <td>1280.0</td>\n",
       "      <td>13.783415</td>\n",
       "      <td>-0.059515</td>\n",
       "      <td>Grocery</td>\n",
       "    </tr>\n",
       "    <tr>\n",
       "      <th>24</th>\n",
       "      <td>Meijer</td>\n",
       "      <td>16592</td>\n",
       "      <td>231.0</td>\n",
       "      <td>74.738739</td>\n",
       "      <td>0.084507</td>\n",
       "      <td>Supercenters</td>\n",
       "    </tr>\n",
       "  </tbody>\n",
       "</table>\n",
       "</div>"
      ],
      "text/plain": [
       "               Company   Sales   Stores  Sales/Avg. Store  Store Count Growth  \\\n",
       "0           Walmart US  658119   4574.0         65.649725            0.012843   \n",
       "1               Kroger  115037   3931.0         30.031850            0.053887   \n",
       "2               Costco   90048    495.0        187.795620            0.066810   \n",
       "3           Home Depot   83976   1965.0         42.735878            0.000000   \n",
       "4       Walgreen Boots   78924   8002.0          9.810927           -0.010511   \n",
       "5     CVS incl. Target   77792   9813.0          8.825959            0.255662   \n",
       "6               Amazon   71687      0.0          0.000000            0.000000   \n",
       "7               Target   71208   1772.0         39.982033           -0.010056   \n",
       "8               Lowe's   60311   1828.0         33.311792            0.019520   \n",
       "9           Albertsons   56829   2326.0         23.877731           -0.044371   \n",
       "10          Sam's Club   56828    655.0         87.293395            0.012365   \n",
       "11  Apple incl. Online   37664      0.0          0.000000            0.000000   \n",
       "12            Best Buy   34980   1389.0         24.685956           -0.038754   \n",
       "13              Publix   34408   1351.0         25.997733            0.042438   \n",
       "14            Rite Aid   27486   4553.0          6.025649           -0.003720   \n",
       "15               Ahold   26903    794.0         34.446863            0.033854   \n",
       "16              Macy's   26028    889.0         30.442105            0.082826   \n",
       "17                 TJX   25012   2770.0          9.369545            0.078241   \n",
       "18                Aldi   24402   2021.0         12.715998            0.112273   \n",
       "19      Dollar General   22234  13350.0          1.768885            0.132412   \n",
       "20         Dollar Tree   21464  14250.0          1.563919            0.079627   \n",
       "21                 HEB   21384    323.0         66.825000            0.018927   \n",
       "22              Kohl's   19060   1169.0         16.353496            0.006024   \n",
       "23            Delhaize   18201   1280.0         13.783415           -0.059515   \n",
       "24              Meijer   16592    231.0         74.738739            0.084507   \n",
       "\n",
       "                 Category  \n",
       "0            Supercenters  \n",
       "1                 Grocery  \n",
       "2          Warehouse Club  \n",
       "3        Home Improvement  \n",
       "4             Drug Stores  \n",
       "5             Drug Stores  \n",
       "6   Electronic/Mail Order  \n",
       "7            Supercenters  \n",
       "8        Home Improvement  \n",
       "9                 Grocery  \n",
       "10        Warehouse Clubs  \n",
       "11                    NaN  \n",
       "12            Electronics  \n",
       "13                Grocery  \n",
       "14            Drug Stores  \n",
       "15                Grocery  \n",
       "16      Department Stores  \n",
       "17                Apparel  \n",
       "18                Grocery  \n",
       "19          Dollar Stores  \n",
       "20          Dollar Stores  \n",
       "21                Grocery  \n",
       "22      Department Stores  \n",
       "23                Grocery  \n",
       "24           Supercenters  "
      ]
     },
     "execution_count": 7,
     "metadata": {},
     "output_type": "execute_result"
    }
   ],
   "source": [
    "df1"
   ]
  },
  {
   "cell_type": "markdown",
   "metadata": {
    "cell_id": "151fe191-4ae4-4012-a990-c88ddbec0df4",
    "deepnote_cell_type": "markdown",
    "tags": []
   },
   "source": [
    "#### Explorar la columna 'Category'"
   ]
  },
  {
   "cell_type": "code",
   "execution_count": 8,
   "metadata": {
    "cell_id": "3859d989-d4b9-4eb8-b183-fe2b90ccf114",
    "deepnote_cell_type": "code",
    "deepnote_to_be_reexecuted": false,
    "execution_millis": 7,
    "execution_start": 1645987403398,
    "source_hash": "44f1de8e",
    "tags": []
   },
   "outputs": [
    {
     "data": {
      "text/plain": [
       "0              Supercenters\n",
       "1                   Grocery\n",
       "2            Warehouse Club\n",
       "3          Home Improvement\n",
       "4               Drug Stores\n",
       "5               Drug Stores\n",
       "6     Electronic/Mail Order\n",
       "7              Supercenters\n",
       "8          Home Improvement\n",
       "9                   Grocery\n",
       "10          Warehouse Clubs\n",
       "11                      NaN\n",
       "12              Electronics\n",
       "13                  Grocery\n",
       "14              Drug Stores\n",
       "15                  Grocery\n",
       "16        Department Stores\n",
       "17                  Apparel\n",
       "18                  Grocery\n",
       "19            Dollar Stores\n",
       "20            Dollar Stores\n",
       "21                  Grocery\n",
       "22        Department Stores\n",
       "23                  Grocery\n",
       "24             Supercenters\n",
       "Name: Category, dtype: object"
      ]
     },
     "execution_count": 8,
     "metadata": {},
     "output_type": "execute_result"
    }
   ],
   "source": [
    "# Listar las categorias\n",
    "df.Category"
   ]
  },
  {
   "cell_type": "markdown",
   "metadata": {
    "cell_id": "b6f81796-ed60-43bd-80a2-eafea17633f4",
    "deepnote_cell_type": "markdown",
    "tags": []
   },
   "source": [
    "#### Observaciones\n",
    "1. La empresa Apple incl. Online, tiene valor nulo (NaN), no tiene categoria. Esta empresa se le puede reasignar la categoria: Electronic/Mail Order, ya que sus operaciones se basan en compra y envío por internet.\n",
    "2. Se puede normalizar la categoria: Warehouse Club, se encontraron 2 cateogrias con nombre similares: *Warehouse Club* y *Warehouse Clubs*"
   ]
  },
  {
   "cell_type": "markdown",
   "metadata": {
    "cell_id": "5e695311-3351-42d3-8b5e-f8be5c0c290b",
    "deepnote_cell_type": "markdown",
    "tags": []
   },
   "source": [
    "#### Asignar la categoria 'Electronic/Mail Order' a la empresa Apple incl. Online "
   ]
  },
  {
   "cell_type": "code",
   "execution_count": 9,
   "metadata": {
    "cell_id": "27697a7a-a27e-4871-9a38-a73037b5b9f3",
    "deepnote_cell_type": "code",
    "deepnote_to_be_reexecuted": false,
    "execution_millis": 6,
    "execution_start": 1645987403436,
    "scrolled": true,
    "source_hash": "d77478f6",
    "tags": []
   },
   "outputs": [
    {
     "data": {
      "text/html": [
       "<div>\n",
       "<style scoped>\n",
       "    .dataframe tbody tr th:only-of-type {\n",
       "        vertical-align: middle;\n",
       "    }\n",
       "\n",
       "    .dataframe tbody tr th {\n",
       "        vertical-align: top;\n",
       "    }\n",
       "\n",
       "    .dataframe thead th {\n",
       "        text-align: right;\n",
       "    }\n",
       "</style>\n",
       "<table border=\"1\" class=\"dataframe\">\n",
       "  <thead>\n",
       "    <tr style=\"text-align: right;\">\n",
       "      <th></th>\n",
       "      <th>Company</th>\n",
       "      <th>Sales</th>\n",
       "      <th>Stores</th>\n",
       "      <th>Sales/Avg. Store</th>\n",
       "      <th>Store Count Growth</th>\n",
       "      <th>Category</th>\n",
       "    </tr>\n",
       "  </thead>\n",
       "  <tbody>\n",
       "    <tr>\n",
       "      <th>11</th>\n",
       "      <td>Apple incl. Online</td>\n",
       "      <td>37664</td>\n",
       "      <td>0.0</td>\n",
       "      <td>0.0</td>\n",
       "      <td>0.0</td>\n",
       "      <td>Electronic/Mail Order</td>\n",
       "    </tr>\n",
       "  </tbody>\n",
       "</table>\n",
       "</div>"
      ],
      "text/plain": [
       "               Company  Sales  Stores  Sales/Avg. Store  Store Count Growth  \\\n",
       "11  Apple incl. Online  37664     0.0               0.0                 0.0   \n",
       "\n",
       "                 Category  \n",
       "11  Electronic/Mail Order  "
      ]
     },
     "execution_count": 9,
     "metadata": {},
     "output_type": "execute_result"
    }
   ],
   "source": [
    "df1['Category'] = df1['Category'].replace(np.nan,'Electronic/Mail Order')\n",
    "\n",
    "# 3. Verificar cambio\n",
    "df1[df1['Company']=='Apple incl. Online']\n"
   ]
  },
  {
   "cell_type": "markdown",
   "metadata": {
    "cell_id": "a3bc2ea0-c678-4084-b815-3b3d34f7eb54",
    "deepnote_cell_type": "markdown",
    "tags": []
   },
   "source": [
    "#### Normalizar la categoria *Warehouse Club* \n",
    "\n",
    "* Reemplazar el valor 'Warehouse Clubs' por el valor 'Warehouse Club'\n",
    "* Codigo sugerido: ```df['column name'] = df['column name'].replace(['old value'],'new value')```"
   ]
  },
  {
   "cell_type": "code",
   "execution_count": 11,
   "metadata": {
    "cell_id": "6829baf6-d570-46d5-9411-55c990a9a199",
    "deepnote_cell_type": "code",
    "deepnote_to_be_reexecuted": false,
    "execution_millis": 2,
    "execution_start": 1645987403438,
    "source_hash": "1fa4a88f",
    "tags": []
   },
   "outputs": [],
   "source": [
    "df1['Category'] = df1['Category'].replace(['Warehouse Clubs'],'Warehouse Club')"
   ]
  },
  {
   "cell_type": "markdown",
   "metadata": {},
   "source": [
    "#### Reporte limpio y listo para analizar"
   ]
  },
  {
   "cell_type": "code",
   "execution_count": 12,
   "metadata": {},
   "outputs": [
    {
     "data": {
      "text/html": [
       "<div>\n",
       "<style scoped>\n",
       "    .dataframe tbody tr th:only-of-type {\n",
       "        vertical-align: middle;\n",
       "    }\n",
       "\n",
       "    .dataframe tbody tr th {\n",
       "        vertical-align: top;\n",
       "    }\n",
       "\n",
       "    .dataframe thead th {\n",
       "        text-align: right;\n",
       "    }\n",
       "</style>\n",
       "<table border=\"1\" class=\"dataframe\">\n",
       "  <thead>\n",
       "    <tr style=\"text-align: right;\">\n",
       "      <th></th>\n",
       "      <th>Company</th>\n",
       "      <th>Sales</th>\n",
       "      <th>Stores</th>\n",
       "      <th>Sales/Avg. Store</th>\n",
       "      <th>Store Count Growth</th>\n",
       "      <th>Category</th>\n",
       "    </tr>\n",
       "  </thead>\n",
       "  <tbody>\n",
       "    <tr>\n",
       "      <th>0</th>\n",
       "      <td>Walmart US</td>\n",
       "      <td>658119</td>\n",
       "      <td>4574.0</td>\n",
       "      <td>65.649725</td>\n",
       "      <td>0.012843</td>\n",
       "      <td>Supercenters</td>\n",
       "    </tr>\n",
       "    <tr>\n",
       "      <th>1</th>\n",
       "      <td>Kroger</td>\n",
       "      <td>115037</td>\n",
       "      <td>3931.0</td>\n",
       "      <td>30.031850</td>\n",
       "      <td>0.053887</td>\n",
       "      <td>Grocery</td>\n",
       "    </tr>\n",
       "    <tr>\n",
       "      <th>2</th>\n",
       "      <td>Costco</td>\n",
       "      <td>90048</td>\n",
       "      <td>495.0</td>\n",
       "      <td>187.795620</td>\n",
       "      <td>0.066810</td>\n",
       "      <td>Warehouse Club</td>\n",
       "    </tr>\n",
       "    <tr>\n",
       "      <th>3</th>\n",
       "      <td>Home Depot</td>\n",
       "      <td>83976</td>\n",
       "      <td>1965.0</td>\n",
       "      <td>42.735878</td>\n",
       "      <td>0.000000</td>\n",
       "      <td>Home Improvement</td>\n",
       "    </tr>\n",
       "    <tr>\n",
       "      <th>4</th>\n",
       "      <td>Walgreen Boots</td>\n",
       "      <td>78924</td>\n",
       "      <td>8002.0</td>\n",
       "      <td>9.810927</td>\n",
       "      <td>-0.010511</td>\n",
       "      <td>Drug Stores</td>\n",
       "    </tr>\n",
       "    <tr>\n",
       "      <th>5</th>\n",
       "      <td>CVS incl. Target</td>\n",
       "      <td>77792</td>\n",
       "      <td>9813.0</td>\n",
       "      <td>8.825959</td>\n",
       "      <td>0.255662</td>\n",
       "      <td>Drug Stores</td>\n",
       "    </tr>\n",
       "    <tr>\n",
       "      <th>6</th>\n",
       "      <td>Amazon</td>\n",
       "      <td>71687</td>\n",
       "      <td>0.0</td>\n",
       "      <td>0.000000</td>\n",
       "      <td>0.000000</td>\n",
       "      <td>Electronic/Mail Order</td>\n",
       "    </tr>\n",
       "    <tr>\n",
       "      <th>7</th>\n",
       "      <td>Target</td>\n",
       "      <td>71208</td>\n",
       "      <td>1772.0</td>\n",
       "      <td>39.982033</td>\n",
       "      <td>-0.010056</td>\n",
       "      <td>Supercenters</td>\n",
       "    </tr>\n",
       "    <tr>\n",
       "      <th>8</th>\n",
       "      <td>Lowe's</td>\n",
       "      <td>60311</td>\n",
       "      <td>1828.0</td>\n",
       "      <td>33.311792</td>\n",
       "      <td>0.019520</td>\n",
       "      <td>Home Improvement</td>\n",
       "    </tr>\n",
       "    <tr>\n",
       "      <th>9</th>\n",
       "      <td>Albertsons</td>\n",
       "      <td>56829</td>\n",
       "      <td>2326.0</td>\n",
       "      <td>23.877731</td>\n",
       "      <td>-0.044371</td>\n",
       "      <td>Grocery</td>\n",
       "    </tr>\n",
       "    <tr>\n",
       "      <th>10</th>\n",
       "      <td>Sam's Club</td>\n",
       "      <td>56828</td>\n",
       "      <td>655.0</td>\n",
       "      <td>87.293395</td>\n",
       "      <td>0.012365</td>\n",
       "      <td>Warehouse Club</td>\n",
       "    </tr>\n",
       "    <tr>\n",
       "      <th>11</th>\n",
       "      <td>Apple incl. Online</td>\n",
       "      <td>37664</td>\n",
       "      <td>0.0</td>\n",
       "      <td>0.000000</td>\n",
       "      <td>0.000000</td>\n",
       "      <td>Electronic/Mail Order</td>\n",
       "    </tr>\n",
       "    <tr>\n",
       "      <th>12</th>\n",
       "      <td>Best Buy</td>\n",
       "      <td>34980</td>\n",
       "      <td>1389.0</td>\n",
       "      <td>24.685956</td>\n",
       "      <td>-0.038754</td>\n",
       "      <td>Electronics</td>\n",
       "    </tr>\n",
       "    <tr>\n",
       "      <th>13</th>\n",
       "      <td>Publix</td>\n",
       "      <td>34408</td>\n",
       "      <td>1351.0</td>\n",
       "      <td>25.997733</td>\n",
       "      <td>0.042438</td>\n",
       "      <td>Grocery</td>\n",
       "    </tr>\n",
       "    <tr>\n",
       "      <th>14</th>\n",
       "      <td>Rite Aid</td>\n",
       "      <td>27486</td>\n",
       "      <td>4553.0</td>\n",
       "      <td>6.025649</td>\n",
       "      <td>-0.003720</td>\n",
       "      <td>Drug Stores</td>\n",
       "    </tr>\n",
       "    <tr>\n",
       "      <th>15</th>\n",
       "      <td>Ahold</td>\n",
       "      <td>26903</td>\n",
       "      <td>794.0</td>\n",
       "      <td>34.446863</td>\n",
       "      <td>0.033854</td>\n",
       "      <td>Grocery</td>\n",
       "    </tr>\n",
       "    <tr>\n",
       "      <th>16</th>\n",
       "      <td>Macy's</td>\n",
       "      <td>26028</td>\n",
       "      <td>889.0</td>\n",
       "      <td>30.442105</td>\n",
       "      <td>0.082826</td>\n",
       "      <td>Department Stores</td>\n",
       "    </tr>\n",
       "    <tr>\n",
       "      <th>17</th>\n",
       "      <td>TJX</td>\n",
       "      <td>25012</td>\n",
       "      <td>2770.0</td>\n",
       "      <td>9.369545</td>\n",
       "      <td>0.078241</td>\n",
       "      <td>Apparel</td>\n",
       "    </tr>\n",
       "    <tr>\n",
       "      <th>18</th>\n",
       "      <td>Aldi</td>\n",
       "      <td>24402</td>\n",
       "      <td>2021.0</td>\n",
       "      <td>12.715998</td>\n",
       "      <td>0.112273</td>\n",
       "      <td>Grocery</td>\n",
       "    </tr>\n",
       "    <tr>\n",
       "      <th>19</th>\n",
       "      <td>Dollar General</td>\n",
       "      <td>22234</td>\n",
       "      <td>13350.0</td>\n",
       "      <td>1.768885</td>\n",
       "      <td>0.132412</td>\n",
       "      <td>Dollar Stores</td>\n",
       "    </tr>\n",
       "    <tr>\n",
       "      <th>20</th>\n",
       "      <td>Dollar Tree</td>\n",
       "      <td>21464</td>\n",
       "      <td>14250.0</td>\n",
       "      <td>1.563919</td>\n",
       "      <td>0.079627</td>\n",
       "      <td>Dollar Stores</td>\n",
       "    </tr>\n",
       "    <tr>\n",
       "      <th>21</th>\n",
       "      <td>HEB</td>\n",
       "      <td>21384</td>\n",
       "      <td>323.0</td>\n",
       "      <td>66.825000</td>\n",
       "      <td>0.018927</td>\n",
       "      <td>Grocery</td>\n",
       "    </tr>\n",
       "    <tr>\n",
       "      <th>22</th>\n",
       "      <td>Kohl's</td>\n",
       "      <td>19060</td>\n",
       "      <td>1169.0</td>\n",
       "      <td>16.353496</td>\n",
       "      <td>0.006024</td>\n",
       "      <td>Department Stores</td>\n",
       "    </tr>\n",
       "    <tr>\n",
       "      <th>23</th>\n",
       "      <td>Delhaize</td>\n",
       "      <td>18201</td>\n",
       "      <td>1280.0</td>\n",
       "      <td>13.783415</td>\n",
       "      <td>-0.059515</td>\n",
       "      <td>Grocery</td>\n",
       "    </tr>\n",
       "    <tr>\n",
       "      <th>24</th>\n",
       "      <td>Meijer</td>\n",
       "      <td>16592</td>\n",
       "      <td>231.0</td>\n",
       "      <td>74.738739</td>\n",
       "      <td>0.084507</td>\n",
       "      <td>Supercenters</td>\n",
       "    </tr>\n",
       "  </tbody>\n",
       "</table>\n",
       "</div>"
      ],
      "text/plain": [
       "               Company   Sales   Stores  Sales/Avg. Store  Store Count Growth  \\\n",
       "0           Walmart US  658119   4574.0         65.649725            0.012843   \n",
       "1               Kroger  115037   3931.0         30.031850            0.053887   \n",
       "2               Costco   90048    495.0        187.795620            0.066810   \n",
       "3           Home Depot   83976   1965.0         42.735878            0.000000   \n",
       "4       Walgreen Boots   78924   8002.0          9.810927           -0.010511   \n",
       "5     CVS incl. Target   77792   9813.0          8.825959            0.255662   \n",
       "6               Amazon   71687      0.0          0.000000            0.000000   \n",
       "7               Target   71208   1772.0         39.982033           -0.010056   \n",
       "8               Lowe's   60311   1828.0         33.311792            0.019520   \n",
       "9           Albertsons   56829   2326.0         23.877731           -0.044371   \n",
       "10          Sam's Club   56828    655.0         87.293395            0.012365   \n",
       "11  Apple incl. Online   37664      0.0          0.000000            0.000000   \n",
       "12            Best Buy   34980   1389.0         24.685956           -0.038754   \n",
       "13              Publix   34408   1351.0         25.997733            0.042438   \n",
       "14            Rite Aid   27486   4553.0          6.025649           -0.003720   \n",
       "15               Ahold   26903    794.0         34.446863            0.033854   \n",
       "16              Macy's   26028    889.0         30.442105            0.082826   \n",
       "17                 TJX   25012   2770.0          9.369545            0.078241   \n",
       "18                Aldi   24402   2021.0         12.715998            0.112273   \n",
       "19      Dollar General   22234  13350.0          1.768885            0.132412   \n",
       "20         Dollar Tree   21464  14250.0          1.563919            0.079627   \n",
       "21                 HEB   21384    323.0         66.825000            0.018927   \n",
       "22              Kohl's   19060   1169.0         16.353496            0.006024   \n",
       "23            Delhaize   18201   1280.0         13.783415           -0.059515   \n",
       "24              Meijer   16592    231.0         74.738739            0.084507   \n",
       "\n",
       "                 Category  \n",
       "0            Supercenters  \n",
       "1                 Grocery  \n",
       "2          Warehouse Club  \n",
       "3        Home Improvement  \n",
       "4             Drug Stores  \n",
       "5             Drug Stores  \n",
       "6   Electronic/Mail Order  \n",
       "7            Supercenters  \n",
       "8        Home Improvement  \n",
       "9                 Grocery  \n",
       "10         Warehouse Club  \n",
       "11  Electronic/Mail Order  \n",
       "12            Electronics  \n",
       "13                Grocery  \n",
       "14            Drug Stores  \n",
       "15                Grocery  \n",
       "16      Department Stores  \n",
       "17                Apparel  \n",
       "18                Grocery  \n",
       "19          Dollar Stores  \n",
       "20          Dollar Stores  \n",
       "21                Grocery  \n",
       "22      Department Stores  \n",
       "23                Grocery  \n",
       "24           Supercenters  "
      ]
     },
     "execution_count": 12,
     "metadata": {},
     "output_type": "execute_result"
    }
   ],
   "source": [
    "df1"
   ]
  },
  {
   "cell_type": "markdown",
   "metadata": {
    "cell_id": "48c13371-72e8-4519-b7f9-1c2edb27d252",
    "deepnote_cell_type": "text-cell-h3",
    "is_collapsed": false,
    "tags": []
   },
   "source": [
    "## 2. Análisis"
   ]
  },
  {
   "cell_type": "code",
   "execution_count": 14,
   "metadata": {
    "scrolled": true
   },
   "outputs": [
    {
     "data": {
      "text/html": [
       "<div>\n",
       "<style scoped>\n",
       "    .dataframe tbody tr th:only-of-type {\n",
       "        vertical-align: middle;\n",
       "    }\n",
       "\n",
       "    .dataframe tbody tr th {\n",
       "        vertical-align: top;\n",
       "    }\n",
       "\n",
       "    .dataframe thead th {\n",
       "        text-align: right;\n",
       "    }\n",
       "</style>\n",
       "<table border=\"1\" class=\"dataframe\">\n",
       "  <thead>\n",
       "    <tr style=\"text-align: right;\">\n",
       "      <th></th>\n",
       "      <th>Sales</th>\n",
       "      <th>Stores</th>\n",
       "      <th>Sales/Avg. Store</th>\n",
       "      <th>Store Count Growth</th>\n",
       "    </tr>\n",
       "  </thead>\n",
       "  <tbody>\n",
       "    <tr>\n",
       "      <th>count</th>\n",
       "      <td>25.000000</td>\n",
       "      <td>25.000000</td>\n",
       "      <td>25.000000</td>\n",
       "      <td>25.000000</td>\n",
       "    </tr>\n",
       "    <tr>\n",
       "      <th>mean</th>\n",
       "      <td>71063.080000</td>\n",
       "      <td>3189.240000</td>\n",
       "      <td>33.921289</td>\n",
       "      <td>0.037012</td>\n",
       "    </tr>\n",
       "    <tr>\n",
       "      <th>std</th>\n",
       "      <td>125405.727644</td>\n",
       "      <td>3984.120117</td>\n",
       "      <td>40.213239</td>\n",
       "      <td>0.066572</td>\n",
       "    </tr>\n",
       "    <tr>\n",
       "      <th>min</th>\n",
       "      <td>16592.000000</td>\n",
       "      <td>0.000000</td>\n",
       "      <td>0.000000</td>\n",
       "      <td>-0.059515</td>\n",
       "    </tr>\n",
       "    <tr>\n",
       "      <th>25%</th>\n",
       "      <td>24402.000000</td>\n",
       "      <td>794.000000</td>\n",
       "      <td>9.369545</td>\n",
       "      <td>0.000000</td>\n",
       "    </tr>\n",
       "    <tr>\n",
       "      <th>50%</th>\n",
       "      <td>34980.000000</td>\n",
       "      <td>1772.000000</td>\n",
       "      <td>24.685956</td>\n",
       "      <td>0.018927</td>\n",
       "    </tr>\n",
       "    <tr>\n",
       "      <th>75%</th>\n",
       "      <td>71687.000000</td>\n",
       "      <td>3931.000000</td>\n",
       "      <td>39.982033</td>\n",
       "      <td>0.078241</td>\n",
       "    </tr>\n",
       "    <tr>\n",
       "      <th>max</th>\n",
       "      <td>658119.000000</td>\n",
       "      <td>14250.000000</td>\n",
       "      <td>187.795620</td>\n",
       "      <td>0.255662</td>\n",
       "    </tr>\n",
       "  </tbody>\n",
       "</table>\n",
       "</div>"
      ],
      "text/plain": [
       "               Sales        Stores  Sales/Avg. Store  Store Count Growth\n",
       "count      25.000000     25.000000         25.000000           25.000000\n",
       "mean    71063.080000   3189.240000         33.921289            0.037012\n",
       "std    125405.727644   3984.120117         40.213239            0.066572\n",
       "min     16592.000000      0.000000          0.000000           -0.059515\n",
       "25%     24402.000000    794.000000          9.369545            0.000000\n",
       "50%     34980.000000   1772.000000         24.685956            0.018927\n",
       "75%     71687.000000   3931.000000         39.982033            0.078241\n",
       "max    658119.000000  14250.000000        187.795620            0.255662"
      ]
     },
     "execution_count": 14,
     "metadata": {},
     "output_type": "execute_result"
    }
   ],
   "source": [
    "df1.describe()"
   ]
  },
  {
   "cell_type": "markdown",
   "metadata": {},
   "source": [
    "#### Gráfica de barra para visualizar las ventas totales por empresa"
   ]
  },
  {
   "cell_type": "code",
   "execution_count": 18,
   "metadata": {},
   "outputs": [
    {
     "data": {
      "image/png": "[encoded data removed]",
      "text/plain": [
       "<Figure size 640x480 with 1 Axes>"
      ]
     },
     "metadata": {},
     "output_type": "display_data"
    }
   ],
   "source": [
    "# Organizar el dataframe por la columna 'compañías'\n",
    "df1 = df1.sort_values('Sales',ascending=False)\n",
    "\n",
    "# Graficar la cantidad de tiendas por categoría\n",
    "x = df1['Company']\n",
    "y = df1['Sales']\n",
    "plt.bar(x,y)\n",
    "# plt.xlabel('Empresa')\n",
    "plt.ylabel('Ventas $USD')\n",
    "plt.xticks(rotation='vertical')\n",
    "plt.show()"
   ]
  },
  {
   "cell_type": "markdown",
   "metadata": {
    "cell_id": "6023c03b-d8c7-466e-810b-35e3ddb544ba",
    "deepnote_cell_type": "markdown",
    "tags": []
   },
   "source": [
    "#### Crear un Dataframe con el número de empresas por categoria"
   ]
  },
  {
   "cell_type": "code",
   "execution_count": null,
   "metadata": {
    "cell_id": "c957ad53-1d60-4fdf-9597-b3605293af7a",
    "deepnote_cell_type": "code",
    "deepnote_to_be_reexecuted": false,
    "execution_millis": 12,
    "execution_start": 1645987403477,
    "source_hash": "d094842",
    "tags": []
   },
   "outputs": [
    {
     "data": {
      "application/vnd.deepnote.dataframe.v3+json": {
       "column_count": 2,
       "columns": [
        {
         "dtype": "object",
         "name": "categoria",
         "stats": {
          "categories": [
           {
            "count": 1,
            "name": "Supercenters"
           },
           {
            "count": 1,
            "name": "Grocery"
           },
           {
            "count": 8,
            "name": "8 others"
           }
          ],
          "nan_count": 0,
          "unique_count": 10
         }
        },
        {
         "dtype": "int64",
         "name": "compañías",
         "stats": {
          "histogram": [
           {
            "bin_end": 1.6,
            "bin_start": 1,
            "count": 2
           },
           {
            "bin_end": 2.2,
            "bin_start": 1.6,
            "count": 5
           },
           {
            "bin_end": 2.8,
            "bin_start": 2.2,
            "count": 0
           },
           {
            "bin_end": 3.4,
            "bin_start": 2.8,
            "count": 2
           },
           {
            "bin_end": 4,
            "bin_start": 3.4,
            "count": 0
           },
           {
            "bin_end": 4.6,
            "bin_start": 4,
            "count": 0
           },
           {
            "bin_end": 5.2,
            "bin_start": 4.6,
            "count": 0
           },
           {
            "bin_end": 5.8,
            "bin_start": 5.2,
            "count": 0
           },
           {
            "bin_end": 6.3999999999999995,
            "bin_start": 5.8,
            "count": 0
           },
           {
            "bin_end": 7,
            "bin_start": 6.3999999999999995,
            "count": 1
           }
          ],
          "max": "7",
          "min": "1",
          "nan_count": 0,
          "unique_count": 4
         }
        },
        {
         "dtype": "int64",
         "name": "_deepnote_index_column"
        }
       ],
       "row_count": 10,
       "rows": [
        {
         "_deepnote_index_column": 0,
         "categoria": "Supercenters",
         "compañías": 3
        },
        {
         "_deepnote_index_column": 1,
         "categoria": "Grocery",
         "compañías": 7
        },
        {
         "_deepnote_index_column": 2,
         "categoria": "Warehouse Club",
         "compañías": 2
        },
        {
         "_deepnote_index_column": 3,
         "categoria": "Home Improvement",
         "compañías": 2
        },
        {
         "_deepnote_index_column": 4,
         "categoria": "Drug Store",
         "compañías": 3
        },
        {
         "_deepnote_index_column": 5,
         "categoria": "Electronic/Mail Order",
         "compañías": 2
        },
        {
         "_deepnote_index_column": 6,
         "categoria": "Electronics",
         "compañías": 1
        },
        {
         "_deepnote_index_column": 7,
         "categoria": "Department Stores",
         "compañías": 2
        },
        {
         "_deepnote_index_column": 8,
         "categoria": "Apparel",
         "compañías": 1
        },
        {
         "_deepnote_index_column": 9,
         "categoria": "Dollar Stores",
         "compañías": 2
        }
       ]
      },
      "text/html": [
       "<div>\n",
       "<style scoped>\n",
       "    .dataframe tbody tr th:only-of-type {\n",
       "        vertical-align: middle;\n",
       "    }\n",
       "\n",
       "    .dataframe tbody tr th {\n",
       "        vertical-align: top;\n",
       "    }\n",
       "\n",
       "    .dataframe thead th {\n",
       "        text-align: right;\n",
       "    }\n",
       "</style>\n",
       "<table border=\"1\" class=\"dataframe\">\n",
       "  <thead>\n",
       "    <tr style=\"text-align: right;\">\n",
       "      <th></th>\n",
       "      <th>categoria</th>\n",
       "      <th>compañías</th>\n",
       "    </tr>\n",
       "  </thead>\n",
       "  <tbody>\n",
       "    <tr>\n",
       "      <th>0</th>\n",
       "      <td>Supercenters</td>\n",
       "      <td>3</td>\n",
       "    </tr>\n",
       "    <tr>\n",
       "      <th>1</th>\n",
       "      <td>Grocery</td>\n",
       "      <td>7</td>\n",
       "    </tr>\n",
       "    <tr>\n",
       "      <th>2</th>\n",
       "      <td>Warehouse Club</td>\n",
       "      <td>2</td>\n",
       "    </tr>\n",
       "    <tr>\n",
       "      <th>3</th>\n",
       "      <td>Home Improvement</td>\n",
       "      <td>2</td>\n",
       "    </tr>\n",
       "    <tr>\n",
       "      <th>4</th>\n",
       "      <td>Drug Store</td>\n",
       "      <td>3</td>\n",
       "    </tr>\n",
       "    <tr>\n",
       "      <th>5</th>\n",
       "      <td>Electronic/Mail Order</td>\n",
       "      <td>2</td>\n",
       "    </tr>\n",
       "    <tr>\n",
       "      <th>6</th>\n",
       "      <td>Electronics</td>\n",
       "      <td>1</td>\n",
       "    </tr>\n",
       "    <tr>\n",
       "      <th>7</th>\n",
       "      <td>Department Stores</td>\n",
       "      <td>2</td>\n",
       "    </tr>\n",
       "    <tr>\n",
       "      <th>8</th>\n",
       "      <td>Apparel</td>\n",
       "      <td>1</td>\n",
       "    </tr>\n",
       "    <tr>\n",
       "      <th>9</th>\n",
       "      <td>Dollar Stores</td>\n",
       "      <td>2</td>\n",
       "    </tr>\n",
       "  </tbody>\n",
       "</table>\n",
       "</div>"
      ],
      "text/plain": [
       "               categoria  compañías\n",
       "0           Supercenters          3\n",
       "1                Grocery          7\n",
       "2         Warehouse Club          2\n",
       "3       Home Improvement          2\n",
       "4             Drug Store          3\n",
       "5  Electronic/Mail Order          2\n",
       "6            Electronics          1\n",
       "7      Department Stores          2\n",
       "8                Apparel          1\n",
       "9          Dollar Stores          2"
      ]
     },
     "execution_count": 12,
     "metadata": {},
     "output_type": "execute_result"
    }
   ],
   "source": [
    "# Crear una estructura que permita identificar la cantidad de compañías \n",
    "# por categoría\n",
    "category_dict = {\n",
    "    'Supercenters' : df_category[df_category == 'Supercenters'].count(),\n",
    "    'Grocery' : df_category[df_category == 'Grocery'].count(),\n",
    "    'Warehouse Club' : (df_category[df_category == 'Warehouse Club'].count()) \n",
    "    + (df_category[df_category == 'Warehouse Clubs'].count()),\n",
    "    'Home Improvement' : df_category[df_category == 'Home Improvement'].count(),\n",
    "    'Drug Store': df_category[df_category == 'Drug Stores'].count(),\n",
    "    'Electronic/Mail Order' : df_category[df_category == 'Electronic/Mail Order'].count(),\n",
    "    'Electronics' : df_category[df_category == 'Electronics'].count(),\n",
    "    'Department Stores' : df_category[df_category == 'Department Stores'].count(),\n",
    "    'Apparel' : df_category[df_category == 'Apparel'].count(),\n",
    "    'Dollar Stores' : df_category[df_category == 'Dollar Stores'].count()\n",
    "}\n",
    "\n",
    "# print(category_dict)\n",
    "\n",
    "# Convertir el diccionario en un Dataframe\n",
    "category_dict_df = {\n",
    "    \"categoria\" : category_dict.keys(),\n",
    "    \"compañías\" : category_dict.values()\n",
    "}\n",
    "\n",
    "df_category_df = pd.DataFrame(category_dict_df)\n",
    "df_category_df\n",
    "\n"
   ]
  },
  {
   "cell_type": "markdown",
   "metadata": {
    "cell_id": "465d4dbb-6664-464c-82c1-3a9d80e4193b",
    "deepnote_cell_type": "markdown",
    "tags": []
   },
   "source": [
    "#### Confirmar que la suma de las tiendas sea igual a 25"
   ]
  },
  {
   "cell_type": "code",
   "execution_count": null,
   "metadata": {
    "cell_id": "0932d910-87e6-4e7e-9c7c-933a9837934c",
    "deepnote_cell_type": "code",
    "deepnote_to_be_reexecuted": false,
    "execution_millis": 9,
    "execution_start": 1645987403482,
    "source_hash": "a9516caf",
    "tags": []
   },
   "outputs": [
    {
     "name": "stdout",
     "output_type": "stream",
     "text": [
      "25\n"
     ]
    }
   ],
   "source": [
    "# Confirmar que la suma de las tiendas sea igual a 25\n",
    "from functools import reduce\n",
    "\n",
    "sum_tiendas = reduce(lambda r,e : r + e,df_category_df['compañías'])\n",
    "print( sum_tiendas)"
   ]
  },
  {
   "cell_type": "markdown",
   "metadata": {
    "cell_id": "8b8a50d5-c3fa-4b8d-b6c8-58b98a1c7066",
    "deepnote_cell_type": "markdown",
    "tags": []
   },
   "source": [
    "#### Graficar la cantidad de empresas por categoria"
   ]
  },
  {
   "cell_type": "code",
   "execution_count": null,
   "metadata": {
    "cell_id": "fc95e41b-8b89-4bfc-b6a9-90f74fc93766",
    "deepnote_cell_type": "code",
    "deepnote_to_be_reexecuted": false,
    "execution_millis": 306,
    "execution_start": 1645987403495,
    "source_hash": "dd480e78",
    "tags": []
   },
   "outputs": [
    {
     "data": {
      "image/png": "[encoded data removed]",
      "text/plain": [
       "<Figure size 432x288 with 1 Axes>"
      ]
     },
     "metadata": {
      "image/png": {
       "height": 357,
       "width": 376
      },
      "needs_background": "light"
     },
     "output_type": "display_data"
    }
   ],
   "source": [
    "# Organizar el dataframe por la columna 'compañías'\n",
    "df_category_sort = df_category_df.sort_values('compañías',ascending=False)\n",
    "\n",
    "# Graficar la cantidad de tiendas por categoría\n",
    "x = df_category_sort['categoria']\n",
    "y = df_category_sort['compañías']\n",
    "plt.bar(x,y)\n",
    "plt.xlabel('Categorias')\n",
    "plt.ylabel('Empresas')\n",
    "plt.xticks(rotation='vertical')\n",
    "plt.show()"
   ]
  },
  {
   "cell_type": "markdown",
   "metadata": {
    "cell_id": "9201847f-d392-4d48-9357-9d739cef3fa9",
    "deepnote_cell_type": "markdown",
    "tags": []
   },
   "source": [
    "#### Observaciones\n",
    "1. La categoria que tiene más empresas es la categoría *Grocery* con 7 \n",
    "2. En segundo lugar están dos categorías con 3 empresas cada una *Supercenter* y *Drug Store*\n",
    "3. Hay 5 categorias que tienen 2 empresas. Las categorias son *Warehouse Club*, *Home Improvement*, *Electronic/Mail Order*, *Departmente Stores* y *Dollar Stores*\n",
    "4. Hay dos categorias con 1 empresa cada una: *Electronics* y *Apparel*"
   ]
  },
  {
   "cell_type": "markdown",
   "metadata": {
    "cell_id": "45c84fef-03c3-44fb-af93-baa0d42336ed",
    "deepnote_cell_type": "markdown",
    "tags": []
   },
   "source": [
    "#### Graficar la proporción de empresas por categoria"
   ]
  },
  {
   "cell_type": "code",
   "execution_count": null,
   "metadata": {
    "cell_id": "783e5be1-6794-418c-9369-78dea356a45f",
    "deepnote_cell_type": "code",
    "deepnote_to_be_reexecuted": false,
    "execution_millis": 650,
    "execution_start": 1645987403807,
    "source_hash": "bba3d2a1",
    "tags": []
   },
   "outputs": [
    {
     "data": {
      "image/png": "[encoded data removed]",
      "text/plain": [
       "<Figure size 432x288 with 1 Axes>"
      ]
     },
     "metadata": {
      "image/png": {
       "height": 403,
       "width": 552
      }
     },
     "output_type": "display_data"
    }
   ],
   "source": [
    "# Graficar la proporción de empresas por categoría\n",
    "pie_values = df_category_df['compañías']\n",
    "pie_labels = df_category_df['categoria']\n",
    "plt.axis(\"equal\")\n",
    "plt.pie(pie_values,labels=pie_labels, radius=2, autopct='%0.0f%%')\n",
    "plt.show()"
   ]
  },
  {
   "cell_type": "markdown",
   "metadata": {
    "cell_id": "ee0a699e-334f-443b-8be8-56a4e1564917",
    "deepnote_cell_type": "markdown",
    "tags": []
   },
   "source": [
    "#### Observaciones\n",
    "1. La categoría *Grocery* representa el 28% del total de empresas\n",
    "2. Las categoriás *Supercenter* y *Drug Store* representan el 12% del total respectivamente"
   ]
  },
  {
   "cell_type": "markdown",
   "metadata": {
    "cell_id": "996cabd4-f53f-47f1-8047-4ac0fe5df6e5",
    "deepnote_cell_type": "markdown",
    "tags": []
   },
   "source": [
    "#### Analizar y relacionar las ventas por categorías"
   ]
  },
  {
   "cell_type": "code",
   "execution_count": null,
   "metadata": {
    "cell_id": "bf3ad756-5027-43ef-a0d6-da7196e8b42b",
    "deepnote_cell_type": "code",
    "deepnote_to_be_reexecuted": false,
    "execution_millis": 355,
    "execution_start": 1645987404105,
    "source_hash": "d8d462d3",
    "tags": []
   },
   "outputs": [
    {
     "data": {
      "application/vnd.deepnote.dataframe.v3+json": {
       "column_count": 2,
       "columns": [
        {
         "dtype": "int64",
         "name": "Sales",
         "stats": {
          "histogram": [
           {
            "bin_end": 97102.7,
            "bin_start": 25012,
            "count": 4
           },
           {
            "bin_end": 169193.4,
            "bin_start": 97102.7,
            "count": 3
           },
           {
            "bin_end": 241284.09999999998,
            "bin_start": 169193.4,
            "count": 1
           },
           {
            "bin_end": 313374.8,
            "bin_start": 241284.09999999998,
            "count": 1
           },
           {
            "bin_end": 385465.5,
            "bin_start": 313374.8,
            "count": 0
           },
           {
            "bin_end": 457556.19999999995,
            "bin_start": 385465.5,
            "count": 0
           },
           {
            "bin_end": 529646.8999999999,
            "bin_start": 457556.19999999995,
            "count": 0
           },
           {
            "bin_end": 601737.6,
            "bin_start": 529646.8999999999,
            "count": 0
           },
           {
            "bin_end": 673828.2999999999,
            "bin_start": 601737.6,
            "count": 0
           },
           {
            "bin_end": 745919,
            "bin_start": 673828.2999999999,
            "count": 1
           }
          ],
          "max": "745919",
          "min": "25012",
          "nan_count": 0,
          "unique_count": 10
         }
        },
        {
         "dtype": "object",
         "name": "categoria",
         "stats": {
          "categories": [
           {
            "count": 1,
            "name": "Apparel"
           },
           {
            "count": 1,
            "name": "Department Stores"
           },
           {
            "count": 8,
            "name": "8 others"
           }
          ],
          "nan_count": 0,
          "unique_count": 10
         }
        },
        {
         "dtype": "object",
         "name": "_deepnote_index_column"
        }
       ],
       "row_count": 10,
       "rows": [
        {
         "Sales": 25012,
         "_deepnote_index_column": "Apparel",
         "categoria": "Apparel"
        },
        {
         "Sales": 45088,
         "_deepnote_index_column": "Department Stores",
         "categoria": "Department Stores"
        },
        {
         "Sales": 43698,
         "_deepnote_index_column": "Dollar Stores",
         "categoria": "Dollar Stores"
        },
        {
         "Sales": 184202,
         "_deepnote_index_column": "Drug Stores",
         "categoria": "Drug Stores"
        },
        {
         "Sales": 109351,
         "_deepnote_index_column": "Electronic/Mail Order",
         "categoria": "Electronic/Mail Order"
        },
        {
         "Sales": 34980,
         "_deepnote_index_column": "Electronics",
         "categoria": "Electronics"
        },
        {
         "Sales": 297164,
         "_deepnote_index_column": "Grocery",
         "categoria": "Grocery"
        },
        {
         "Sales": 144287,
         "_deepnote_index_column": "Home Improvement",
         "categoria": "Home Improvement"
        },
        {
         "Sales": 745919,
         "_deepnote_index_column": "Supercenters",
         "categoria": "Supercenters"
        },
        {
         "Sales": 146876,
         "_deepnote_index_column": "Warehouse Club",
         "categoria": "Warehouse Club"
        }
       ]
      },
      "text/html": [
       "<div>\n",
       "<style scoped>\n",
       "    .dataframe tbody tr th:only-of-type {\n",
       "        vertical-align: middle;\n",
       "    }\n",
       "\n",
       "    .dataframe tbody tr th {\n",
       "        vertical-align: top;\n",
       "    }\n",
       "\n",
       "    .dataframe thead th {\n",
       "        text-align: right;\n",
       "    }\n",
       "</style>\n",
       "<table border=\"1\" class=\"dataframe\">\n",
       "  <thead>\n",
       "    <tr style=\"text-align: right;\">\n",
       "      <th></th>\n",
       "      <th>Sales</th>\n",
       "      <th>categoria</th>\n",
       "    </tr>\n",
       "    <tr>\n",
       "      <th>Category</th>\n",
       "      <th></th>\n",
       "      <th></th>\n",
       "    </tr>\n",
       "  </thead>\n",
       "  <tbody>\n",
       "    <tr>\n",
       "      <th>Apparel</th>\n",
       "      <td>25012</td>\n",
       "      <td>Apparel</td>\n",
       "    </tr>\n",
       "    <tr>\n",
       "      <th>Department Stores</th>\n",
       "      <td>45088</td>\n",
       "      <td>Department Stores</td>\n",
       "    </tr>\n",
       "    <tr>\n",
       "      <th>Dollar Stores</th>\n",
       "      <td>43698</td>\n",
       "      <td>Dollar Stores</td>\n",
       "    </tr>\n",
       "    <tr>\n",
       "      <th>Drug Stores</th>\n",
       "      <td>184202</td>\n",
       "      <td>Drug Stores</td>\n",
       "    </tr>\n",
       "    <tr>\n",
       "      <th>Electronic/Mail Order</th>\n",
       "      <td>109351</td>\n",
       "      <td>Electronic/Mail Order</td>\n",
       "    </tr>\n",
       "    <tr>\n",
       "      <th>Electronics</th>\n",
       "      <td>34980</td>\n",
       "      <td>Electronics</td>\n",
       "    </tr>\n",
       "    <tr>\n",
       "      <th>Grocery</th>\n",
       "      <td>297164</td>\n",
       "      <td>Grocery</td>\n",
       "    </tr>\n",
       "    <tr>\n",
       "      <th>Home Improvement</th>\n",
       "      <td>144287</td>\n",
       "      <td>Home Improvement</td>\n",
       "    </tr>\n",
       "    <tr>\n",
       "      <th>Supercenters</th>\n",
       "      <td>745919</td>\n",
       "      <td>Supercenters</td>\n",
       "    </tr>\n",
       "    <tr>\n",
       "      <th>Warehouse Club</th>\n",
       "      <td>146876</td>\n",
       "      <td>Warehouse Club</td>\n",
       "    </tr>\n",
       "  </tbody>\n",
       "</table>\n",
       "</div>"
      ],
      "text/plain": [
       "                        Sales              categoria\n",
       "Category                                            \n",
       "Apparel                 25012                Apparel\n",
       "Department Stores       45088      Department Stores\n",
       "Dollar Stores           43698          Dollar Stores\n",
       "Drug Stores            184202            Drug Stores\n",
       "Electronic/Mail Order  109351  Electronic/Mail Order\n",
       "Electronics             34980            Electronics\n",
       "Grocery                297164                Grocery\n",
       "Home Improvement       144287       Home Improvement\n",
       "Supercenters           745919           Supercenters\n",
       "Warehouse Club         146876         Warehouse Club"
      ]
     },
     "execution_count": 16,
     "metadata": {},
     "output_type": "execute_result"
    }
   ],
   "source": [
    "# agrupar ventas por categoria\n",
    "sales_list = df_complete.groupby('Category')['Sales'].sum()\n",
    "# convertir a dataframe\n",
    "sales_list_df = pd.DataFrame(sales_list)\n",
    "# agregar columna 'categoria' a partir del índice\n",
    "sales_list_df['categoria'] = sales_list_df.index\n",
    "#desplegar dataframe con las columnas de sales y categoria\n",
    "sales_list_df"
   ]
  },
  {
   "cell_type": "code",
   "execution_count": null,
   "metadata": {
    "cell_id": "1f4ce831-ab51-489b-b482-2c1476cff2c9",
    "deepnote_cell_type": "code",
    "deepnote_to_be_reexecuted": false,
    "execution_millis": 350,
    "execution_start": 1645987404111,
    "source_hash": "f1d2f548",
    "tags": []
   },
   "outputs": [
    {
     "data": {
      "application/vnd.deepnote.dataframe.v3+json": {
       "column_count": 2,
       "columns": [
        {
         "dtype": "int64",
         "name": "Sales",
         "stats": {
          "histogram": [
           {
            "bin_end": 745918.6,
            "bin_start": 745918.5,
            "count": 0
           },
           {
            "bin_end": 745918.7,
            "bin_start": 745918.6,
            "count": 0
           },
           {
            "bin_end": 745918.8,
            "bin_start": 745918.7,
            "count": 0
           },
           {
            "bin_end": 745918.9,
            "bin_start": 745918.8,
            "count": 0
           },
           {
            "bin_end": 745919,
            "bin_start": 745918.9,
            "count": 0
           },
           {
            "bin_end": 745919.1,
            "bin_start": 745919,
            "count": 1
           },
           {
            "bin_end": 745919.2,
            "bin_start": 745919.1,
            "count": 0
           },
           {
            "bin_end": 745919.3,
            "bin_start": 745919.2,
            "count": 0
           },
           {
            "bin_end": 745919.4,
            "bin_start": 745919.3,
            "count": 0
           },
           {
            "bin_end": 745919.5,
            "bin_start": 745919.4,
            "count": 0
           }
          ],
          "max": "745919",
          "min": "745919",
          "nan_count": 0,
          "unique_count": 1
         }
        },
        {
         "dtype": "object",
         "name": "categoria",
         "stats": {
          "categories": [
           {
            "count": 1,
            "name": "Supercenters"
           }
          ],
          "nan_count": 0,
          "unique_count": 1
         }
        },
        {
         "dtype": "object",
         "name": "_deepnote_index_column"
        }
       ],
       "row_count": 1,
       "rows": [
        {
         "Sales": 745919,
         "_deepnote_index_column": "Supercenters",
         "categoria": "Supercenters"
        }
       ]
      },
      "text/html": [
       "<div>\n",
       "<style scoped>\n",
       "    .dataframe tbody tr th:only-of-type {\n",
       "        vertical-align: middle;\n",
       "    }\n",
       "\n",
       "    .dataframe tbody tr th {\n",
       "        vertical-align: top;\n",
       "    }\n",
       "\n",
       "    .dataframe thead th {\n",
       "        text-align: right;\n",
       "    }\n",
       "</style>\n",
       "<table border=\"1\" class=\"dataframe\">\n",
       "  <thead>\n",
       "    <tr style=\"text-align: right;\">\n",
       "      <th></th>\n",
       "      <th>Sales</th>\n",
       "      <th>categoria</th>\n",
       "    </tr>\n",
       "    <tr>\n",
       "      <th>Category</th>\n",
       "      <th></th>\n",
       "      <th></th>\n",
       "    </tr>\n",
       "  </thead>\n",
       "  <tbody>\n",
       "    <tr>\n",
       "      <th>Supercenters</th>\n",
       "      <td>745919</td>\n",
       "      <td>Supercenters</td>\n",
       "    </tr>\n",
       "  </tbody>\n",
       "</table>\n",
       "</div>"
      ],
      "text/plain": [
       "               Sales     categoria\n",
       "Category                          \n",
       "Supercenters  745919  Supercenters"
      ]
     },
     "execution_count": 17,
     "metadata": {},
     "output_type": "execute_result"
    }
   ],
   "source": [
    "# Categoria con más ventas\n",
    "sales_list_df[sales_list_df.Sales == sales_list_df.Sales.max()]"
   ]
  },
  {
   "cell_type": "code",
   "execution_count": null,
   "metadata": {
    "cell_id": "747d623e-5f61-4d2f-b308-88633789d919",
    "deepnote_cell_type": "code",
    "deepnote_to_be_reexecuted": false,
    "execution_millis": 331,
    "execution_start": 1645987404130,
    "source_hash": "aee5aa9b",
    "tags": []
   },
   "outputs": [
    {
     "data": {
      "application/vnd.deepnote.dataframe.v3+json": {
       "column_count": 2,
       "columns": [
        {
         "dtype": "int64",
         "name": "Sales",
         "stats": {
          "histogram": [
           {
            "bin_end": 25011.6,
            "bin_start": 25011.5,
            "count": 0
           },
           {
            "bin_end": 25011.7,
            "bin_start": 25011.6,
            "count": 0
           },
           {
            "bin_end": 25011.8,
            "bin_start": 25011.7,
            "count": 0
           },
           {
            "bin_end": 25011.9,
            "bin_start": 25011.8,
            "count": 0
           },
           {
            "bin_end": 25012,
            "bin_start": 25011.9,
            "count": 0
           },
           {
            "bin_end": 25012.1,
            "bin_start": 25012,
            "count": 1
           },
           {
            "bin_end": 25012.2,
            "bin_start": 25012.1,
            "count": 0
           },
           {
            "bin_end": 25012.3,
            "bin_start": 25012.2,
            "count": 0
           },
           {
            "bin_end": 25012.4,
            "bin_start": 25012.3,
            "count": 0
           },
           {
            "bin_end": 25012.5,
            "bin_start": 25012.4,
            "count": 0
           }
          ],
          "max": "25012",
          "min": "25012",
          "nan_count": 0,
          "unique_count": 1
         }
        },
        {
         "dtype": "object",
         "name": "categoria",
         "stats": {
          "categories": [
           {
            "count": 1,
            "name": "Apparel"
           }
          ],
          "nan_count": 0,
          "unique_count": 1
         }
        },
        {
         "dtype": "object",
         "name": "_deepnote_index_column"
        }
       ],
       "row_count": 1,
       "rows": [
        {
         "Sales": 25012,
         "_deepnote_index_column": "Apparel",
         "categoria": "Apparel"
        }
       ]
      },
      "text/html": [
       "<div>\n",
       "<style scoped>\n",
       "    .dataframe tbody tr th:only-of-type {\n",
       "        vertical-align: middle;\n",
       "    }\n",
       "\n",
       "    .dataframe tbody tr th {\n",
       "        vertical-align: top;\n",
       "    }\n",
       "\n",
       "    .dataframe thead th {\n",
       "        text-align: right;\n",
       "    }\n",
       "</style>\n",
       "<table border=\"1\" class=\"dataframe\">\n",
       "  <thead>\n",
       "    <tr style=\"text-align: right;\">\n",
       "      <th></th>\n",
       "      <th>Sales</th>\n",
       "      <th>categoria</th>\n",
       "    </tr>\n",
       "    <tr>\n",
       "      <th>Category</th>\n",
       "      <th></th>\n",
       "      <th></th>\n",
       "    </tr>\n",
       "  </thead>\n",
       "  <tbody>\n",
       "    <tr>\n",
       "      <th>Apparel</th>\n",
       "      <td>25012</td>\n",
       "      <td>Apparel</td>\n",
       "    </tr>\n",
       "  </tbody>\n",
       "</table>\n",
       "</div>"
      ],
      "text/plain": [
       "          Sales categoria\n",
       "Category                 \n",
       "Apparel   25012   Apparel"
      ]
     },
     "execution_count": 18,
     "metadata": {},
     "output_type": "execute_result"
    }
   ],
   "source": [
    "# Categoria con menos ventas\n",
    "sales_list_df[sales_list_df.Sales == sales_list_df.Sales.min()]"
   ]
  },
  {
   "cell_type": "markdown",
   "metadata": {
    "cell_id": "f2834a4c-754e-4fd0-9e8d-05af01c7df41",
    "deepnote_cell_type": "markdown",
    "tags": []
   },
   "source": [
    "#### Graficar la distribución de ventas por categorias"
   ]
  },
  {
   "cell_type": "code",
   "execution_count": null,
   "metadata": {
    "cell_id": "4d1133e6-e84e-4539-b3b1-f1a138df0900",
    "deepnote_cell_type": "code",
    "deepnote_to_be_reexecuted": false,
    "execution_millis": 271,
    "execution_start": 1645987404191,
    "source_hash": "bb2c5085",
    "tags": []
   },
   "outputs": [
    {
     "data": {
      "image/png": "[encoded data removed]",
      "text/plain": [
       "<Figure size 432x288 with 1 Axes>"
      ]
     },
     "metadata": {
      "image/png": {
       "height": 376,
       "width": 407
      },
      "needs_background": "light"
     },
     "output_type": "display_data"
    }
   ],
   "source": [
    "sales_list_df.describe()\n",
    "df_sales_list_sorted = sales_list_df.sort_values('Sales',ascending=False)\n",
    "# observar la distribución de ventas por categoria\n",
    "x = df_sales_list_sorted['categoria']\n",
    "y = df_sales_list_sorted['Sales']\n",
    "c = ['#9966cc','#a4c639','#a4c639','#a4c639','#a4c639','#a4c639','#ff9966','#ff9966','#ff9966','#ff9966']\n",
    "plt.bar(x,y, color=c)\n",
    "plt.title('Distribución de ventas por categoria', fontsize=15)\n",
    "plt.xlabel('Categorias')\n",
    "plt.ylabel('Ventas')\n",
    "plt.xticks(rotation='vertical')\n",
    "plt.show()"
   ]
  },
  {
   "cell_type": "markdown",
   "metadata": {
    "cell_id": "0b57c724-e9bc-4278-8bcb-d78ad83acf23",
    "deepnote_cell_type": "markdown",
    "tags": []
   },
   "source": [
    "#### Graficar la proporción de ventas por categoria"
   ]
  },
  {
   "cell_type": "code",
   "execution_count": null,
   "metadata": {
    "cell_id": "ad39bb44-f3fb-4264-b1ba-a90bfb6237cc",
    "deepnote_cell_type": "code",
    "deepnote_to_be_reexecuted": false,
    "execution_millis": 197,
    "execution_start": 1645987404427,
    "source_hash": "c40724fd",
    "tags": []
   },
   "outputs": [
    {
     "data": {
      "image/png": "[encoded data removed]",
      "text/plain": [
       "<Figure size 432x288 with 1 Axes>"
      ]
     },
     "metadata": {
      "image/png": {
       "height": 399,
       "width": 581
      }
     },
     "output_type": "display_data"
    }
   ],
   "source": [
    "# Graficar la proporción de ventas por categoria\n",
    "pie_sales = sales_list_df['Sales']\n",
    "pie_category = sales_list_df['categoria']\n",
    "plt.axis(\"equal\")\n",
    "plt.pie(pie_sales,labels=pie_category, radius=2, autopct='%0.0f%%')\n",
    "plt.show()"
   ]
  },
  {
   "cell_type": "markdown",
   "metadata": {
    "cell_id": "3a0853fd-6a5b-412f-bfd2-e5c6fe259f3b",
    "deepnote_cell_type": "markdown",
    "tags": []
   },
   "source": [
    "#### Observaciones\n",
    "\n",
    "1. Se puede observar que la categoria *Supercenters* representa el 42% de las ventas totales\n",
    "\n",
    "2. La categoria *Grocery* es la categoria que está en segundo lugar con el 17% de las ventas totales\n",
    "3. La categoria *Apparel*, es la categoria que tuvo menos ventas\n"
   ]
  },
  {
   "cell_type": "code",
   "execution_count": null,
   "metadata": {
    "cell_id": "9c561c2b-a002-4e34-86c2-a9b59daef8a8",
    "deepnote_cell_type": "code",
    "deepnote_to_be_reexecuted": false,
    "execution_millis": 10,
    "execution_start": 1645987404685,
    "source_hash": "e3a200b4",
    "tags": []
   },
   "outputs": [
    {
     "data": {
      "application/vnd.deepnote.dataframe.v3+json": {
       "column_count": 2,
       "columns": [
        {
         "dtype": "float64",
         "name": "Stores",
         "stats": {
          "histogram": [
           {
            "bin_end": 2760,
            "bin_start": 0,
            "count": 4
           },
           {
            "bin_end": 5520,
            "bin_start": 2760,
            "count": 2
           },
           {
            "bin_end": 8280,
            "bin_start": 5520,
            "count": 1
           },
           {
            "bin_end": 11040,
            "bin_start": 8280,
            "count": 0
           },
           {
            "bin_end": 13800,
            "bin_start": 11040,
            "count": 1
           },
           {
            "bin_end": 16560,
            "bin_start": 13800,
            "count": 0
           },
           {
            "bin_end": 19320,
            "bin_start": 16560,
            "count": 0
           },
           {
            "bin_end": 22080,
            "bin_start": 19320,
            "count": 0
           },
           {
            "bin_end": 24840,
            "bin_start": 22080,
            "count": 1
           },
           {
            "bin_end": 27600,
            "bin_start": 24840,
            "count": 1
           }
          ],
          "max": "27600.0",
          "min": "0.0",
          "nan_count": 0,
          "unique_count": 10
         }
        },
        {
         "dtype": "object",
         "name": "Category",
         "stats": {
          "categories": [
           {
            "count": 1,
            "name": "Apparel"
           },
           {
            "count": 1,
            "name": "Department Stores"
           },
           {
            "count": 8,
            "name": "8 others"
           }
          ],
          "nan_count": 0,
          "unique_count": 10
         }
        },
        {
         "dtype": "object",
         "name": "_deepnote_index_column"
        }
       ],
       "row_count": 10,
       "rows": [
        {
         "Category": "Apparel",
         "Stores": 2770,
         "_deepnote_index_column": "Apparel"
        },
        {
         "Category": "Department Stores",
         "Stores": 2058,
         "_deepnote_index_column": "Department Stores"
        },
        {
         "Category": "Dollar Stores",
         "Stores": 27600,
         "_deepnote_index_column": "Dollar Stores"
        },
        {
         "Category": "Drug Stores",
         "Stores": 22368,
         "_deepnote_index_column": "Drug Stores"
        },
        {
         "Category": "Electronic/Mail Order",
         "Stores": 0,
         "_deepnote_index_column": "Electronic/Mail Order"
        },
        {
         "Category": "Electronics",
         "Stores": 1389,
         "_deepnote_index_column": "Electronics"
        },
        {
         "Category": "Grocery",
         "Stores": 12026,
         "_deepnote_index_column": "Grocery"
        },
        {
         "Category": "Home Improvement",
         "Stores": 3793,
         "_deepnote_index_column": "Home Improvement"
        },
        {
         "Category": "Supercenters",
         "Stores": 6577,
         "_deepnote_index_column": "Supercenters"
        },
        {
         "Category": "Warehouse Club",
         "Stores": 1150,
         "_deepnote_index_column": "Warehouse Club"
        }
       ]
      },
      "text/html": [
       "<div>\n",
       "<style scoped>\n",
       "    .dataframe tbody tr th:only-of-type {\n",
       "        vertical-align: middle;\n",
       "    }\n",
       "\n",
       "    .dataframe tbody tr th {\n",
       "        vertical-align: top;\n",
       "    }\n",
       "\n",
       "    .dataframe thead th {\n",
       "        text-align: right;\n",
       "    }\n",
       "</style>\n",
       "<table border=\"1\" class=\"dataframe\">\n",
       "  <thead>\n",
       "    <tr style=\"text-align: right;\">\n",
       "      <th></th>\n",
       "      <th>Stores</th>\n",
       "      <th>Category</th>\n",
       "    </tr>\n",
       "    <tr>\n",
       "      <th>Category</th>\n",
       "      <th></th>\n",
       "      <th></th>\n",
       "    </tr>\n",
       "  </thead>\n",
       "  <tbody>\n",
       "    <tr>\n",
       "      <th>Apparel</th>\n",
       "      <td>2770.0</td>\n",
       "      <td>Apparel</td>\n",
       "    </tr>\n",
       "    <tr>\n",
       "      <th>Department Stores</th>\n",
       "      <td>2058.0</td>\n",
       "      <td>Department Stores</td>\n",
       "    </tr>\n",
       "    <tr>\n",
       "      <th>Dollar Stores</th>\n",
       "      <td>27600.0</td>\n",
       "      <td>Dollar Stores</td>\n",
       "    </tr>\n",
       "    <tr>\n",
       "      <th>Drug Stores</th>\n",
       "      <td>22368.0</td>\n",
       "      <td>Drug Stores</td>\n",
       "    </tr>\n",
       "    <tr>\n",
       "      <th>Electronic/Mail Order</th>\n",
       "      <td>0.0</td>\n",
       "      <td>Electronic/Mail Order</td>\n",
       "    </tr>\n",
       "    <tr>\n",
       "      <th>Electronics</th>\n",
       "      <td>1389.0</td>\n",
       "      <td>Electronics</td>\n",
       "    </tr>\n",
       "    <tr>\n",
       "      <th>Grocery</th>\n",
       "      <td>12026.0</td>\n",
       "      <td>Grocery</td>\n",
       "    </tr>\n",
       "    <tr>\n",
       "      <th>Home Improvement</th>\n",
       "      <td>3793.0</td>\n",
       "      <td>Home Improvement</td>\n",
       "    </tr>\n",
       "    <tr>\n",
       "      <th>Supercenters</th>\n",
       "      <td>6577.0</td>\n",
       "      <td>Supercenters</td>\n",
       "    </tr>\n",
       "    <tr>\n",
       "      <th>Warehouse Club</th>\n",
       "      <td>1150.0</td>\n",
       "      <td>Warehouse Club</td>\n",
       "    </tr>\n",
       "  </tbody>\n",
       "</table>\n",
       "</div>"
      ],
      "text/plain": [
       "                        Stores               Category\n",
       "Category                                             \n",
       "Apparel                 2770.0                Apparel\n",
       "Department Stores       2058.0      Department Stores\n",
       "Dollar Stores          27600.0          Dollar Stores\n",
       "Drug Stores            22368.0            Drug Stores\n",
       "Electronic/Mail Order      0.0  Electronic/Mail Order\n",
       "Electronics             1389.0            Electronics\n",
       "Grocery                12026.0                Grocery\n",
       "Home Improvement        3793.0       Home Improvement\n",
       "Supercenters            6577.0           Supercenters\n",
       "Warehouse Club          1150.0         Warehouse Club"
      ]
     },
     "execution_count": 21,
     "metadata": {},
     "output_type": "execute_result"
    }
   ],
   "source": [
    "# agrupar el número de tiendas por categoria\n",
    "stores_category_list = df_complete.groupby('Category')['Stores'].sum()\n",
    "# convertir a dataframe\n",
    "df_stores_category_list = pd.DataFrame(stores_category_list)\n",
    "# agregar columna 'categoria' a partir del índice\n",
    "df_stores_category_list['Category'] = df_stores_category_list.index\n",
    "#desplegar dataframe con las columnas de sales y categoria\n",
    "df_stores_category_list"
   ]
  },
  {
   "cell_type": "code",
   "execution_count": null,
   "metadata": {
    "cell_id": "3f87ada9-1a37-4540-b221-2866ad703a7b",
    "deepnote_cell_type": "code",
    "deepnote_to_be_reexecuted": false,
    "execution_millis": 15,
    "execution_start": 1645987404696,
    "source_hash": "800c3d16",
    "tags": []
   },
   "outputs": [
    {
     "data": {
      "application/vnd.deepnote.dataframe.v3+json": {
       "column_count": 2,
       "columns": [
        {
         "dtype": "float64",
         "name": "Stores",
         "stats": {
          "histogram": [
           {
            "bin_end": 27599.6,
            "bin_start": 27599.5,
            "count": 0
           },
           {
            "bin_end": 27599.7,
            "bin_start": 27599.6,
            "count": 0
           },
           {
            "bin_end": 27599.8,
            "bin_start": 27599.7,
            "count": 0
           },
           {
            "bin_end": 27599.9,
            "bin_start": 27599.8,
            "count": 0
           },
           {
            "bin_end": 27600,
            "bin_start": 27599.9,
            "count": 0
           },
           {
            "bin_end": 27600.1,
            "bin_start": 27600,
            "count": 1
           },
           {
            "bin_end": 27600.2,
            "bin_start": 27600.1,
            "count": 0
           },
           {
            "bin_end": 27600.3,
            "bin_start": 27600.2,
            "count": 0
           },
           {
            "bin_end": 27600.4,
            "bin_start": 27600.3,
            "count": 0
           },
           {
            "bin_end": 27600.5,
            "bin_start": 27600.4,
            "count": 0
           }
          ],
          "max": "27600.0",
          "min": "27600.0",
          "nan_count": 0,
          "unique_count": 1
         }
        },
        {
         "dtype": "object",
         "name": "Category",
         "stats": {
          "categories": [
           {
            "count": 1,
            "name": "Dollar Stores"
           }
          ],
          "nan_count": 0,
          "unique_count": 1
         }
        },
        {
         "dtype": "object",
         "name": "_deepnote_index_column"
        }
       ],
       "row_count": 1,
       "rows": [
        {
         "Category": "Dollar Stores",
         "Stores": 27600,
         "_deepnote_index_column": "Dollar Stores"
        }
       ]
      },
      "text/html": [
       "<div>\n",
       "<style scoped>\n",
       "    .dataframe tbody tr th:only-of-type {\n",
       "        vertical-align: middle;\n",
       "    }\n",
       "\n",
       "    .dataframe tbody tr th {\n",
       "        vertical-align: top;\n",
       "    }\n",
       "\n",
       "    .dataframe thead th {\n",
       "        text-align: right;\n",
       "    }\n",
       "</style>\n",
       "<table border=\"1\" class=\"dataframe\">\n",
       "  <thead>\n",
       "    <tr style=\"text-align: right;\">\n",
       "      <th></th>\n",
       "      <th>Stores</th>\n",
       "      <th>Category</th>\n",
       "    </tr>\n",
       "    <tr>\n",
       "      <th>Category</th>\n",
       "      <th></th>\n",
       "      <th></th>\n",
       "    </tr>\n",
       "  </thead>\n",
       "  <tbody>\n",
       "    <tr>\n",
       "      <th>Dollar Stores</th>\n",
       "      <td>27600.0</td>\n",
       "      <td>Dollar Stores</td>\n",
       "    </tr>\n",
       "  </tbody>\n",
       "</table>\n",
       "</div>"
      ],
      "text/plain": [
       "                Stores       Category\n",
       "Category                             \n",
       "Dollar Stores  27600.0  Dollar Stores"
      ]
     },
     "execution_count": 22,
     "metadata": {},
     "output_type": "execute_result"
    }
   ],
   "source": [
    "# Categoria con mas tiendas\n",
    "df_stores_category_list[df_stores_category_list.Stores == df_stores_category_list.Stores.max()]"
   ]
  },
  {
   "cell_type": "code",
   "execution_count": null,
   "metadata": {
    "cell_id": "73d718b7-0a7b-4ae2-af0a-deebf9863cfd",
    "deepnote_cell_type": "code",
    "deepnote_to_be_reexecuted": false,
    "execution_millis": 7,
    "execution_start": 1645987404720,
    "source_hash": "765cfe47",
    "tags": []
   },
   "outputs": [
    {
     "data": {
      "application/vnd.deepnote.dataframe.v3+json": {
       "column_count": 2,
       "columns": [
        {
         "dtype": "float64",
         "name": "Stores",
         "stats": {
          "histogram": [
           {
            "bin_end": -0.4,
            "bin_start": -0.5,
            "count": 0
           },
           {
            "bin_end": -0.3,
            "bin_start": -0.4,
            "count": 0
           },
           {
            "bin_end": -0.19999999999999996,
            "bin_start": -0.3,
            "count": 0
           },
           {
            "bin_end": -0.09999999999999998,
            "bin_start": -0.19999999999999996,
            "count": 0
           },
           {
            "bin_end": 0,
            "bin_start": -0.09999999999999998,
            "count": 0
           },
           {
            "bin_end": 0.10000000000000009,
            "bin_start": 0,
            "count": 1
           },
           {
            "bin_end": 0.20000000000000007,
            "bin_start": 0.10000000000000009,
            "count": 0
           },
           {
            "bin_end": 0.30000000000000004,
            "bin_start": 0.20000000000000007,
            "count": 0
           },
           {
            "bin_end": 0.4,
            "bin_start": 0.30000000000000004,
            "count": 0
           },
           {
            "bin_end": 0.5,
            "bin_start": 0.4,
            "count": 0
           }
          ],
          "max": "0.0",
          "min": "0.0",
          "nan_count": 0,
          "unique_count": 1
         }
        },
        {
         "dtype": "object",
         "name": "Category",
         "stats": {
          "categories": [
           {
            "count": 1,
            "name": "Electronic/Mail Order"
           }
          ],
          "nan_count": 0,
          "unique_count": 1
         }
        },
        {
         "dtype": "object",
         "name": "_deepnote_index_column"
        }
       ],
       "row_count": 1,
       "rows": [
        {
         "Category": "Electronic/Mail Order",
         "Stores": 0,
         "_deepnote_index_column": "Electronic/Mail Order"
        }
       ]
      },
      "text/html": [
       "<div>\n",
       "<style scoped>\n",
       "    .dataframe tbody tr th:only-of-type {\n",
       "        vertical-align: middle;\n",
       "    }\n",
       "\n",
       "    .dataframe tbody tr th {\n",
       "        vertical-align: top;\n",
       "    }\n",
       "\n",
       "    .dataframe thead th {\n",
       "        text-align: right;\n",
       "    }\n",
       "</style>\n",
       "<table border=\"1\" class=\"dataframe\">\n",
       "  <thead>\n",
       "    <tr style=\"text-align: right;\">\n",
       "      <th></th>\n",
       "      <th>Stores</th>\n",
       "      <th>Category</th>\n",
       "    </tr>\n",
       "    <tr>\n",
       "      <th>Category</th>\n",
       "      <th></th>\n",
       "      <th></th>\n",
       "    </tr>\n",
       "  </thead>\n",
       "  <tbody>\n",
       "    <tr>\n",
       "      <th>Electronic/Mail Order</th>\n",
       "      <td>0.0</td>\n",
       "      <td>Electronic/Mail Order</td>\n",
       "    </tr>\n",
       "  </tbody>\n",
       "</table>\n",
       "</div>"
      ],
      "text/plain": [
       "                       Stores               Category\n",
       "Category                                            \n",
       "Electronic/Mail Order     0.0  Electronic/Mail Order"
      ]
     },
     "execution_count": 23,
     "metadata": {},
     "output_type": "execute_result"
    }
   ],
   "source": [
    "# Categoria con menos tiendas\n",
    "df_stores_category_list[df_stores_category_list.Stores == df_stores_category_list.Stores.min()]"
   ]
  },
  {
   "cell_type": "markdown",
   "metadata": {
    "cell_id": "fdba710f-4ce5-4bfe-9091-78f33c93d7df",
    "deepnote_cell_type": "markdown",
    "tags": []
   },
   "source": [
    "#### Distribución de tiendas por categoria"
   ]
  },
  {
   "cell_type": "code",
   "execution_count": null,
   "metadata": {
    "cell_id": "1923481c-dde0-4675-893f-5faf14c5b6b4",
    "deepnote_cell_type": "code",
    "deepnote_to_be_reexecuted": false,
    "execution_millis": 278,
    "execution_start": 1645987404728,
    "source_hash": "c79a67f0",
    "tags": []
   },
   "outputs": [
    {
     "data": {
      "image/png": "[encoded data removed]",
      "text/plain": [
       "<Figure size 432x288 with 1 Axes>"
      ]
     },
     "metadata": {
      "image/png": {
       "height": 376,
       "width": 401
      },
      "needs_background": "light"
     },
     "output_type": "display_data"
    }
   ],
   "source": [
    "df_stores_category_list\n",
    "df_stores_list_sorted = df_stores_category_list.sort_values('Stores',ascending=False)\n",
    "# observar la distribución de ventas por categoria\n",
    "x = df_stores_list_sorted['Category']\n",
    "y = df_stores_list_sorted['Stores']\n",
    "#c = ['#9966cc','#a4c639','#a4c639','#a4c639','#a4c639','#a4c639','#ff9966','#ff9966','#ff9966','#ff9966']\n",
    "plt.bar(x,y,color='#e9d66b')\n",
    "plt.title('Distribución de tiendas por categoria', fontsize=15)\n",
    "plt.xlabel('Categorias')\n",
    "plt.ylabel('No. Tiendas')\n",
    "plt.xticks(rotation='vertical')\n",
    "plt.show()"
   ]
  },
  {
   "cell_type": "markdown",
   "metadata": {
    "cell_id": "f8c29f66-ffc6-4e35-b703-ea402b6d11fc",
    "deepnote_cell_type": "markdown",
    "tags": []
   },
   "source": [
    "#### Graficar la proporción de tiendas por categoria"
   ]
  },
  {
   "cell_type": "code",
   "execution_count": null,
   "metadata": {
    "cell_id": "74c0976c-c785-47f1-8a9c-77590281eee6",
    "deepnote_cell_type": "code",
    "deepnote_to_be_reexecuted": false,
    "execution_millis": 241,
    "execution_start": 1645987404980,
    "source_hash": "a3bdceb5",
    "tags": []
   },
   "outputs": [
    {
     "data": {
      "image/png": "[encoded data removed]",
      "text/plain": [
       "<Figure size 432x288 with 1 Axes>"
      ]
     },
     "metadata": {
      "image/png": {
       "height": 402,
       "width": 534
      }
     },
     "output_type": "display_data"
    }
   ],
   "source": [
    "# Graficar la proporción de tiendas por categoria\n",
    "pie_sales = df_stores_category_list['Stores']\n",
    "pie_category = df_stores_category_list['Category']\n",
    "plt.axis(\"equal\")\n",
    "plt.pie(pie_sales,labels=pie_category, radius=2, autopct='%0.0f%%')\n",
    "plt.show()"
   ]
  },
  {
   "cell_type": "markdown",
   "metadata": {
    "cell_id": "ab2a811e-829f-4de2-967b-924836f3e960",
    "deepnote_cell_type": "markdown",
    "tags": []
   },
   "source": [
    "#### Observaciones\n",
    "1. La categoria *Dollar Stores*, representa el 35% del total con 27600 tiendas\n",
    "2. La categoria *Drug Stores* representa el 28% del total con 22368 tiendas\n",
    "3. La categoria que menos tiendas tiene es *Electronics* representando el 1% con 1150 tiendas\n",
    "4. La categoria *Electronic/Mail Order*, no cuenta con tiendas fisicas ya que sus operaciones son online"
   ]
  },
  {
   "cell_type": "markdown",
   "metadata": {
    "cell_id": "d0dc3e73-9f3c-4991-bf0f-2514fe3836b8",
    "deepnote_cell_type": "markdown",
    "tags": []
   },
   "source": [
    "#### Analizar las ventas de la categoria Supercenters"
   ]
  },
  {
   "cell_type": "code",
   "execution_count": null,
   "metadata": {
    "cell_id": "5f79ce28-d411-47b5-9e97-4a77831ccad4",
    "deepnote_cell_type": "code",
    "deepnote_to_be_reexecuted": false,
    "execution_millis": 169,
    "execution_start": 1645987405225,
    "source_hash": "d544e7fb",
    "tags": []
   },
   "outputs": [
    {
     "data": {
      "image/png": "[encoded data removed]",
      "text/plain": [
       "<Figure size 432x288 with 1 Axes>"
      ]
     },
     "metadata": {
      "image/png": {
       "height": 362,
       "width": 473
      }
     },
     "output_type": "display_data"
    }
   ],
   "source": [
    "# Graficar la proporción de ventas por empresa\n",
    "\n",
    "df_supercenters = df_complete[df_complete.Category == 'Supercenters']\n",
    "\n",
    "# Crear gráfica la proporción de ventas por empresa\n",
    "pie_sales = df_supercenters['Sales']\n",
    "pie_category = df_supercenters['Company']\n",
    "plt.axis(\"equal\")\n",
    "plt.pie(pie_sales,labels=pie_category, radius=2, autopct='%0.0f%%')\n",
    "plt.show()"
   ]
  },
  {
   "cell_type": "markdown",
   "metadata": {
    "cell_id": "54489037-baf4-43c2-a95d-e1f6e234fb03",
    "deepnote_cell_type": "markdown",
    "tags": []
   },
   "source": [
    "#### Observaciones\n",
    "1. Hay 3 empresas dentro de la categoria de *Supercenters* : Walmart US, Target y Meijer\n",
    "2. Walmart US representa el 88% de ventas en la categoria de *Supercenters*"
   ]
  },
  {
   "cell_type": "markdown",
   "metadata": {
    "cell_id": "e43e5036-77af-4703-935f-1d4ae598aa21",
    "deepnote_cell_type": "markdown",
    "tags": []
   },
   "source": [
    "#### Graficar la relación de ventas por número de tiendas en la categoria Supercenter"
   ]
  },
  {
   "cell_type": "code",
   "execution_count": null,
   "metadata": {
    "cell_id": "30b5192a-e5df-46b1-a78b-c18e6b65cad2",
    "deepnote_cell_type": "code",
    "deepnote_to_be_reexecuted": false,
    "execution_millis": 456,
    "execution_start": 1645987405401,
    "source_hash": "bcd3d132",
    "tags": []
   },
   "outputs": [
    {
     "name": "stderr",
     "output_type": "stream",
     "text": [
      "/shared-libs/python3.7/py/lib/python3.7/site-packages/seaborn/_decorators.py:43: FutureWarning: Pass the following variables as keyword args: x, y. From version 0.12, the only valid positional argument will be `data`, and passing other arguments without an explicit keyword will result in an error or misinterpretation.\n",
      "  FutureWarning\n"
     ]
    },
    {
     "data": {
      "text/plain": [
       "<seaborn.axisgrid.FacetGrid at 0x7f3fc0b83e50>"
      ]
     },
     "execution_count": 27,
     "metadata": {},
     "output_type": "execute_result"
    },
    {
     "data": {
      "image/png": "[encoded data removed]",
      "text/plain": [
       "<Figure size 454.75x360 with 1 Axes>"
      ]
     },
     "metadata": {
      "image/png": {
       "height": 352,
       "width": 435
      },
      "needs_background": "light"
     },
     "output_type": "display_data"
    }
   ],
   "source": [
    "sns.relplot(df_supercenters['Stores'],df_supercenters['Sales']\n",
    ",hue=df_supercenters['Company']\n",
    ",style=df_supercenters['Company'])"
   ]
  },
  {
   "cell_type": "markdown",
   "metadata": {
    "cell_id": "341b65c7-077a-4977-a72a-921e38e429e5",
    "deepnote_cell_type": "markdown",
    "tags": []
   },
   "source": []
  },
  {
   "cell_type": "code",
   "execution_count": null,
   "metadata": {
    "cell_id": "4b986541-60dc-4887-82dd-6a62f8932b96",
    "deepnote_cell_type": "code",
    "deepnote_to_be_reexecuted": false,
    "execution_millis": 213,
    "execution_start": 1645987405863,
    "source_hash": "49d1f97f",
    "tags": []
   },
   "outputs": [
    {
     "data": {
      "image/png": "[encoded data removed]",
      "text/plain": [
       "<Figure size 432x288 with 1 Axes>"
      ]
     },
     "metadata": {
      "image/png": {
       "height": 278,
       "width": 407
      },
      "needs_background": "light"
     },
     "output_type": "display_data"
    }
   ],
   "source": [
    "#available_markers = ['o', '.', ',', 'x', '+', 'v', '^', '<', '>', 's', 'd']\n",
    "plt.scatter(x=df_supercenters['Stores'], y=df_supercenters['Sales'],marker='o', c='cornflowerblue', alpha=0.7)\n",
    "#plt.scatter(x=df_com_sal_sto['tiendas'], y=df_com_sal_sto['Ventas'],marker='o', c='cornflowerblue')\n",
    "plt.title('Relación de ventas con la cantidad de tiendas')\n",
    "plt.xlabel('No. Tiendas')\n",
    "plt.ylabel('Ventas $USD')\n",
    "#plt.legend('Empresas',fontsize=12)\n",
    "plt.grid(True)\n",
    "plt.show()"
   ]
  },
  {
   "cell_type": "markdown",
   "metadata": {
    "cell_id": "4c5a2022-d7ed-4148-9ba1-d0a98017792d",
    "deepnote_cell_type": "markdown",
    "tags": []
   },
   "source": [
    "#### Observaciones\n",
    "1. De las gráficas se puede interpretar que en la categoria *Supercenter*, la cantidad de tiendas si es un factor en el monto de ventas, donde se observa que a mayor número de tiendas, mayor cantidad de ventas."
   ]
  },
  {
   "cell_type": "markdown",
   "metadata": {
    "cell_id": "56089fb6-fd33-40c0-95d7-fd37c1222b58",
    "deepnote_cell_type": "markdown",
    "tags": []
   },
   "source": [
    "#### Graficar la proporción de tiendas por empresa en la categoria Supercenter"
   ]
  },
  {
   "cell_type": "code",
   "execution_count": null,
   "metadata": {
    "cell_id": "8c905cf6-1fc0-4d18-92d0-3f7cd36aee85",
    "deepnote_cell_type": "code",
    "deepnote_to_be_reexecuted": false,
    "execution_millis": 104,
    "execution_start": 1645987406081,
    "source_hash": "97c82042",
    "tags": []
   },
   "outputs": [
    {
     "data": {
      "image/png": "[encoded data removed]",
      "text/plain": [
       "<Figure size 432x288 with 1 Axes>"
      ]
     },
     "metadata": {
      "image/png": {
       "height": 362,
       "width": 409
      }
     },
     "output_type": "display_data"
    }
   ],
   "source": [
    "# Graficar la proporción de tiendas por empresa\n",
    "pie_sales = df_supercenters['Stores']\n",
    "pie_category = df_supercenters['Company']\n",
    "plt.axis(\"equal\")\n",
    "plt.pie(pie_sales,labels=pie_category, radius=2, autopct='%0.0f%%')\n",
    "plt.show()"
   ]
  },
  {
   "cell_type": "markdown",
   "metadata": {
    "cell_id": "a69cf32a-83a5-4726-ae11-0148f77104a0",
    "deepnote_cell_type": "markdown",
    "tags": []
   },
   "source": [
    "#### Observaciones\n",
    "1. La cantidad de tiendas (4,574) de Walmart US representa aproximadamente el 70% del total de tiendas en la categoria *Supercenter*"
   ]
  },
  {
   "cell_type": "markdown",
   "metadata": {
    "cell_id": "cb3a7189-3331-49dc-9843-cfecbd78ed2e",
    "deepnote_cell_type": "markdown",
    "tags": []
   },
   "source": [
    "#### Analizar las ventas por empresa"
   ]
  },
  {
   "cell_type": "code",
   "execution_count": null,
   "metadata": {
    "cell_id": "824831ba-49df-457e-9796-3c26db331a32",
    "deepnote_cell_type": "code",
    "deepnote_to_be_reexecuted": false,
    "execution_millis": 844,
    "execution_start": 1645987406193,
    "source_hash": "26b3480c",
    "tags": []
   },
   "outputs": [
    {
     "data": {
      "image/png": "[encoded data removed]",
      "text/plain": [
       "<Figure size 432x288 with 1 Axes>"
      ]
     },
     "metadata": {
      "image/png": {
       "height": 356,
       "width": 407
      },
      "needs_background": "light"
     },
     "output_type": "display_data"
    }
   ],
   "source": [
    "# Visualizar las ventas por compañía\n",
    "\n",
    "# crear variables para ordenar datos y graficar\n",
    "df_sorted = df_complete.sort_values('Sales', ascending=0)\n",
    "x = df_sorted['Company'][0:25]\n",
    "y = df_sorted['Sales'][0:25]\n",
    "#df['Sales'].describe()\n",
    "\n",
    "# grafica de barra que muestra la relación de compañías con sus ventas\n",
    "plt.bar(x,y)\n",
    "plt.xlabel('Companies')\n",
    "plt.ylabel('Sales -million $USD -')\n",
    "plt.title('Top 25')\n",
    "plt.xticks(rotation='vertical')\n",
    "plt.show()"
   ]
  },
  {
   "cell_type": "markdown",
   "metadata": {
    "cell_id": "f03933bd-908a-423d-bee3-f9ecf5a0ebd0",
    "deepnote_cell_type": "markdown",
    "tags": []
   },
   "source": [
    "#### Observaciones\n",
    "1. Walmart US es la empresa con mayores ventas. Es la empresa dominante con un monto de ventas de $658,119 USD.\n"
   ]
  },
  {
   "cell_type": "markdown",
   "metadata": {
    "cell_id": "2f075a99-2ed5-4280-94ac-aaf91f4b1627",
    "deepnote_cell_type": "markdown",
    "tags": []
   },
   "source": [
    "#### Calcular la diferencia de ventas entre Walmart US y su competidor más cercano"
   ]
  },
  {
   "cell_type": "code",
   "execution_count": null,
   "metadata": {
    "cell_id": "755b1191-e18a-4533-a697-3dcca25b9f0e",
    "deepnote_cell_type": "code",
    "deepnote_to_be_reexecuted": false,
    "execution_millis": 403,
    "execution_start": 1645987406681,
    "source_hash": "b87821ce",
    "tags": []
   },
   "outputs": [
    {
     "data": {
      "text/plain": [
       "543082"
      ]
     },
     "execution_count": 31,
     "metadata": {},
     "output_type": "execute_result"
    }
   ],
   "source": [
    "# Calcular la diferencia en ventas entre Walmart US y su competidor más cercano\n",
    "df_sorted = df_complete.sort_values('Sales', ascending=0)\n",
    "#\n",
    "df_diferencia = df_sorted['Sales'][0] - df_sorted['Sales'][1]\n",
    "df_diferencia\n"
   ]
  },
  {
   "cell_type": "markdown",
   "metadata": {
    "cell_id": "8366a110-1868-4d1f-bf93-e8aa217b5a31",
    "deepnote_cell_type": "markdown",
    "tags": []
   },
   "source": [
    "2. Walmart US sobrepasa por $543,082 a su competidor más cercano que es Kroger "
   ]
  },
  {
   "cell_type": "markdown",
   "metadata": {
    "cell_id": "5c3a468c-f49c-464c-a877-2bdbef953af4",
    "deepnote_cell_type": "markdown",
    "tags": []
   },
   "source": [
    "#### Datos de la empresa dominante: Walmart US"
   ]
  },
  {
   "cell_type": "code",
   "execution_count": null,
   "metadata": {
    "cell_id": "b8e5c022-228e-4921-a023-38332bc84a4a",
    "deepnote_cell_height": 229,
    "deepnote_cell_type": "code",
    "deepnote_to_be_reexecuted": false,
    "execution_millis": 396,
    "execution_start": 1645987406690,
    "source_hash": "9a936083",
    "tags": []
   },
   "outputs": [
    {
     "data": {
      "application/vnd.deepnote.dataframe.v3+json": {
       "column_count": 6,
       "columns": [
        {
         "dtype": "object",
         "name": "Company",
         "stats": {
          "categories": [
           {
            "count": 1,
            "name": "Walmart US"
           }
          ],
          "nan_count": 0,
          "unique_count": 1
         }
        },
        {
         "dtype": "int64",
         "name": "Sales",
         "stats": {
          "histogram": [
           {
            "bin_end": 658118.6,
            "bin_start": 658118.5,
            "count": 0
           },
           {
            "bin_end": 658118.7,
            "bin_start": 658118.6,
            "count": 0
           },
           {
            "bin_end": 658118.8,
            "bin_start": 658118.7,
            "count": 0
           },
           {
            "bin_end": 658118.9,
            "bin_start": 658118.8,
            "count": 0
           },
           {
            "bin_end": 658119,
            "bin_start": 658118.9,
            "count": 0
           },
           {
            "bin_end": 658119.1,
            "bin_start": 658119,
            "count": 1
           },
           {
            "bin_end": 658119.2,
            "bin_start": 658119.1,
            "count": 0
           },
           {
            "bin_end": 658119.3,
            "bin_start": 658119.2,
            "count": 0
           },
           {
            "bin_end": 658119.4,
            "bin_start": 658119.3,
            "count": 0
           },
           {
            "bin_end": 658119.5,
            "bin_start": 658119.4,
            "count": 0
           }
          ],
          "max": "658119",
          "min": "658119",
          "nan_count": 0,
          "unique_count": 1
         }
        },
        {
         "dtype": "float64",
         "name": "Stores",
         "stats": {
          "histogram": [
           {
            "bin_end": 4573.6,
            "bin_start": 4573.5,
            "count": 0
           },
           {
            "bin_end": 4573.7,
            "bin_start": 4573.6,
            "count": 0
           },
           {
            "bin_end": 4573.8,
            "bin_start": 4573.7,
            "count": 0
           },
           {
            "bin_end": 4573.9,
            "bin_start": 4573.8,
            "count": 0
           },
           {
            "bin_end": 4574,
            "bin_start": 4573.9,
            "count": 0
           },
           {
            "bin_end": 4574.1,
            "bin_start": 4574,
            "count": 1
           },
           {
            "bin_end": 4574.2,
            "bin_start": 4574.1,
            "count": 0
           },
           {
            "bin_end": 4574.3,
            "bin_start": 4574.2,
            "count": 0
           },
           {
            "bin_end": 4574.4,
            "bin_start": 4574.3,
            "count": 0
           },
           {
            "bin_end": 4574.5,
            "bin_start": 4574.4,
            "count": 0
           }
          ],
          "max": "4574.0",
          "min": "4574.0",
          "nan_count": 0,
          "unique_count": 1
         }
        },
        {
         "dtype": "float64",
         "name": "Sales/Avg. Store",
         "stats": {
          "histogram": [
           {
            "bin_end": 65.24972496999999,
            "bin_start": 65.14972497,
            "count": 0
           },
           {
            "bin_end": 65.34972497,
            "bin_start": 65.24972496999999,
            "count": 0
           },
           {
            "bin_end": 65.44972496999999,
            "bin_start": 65.34972497,
            "count": 0
           },
           {
            "bin_end": 65.54972497,
            "bin_start": 65.44972496999999,
            "count": 0
           },
           {
            "bin_end": 65.64972497,
            "bin_start": 65.54972497,
            "count": 0
           },
           {
            "bin_end": 65.74972496999999,
            "bin_start": 65.64972497,
            "count": 1
           },
           {
            "bin_end": 65.84972497,
            "bin_start": 65.74972496999999,
            "count": 0
           },
           {
            "bin_end": 65.94972496999999,
            "bin_start": 65.84972497,
            "count": 0
           },
           {
            "bin_end": 66.04972497,
            "bin_start": 65.94972496999999,
            "count": 0
           },
           {
            "bin_end": 66.14972497,
            "bin_start": 66.04972497,
            "count": 0
           }
          ],
          "max": "65.64972497",
          "min": "65.64972497",
          "nan_count": 0,
          "unique_count": 1
         }
        },
        {
         "dtype": "float64",
         "name": "Store Count Growth",
         "stats": {
          "histogram": [
           {
            "bin_end": -0.38715677591,
            "bin_start": -0.48715677591,
            "count": 0
           },
           {
            "bin_end": -0.28715677591,
            "bin_start": -0.38715677591,
            "count": 0
           },
           {
            "bin_end": -0.18715677590999996,
            "bin_start": -0.28715677591,
            "count": 0
           },
           {
            "bin_end": -0.08715677590999998,
            "bin_start": -0.18715677590999996,
            "count": 0
           },
           {
            "bin_end": 0.012843224089999994,
            "bin_start": -0.08715677590999998,
            "count": 0
           },
           {
            "bin_end": 0.11284322409000008,
            "bin_start": 0.012843224089999994,
            "count": 1
           },
           {
            "bin_end": 0.21284322409000006,
            "bin_start": 0.11284322409000008,
            "count": 0
           },
           {
            "bin_end": 0.31284322409000004,
            "bin_start": 0.21284322409000006,
            "count": 0
           },
           {
            "bin_end": 0.41284322409,
            "bin_start": 0.31284322409000004,
            "count": 0
           },
           {
            "bin_end": 0.51284322409,
            "bin_start": 0.41284322409,
            "count": 0
           }
          ],
          "max": "0.01284322409",
          "min": "0.01284322409",
          "nan_count": 0,
          "unique_count": 1
         }
        },
        {
         "dtype": "object",
         "name": "Category",
         "stats": {
          "categories": [
           {
            "count": 1,
            "name": "Supercenters"
           }
          ],
          "nan_count": 0,
          "unique_count": 1
         }
        },
        {
         "dtype": "int64",
         "name": "_deepnote_index_column"
        }
       ],
       "row_count": 1,
       "rows": [
        {
         "Category": "Supercenters",
         "Company": "Walmart US",
         "Sales": 658119,
         "Sales/Avg. Store": 65.64972497,
         "Store Count Growth": 0.01284322409,
         "Stores": 4574,
         "_deepnote_index_column": 0
        }
       ]
      },
      "text/html": [
       "<div>\n",
       "<style scoped>\n",
       "    .dataframe tbody tr th:only-of-type {\n",
       "        vertical-align: middle;\n",
       "    }\n",
       "\n",
       "    .dataframe tbody tr th {\n",
       "        vertical-align: top;\n",
       "    }\n",
       "\n",
       "    .dataframe thead th {\n",
       "        text-align: right;\n",
       "    }\n",
       "</style>\n",
       "<table border=\"1\" class=\"dataframe\">\n",
       "  <thead>\n",
       "    <tr style=\"text-align: right;\">\n",
       "      <th></th>\n",
       "      <th>Company</th>\n",
       "      <th>Sales</th>\n",
       "      <th>Stores</th>\n",
       "      <th>Sales/Avg. Store</th>\n",
       "      <th>Store Count Growth</th>\n",
       "      <th>Category</th>\n",
       "    </tr>\n",
       "  </thead>\n",
       "  <tbody>\n",
       "    <tr>\n",
       "      <th>0</th>\n",
       "      <td>Walmart US</td>\n",
       "      <td>658119</td>\n",
       "      <td>4574.0</td>\n",
       "      <td>65.649725</td>\n",
       "      <td>0.012843</td>\n",
       "      <td>Supercenters</td>\n",
       "    </tr>\n",
       "  </tbody>\n",
       "</table>\n",
       "</div>"
      ],
      "text/plain": [
       "      Company   Sales  Stores  Sales/Avg. Store  Store Count Growth  \\\n",
       "0  Walmart US  658119  4574.0         65.649725            0.012843   \n",
       "\n",
       "       Category  \n",
       "0  Supercenters  "
      ]
     },
     "execution_count": 32,
     "metadata": {},
     "output_type": "execute_result"
    }
   ],
   "source": [
    "# datos de la empresa dominante\n",
    "Walmart_US = df_complete[(df_complete['Company']=='Walmart US')]\n",
    "Walmart_US"
   ]
  },
  {
   "cell_type": "markdown",
   "metadata": {
    "cell_id": "e8e2d4fb-5cf4-4cfc-95ee-7d8c384ca347",
    "deepnote_cell_type": "markdown",
    "tags": []
   },
   "source": [
    "#### Graficar la proporción de ventas de Walmart US con respecto a sus competidores"
   ]
  },
  {
   "cell_type": "code",
   "execution_count": null,
   "metadata": {
    "cell_id": "bd49cccb-cc42-455d-9aa6-efdefd7022ac",
    "deepnote_cell_type": "code",
    "deepnote_to_be_reexecuted": false,
    "execution_millis": 564,
    "execution_start": 1645987406714,
    "source_hash": "7ede33ad",
    "tags": []
   },
   "outputs": [
    {
     "data": {
      "image/png": "[encoded data removed]",
      "text/plain": [
       "<Figure size 432x288 with 1 Axes>"
      ]
     },
     "metadata": {
      "image/png": {
       "height": 391,
       "width": 522
      }
     },
     "output_type": "display_data"
    }
   ],
   "source": [
    "# Graficar la proporción de ventas de Walmart US\n",
    "pie_sales = df_complete['Sales']\n",
    "pie_company = df_complete['Company']\n",
    "plt.axis(\"equal\")\n",
    "plt.pie(pie_sales,labels=pie_company, radius=2, autopct='%0.0f%%')\n",
    "plt.show()"
   ]
  },
  {
   "cell_type": "markdown",
   "metadata": {
    "cell_id": "0fecc5f5-b3db-4461-b16e-2c81ce89b7bc",
    "deepnote_cell_type": "markdown",
    "tags": []
   },
   "source": [
    "#### Observaciones\n",
    "3. Walmart US representa el 37% de las ventas totales de los 25 retailers"
   ]
  },
  {
   "cell_type": "markdown",
   "metadata": {
    "cell_id": "7b3ed605-968a-4d07-bcd8-882065ad378a",
    "deepnote_cell_type": "text-cell-h3",
    "is_collapsed": false,
    "tags": []
   },
   "source": [
    "### 3. Clasificación de la información"
   ]
  },
  {
   "cell_type": "markdown",
   "metadata": {
    "cell_id": "cf19f807-c2a5-4aba-918e-5510b32a10ac",
    "deepnote_cell_type": "markdown",
    "tags": []
   },
   "source": [
    "#### Clasificación de la información\n",
    "\n",
    "En base a la exploración y análisis de los datos, se clasificará la información como sigue:\n",
    "* Ventas\n",
    "* Tiendas"
   ]
  },
  {
   "cell_type": "markdown",
   "metadata": {
    "cell_id": "92ed5804-dd44-4017-bd32-cb370fd32081",
    "deepnote_cell_type": "markdown",
    "tags": []
   },
   "source": [
    "#### Ventas - Empresa con más ventas sin considerar su categoria"
   ]
  },
  {
   "cell_type": "code",
   "execution_count": null,
   "metadata": {
    "cell_id": "7f6cab87-5a1b-4ebc-b964-b4c2074705ac",
    "deepnote_cell_type": "code",
    "deepnote_to_be_reexecuted": false,
    "execution_millis": 9,
    "execution_start": 1645987407314,
    "source_hash": "9ed0fa0d",
    "tags": []
   },
   "outputs": [
    {
     "data": {
      "application/vnd.deepnote.dataframe.v3+json": {
       "column_count": 6,
       "columns": [
        {
         "dtype": "object",
         "name": "Company",
         "stats": {
          "categories": [
           {
            "count": 1,
            "name": "Walmart US"
           }
          ],
          "nan_count": 0,
          "unique_count": 1
         }
        },
        {
         "dtype": "int64",
         "name": "Sales",
         "stats": {
          "histogram": [
           {
            "bin_end": 658118.6,
            "bin_start": 658118.5,
            "count": 0
           },
           {
            "bin_end": 658118.7,
            "bin_start": 658118.6,
            "count": 0
           },
           {
            "bin_end": 658118.8,
            "bin_start": 658118.7,
            "count": 0
           },
           {
            "bin_end": 658118.9,
            "bin_start": 658118.8,
            "count": 0
           },
           {
            "bin_end": 658119,
            "bin_start": 658118.9,
            "count": 0
           },
           {
            "bin_end": 658119.1,
            "bin_start": 658119,
            "count": 1
           },
           {
            "bin_end": 658119.2,
            "bin_start": 658119.1,
            "count": 0
           },
           {
            "bin_end": 658119.3,
            "bin_start": 658119.2,
            "count": 0
           },
           {
            "bin_end": 658119.4,
            "bin_start": 658119.3,
            "count": 0
           },
           {
            "bin_end": 658119.5,
            "bin_start": 658119.4,
            "count": 0
           }
          ],
          "max": "658119",
          "min": "658119",
          "nan_count": 0,
          "unique_count": 1
         }
        },
        {
         "dtype": "float64",
         "name": "Stores",
         "stats": {
          "histogram": [
           {
            "bin_end": 4573.6,
            "bin_start": 4573.5,
            "count": 0
           },
           {
            "bin_end": 4573.7,
            "bin_start": 4573.6,
            "count": 0
           },
           {
            "bin_end": 4573.8,
            "bin_start": 4573.7,
            "count": 0
           },
           {
            "bin_end": 4573.9,
            "bin_start": 4573.8,
            "count": 0
           },
           {
            "bin_end": 4574,
            "bin_start": 4573.9,
            "count": 0
           },
           {
            "bin_end": 4574.1,
            "bin_start": 4574,
            "count": 1
           },
           {
            "bin_end": 4574.2,
            "bin_start": 4574.1,
            "count": 0
           },
           {
            "bin_end": 4574.3,
            "bin_start": 4574.2,
            "count": 0
           },
           {
            "bin_end": 4574.4,
            "bin_start": 4574.3,
            "count": 0
           },
           {
            "bin_end": 4574.5,
            "bin_start": 4574.4,
            "count": 0
           }
          ],
          "max": "4574.0",
          "min": "4574.0",
          "nan_count": 0,
          "unique_count": 1
         }
        },
        {
         "dtype": "float64",
         "name": "Sales/Avg. Store",
         "stats": {
          "histogram": [
           {
            "bin_end": 65.24972496999999,
            "bin_start": 65.14972497,
            "count": 0
           },
           {
            "bin_end": 65.34972497,
            "bin_start": 65.24972496999999,
            "count": 0
           },
           {
            "bin_end": 65.44972496999999,
            "bin_start": 65.34972497,
            "count": 0
           },
           {
            "bin_end": 65.54972497,
            "bin_start": 65.44972496999999,
            "count": 0
           },
           {
            "bin_end": 65.64972497,
            "bin_start": 65.54972497,
            "count": 0
           },
           {
            "bin_end": 65.74972496999999,
            "bin_start": 65.64972497,
            "count": 1
           },
           {
            "bin_end": 65.84972497,
            "bin_start": 65.74972496999999,
            "count": 0
           },
           {
            "bin_end": 65.94972496999999,
            "bin_start": 65.84972497,
            "count": 0
           },
           {
            "bin_end": 66.04972497,
            "bin_start": 65.94972496999999,
            "count": 0
           },
           {
            "bin_end": 66.14972497,
            "bin_start": 66.04972497,
            "count": 0
           }
          ],
          "max": "65.64972497",
          "min": "65.64972497",
          "nan_count": 0,
          "unique_count": 1
         }
        },
        {
         "dtype": "float64",
         "name": "Store Count Growth",
         "stats": {
          "histogram": [
           {
            "bin_end": -0.38715677591,
            "bin_start": -0.48715677591,
            "count": 0
           },
           {
            "bin_end": -0.28715677591,
            "bin_start": -0.38715677591,
            "count": 0
           },
           {
            "bin_end": -0.18715677590999996,
            "bin_start": -0.28715677591,
            "count": 0
           },
           {
            "bin_end": -0.08715677590999998,
            "bin_start": -0.18715677590999996,
            "count": 0
           },
           {
            "bin_end": 0.012843224089999994,
            "bin_start": -0.08715677590999998,
            "count": 0
           },
           {
            "bin_end": 0.11284322409000008,
            "bin_start": 0.012843224089999994,
            "count": 1
           },
           {
            "bin_end": 0.21284322409000006,
            "bin_start": 0.11284322409000008,
            "count": 0
           },
           {
            "bin_end": 0.31284322409000004,
            "bin_start": 0.21284322409000006,
            "count": 0
           },
           {
            "bin_end": 0.41284322409,
            "bin_start": 0.31284322409000004,
            "count": 0
           },
           {
            "bin_end": 0.51284322409,
            "bin_start": 0.41284322409,
            "count": 0
           }
          ],
          "max": "0.01284322409",
          "min": "0.01284322409",
          "nan_count": 0,
          "unique_count": 1
         }
        },
        {
         "dtype": "object",
         "name": "Category",
         "stats": {
          "categories": [
           {
            "count": 1,
            "name": "Supercenters"
           }
          ],
          "nan_count": 0,
          "unique_count": 1
         }
        },
        {
         "dtype": "int64",
         "name": "_deepnote_index_column"
        }
       ],
       "row_count": 1,
       "rows": [
        {
         "Category": "Supercenters",
         "Company": "Walmart US",
         "Sales": 658119,
         "Sales/Avg. Store": 65.64972497,
         "Store Count Growth": 0.01284322409,
         "Stores": 4574,
         "_deepnote_index_column": 0
        }
       ]
      },
      "text/html": [
       "<div>\n",
       "<style scoped>\n",
       "    .dataframe tbody tr th:only-of-type {\n",
       "        vertical-align: middle;\n",
       "    }\n",
       "\n",
       "    .dataframe tbody tr th {\n",
       "        vertical-align: top;\n",
       "    }\n",
       "\n",
       "    .dataframe thead th {\n",
       "        text-align: right;\n",
       "    }\n",
       "</style>\n",
       "<table border=\"1\" class=\"dataframe\">\n",
       "  <thead>\n",
       "    <tr style=\"text-align: right;\">\n",
       "      <th></th>\n",
       "      <th>Company</th>\n",
       "      <th>Sales</th>\n",
       "      <th>Stores</th>\n",
       "      <th>Sales/Avg. Store</th>\n",
       "      <th>Store Count Growth</th>\n",
       "      <th>Category</th>\n",
       "    </tr>\n",
       "  </thead>\n",
       "  <tbody>\n",
       "    <tr>\n",
       "      <th>0</th>\n",
       "      <td>Walmart US</td>\n",
       "      <td>658119</td>\n",
       "      <td>4574.0</td>\n",
       "      <td>65.649725</td>\n",
       "      <td>0.012843</td>\n",
       "      <td>Supercenters</td>\n",
       "    </tr>\n",
       "  </tbody>\n",
       "</table>\n",
       "</div>"
      ],
      "text/plain": [
       "      Company   Sales  Stores  Sales/Avg. Store  Store Count Growth  \\\n",
       "0  Walmart US  658119  4574.0         65.649725            0.012843   \n",
       "\n",
       "       Category  \n",
       "0  Supercenters  "
      ]
     },
     "execution_count": 34,
     "metadata": {},
     "output_type": "execute_result"
    }
   ],
   "source": [
    "#df_com_sal_sto.Ventas.max() # retorna el valor\n",
    "df_complete[df_complete.Sales == df_complete.Sales.max()] # retorna la fila"
   ]
  },
  {
   "cell_type": "markdown",
   "metadata": {
    "cell_id": "4f5b9434-5f7c-44a9-8987-b2910cf76ee1",
    "deepnote_cell_type": "markdown",
    "tags": []
   },
   "source": [
    "#### Ventas - Empresa con ventas a la media sin considerar su categoria"
   ]
  },
  {
   "cell_type": "code",
   "execution_count": null,
   "metadata": {
    "cell_id": "a1bd6ca2-2610-4170-8e09-1fb1c34644f6",
    "deepnote_cell_type": "code",
    "deepnote_to_be_reexecuted": false,
    "execution_millis": 14,
    "execution_start": 1645987407316,
    "source_hash": "a1320a28",
    "tags": []
   },
   "outputs": [
    {
     "data": {
      "application/vnd.deepnote.dataframe.v3+json": {
       "column_count": 6,
       "columns": [
        {
         "dtype": "object",
         "name": "Company",
         "stats": {
          "categories": [
           {
            "count": 1,
            "name": "Best Buy"
           }
          ],
          "nan_count": 0,
          "unique_count": 1
         }
        },
        {
         "dtype": "int64",
         "name": "Sales",
         "stats": {
          "histogram": [
           {
            "bin_end": 34979.6,
            "bin_start": 34979.5,
            "count": 0
           },
           {
            "bin_end": 34979.7,
            "bin_start": 34979.6,
            "count": 0
           },
           {
            "bin_end": 34979.8,
            "bin_start": 34979.7,
            "count": 0
           },
           {
            "bin_end": 34979.9,
            "bin_start": 34979.8,
            "count": 0
           },
           {
            "bin_end": 34980,
            "bin_start": 34979.9,
            "count": 0
           },
           {
            "bin_end": 34980.1,
            "bin_start": 34980,
            "count": 1
           },
           {
            "bin_end": 34980.2,
            "bin_start": 34980.1,
            "count": 0
           },
           {
            "bin_end": 34980.3,
            "bin_start": 34980.2,
            "count": 0
           },
           {
            "bin_end": 34980.4,
            "bin_start": 34980.3,
            "count": 0
           },
           {
            "bin_end": 34980.5,
            "bin_start": 34980.4,
            "count": 0
           }
          ],
          "max": "34980",
          "min": "34980",
          "nan_count": 0,
          "unique_count": 1
         }
        },
        {
         "dtype": "float64",
         "name": "Stores",
         "stats": {
          "histogram": [
           {
            "bin_end": 1388.6,
            "bin_start": 1388.5,
            "count": 0
           },
           {
            "bin_end": 1388.7,
            "bin_start": 1388.6,
            "count": 0
           },
           {
            "bin_end": 1388.8,
            "bin_start": 1388.7,
            "count": 0
           },
           {
            "bin_end": 1388.9,
            "bin_start": 1388.8,
            "count": 0
           },
           {
            "bin_end": 1389,
            "bin_start": 1388.9,
            "count": 0
           },
           {
            "bin_end": 1389.1,
            "bin_start": 1389,
            "count": 1
           },
           {
            "bin_end": 1389.2,
            "bin_start": 1389.1,
            "count": 0
           },
           {
            "bin_end": 1389.3,
            "bin_start": 1389.2,
            "count": 0
           },
           {
            "bin_end": 1389.4,
            "bin_start": 1389.3,
            "count": 0
           },
           {
            "bin_end": 1389.5,
            "bin_start": 1389.4,
            "count": 0
           }
          ],
          "max": "1389.0",
          "min": "1389.0",
          "nan_count": 0,
          "unique_count": 1
         }
        },
        {
         "dtype": "float64",
         "name": "Sales/Avg. Store",
         "stats": {
          "histogram": [
           {
            "bin_end": 24.28595625,
            "bin_start": 24.18595625,
            "count": 0
           },
           {
            "bin_end": 24.38595625,
            "bin_start": 24.28595625,
            "count": 0
           },
           {
            "bin_end": 24.48595625,
            "bin_start": 24.38595625,
            "count": 0
           },
           {
            "bin_end": 24.58595625,
            "bin_start": 24.48595625,
            "count": 0
           },
           {
            "bin_end": 24.68595625,
            "bin_start": 24.58595625,
            "count": 0
           },
           {
            "bin_end": 24.78595625,
            "bin_start": 24.68595625,
            "count": 1
           },
           {
            "bin_end": 24.88595625,
            "bin_start": 24.78595625,
            "count": 0
           },
           {
            "bin_end": 24.98595625,
            "bin_start": 24.88595625,
            "count": 0
           },
           {
            "bin_end": 25.08595625,
            "bin_start": 24.98595625,
            "count": 0
           },
           {
            "bin_end": 25.18595625,
            "bin_start": 25.08595625,
            "count": 0
           }
          ],
          "max": "24.68595625",
          "min": "24.68595625",
          "nan_count": 0,
          "unique_count": 1
         }
        },
        {
         "dtype": "float64",
         "name": "Store Count Growth",
         "stats": {
          "histogram": [
           {
            "bin_end": -0.43875432526,
            "bin_start": -0.53875432526,
            "count": 0
           },
           {
            "bin_end": -0.33875432526,
            "bin_start": -0.43875432526,
            "count": 0
           },
           {
            "bin_end": -0.23875432525999996,
            "bin_start": -0.33875432526,
            "count": 0
           },
           {
            "bin_end": -0.13875432525999998,
            "bin_start": -0.23875432525999996,
            "count": 0
           },
           {
            "bin_end": -0.03875432526,
            "bin_start": -0.13875432525999998,
            "count": 0
           },
           {
            "bin_end": 0.06124567474000009,
            "bin_start": -0.03875432526,
            "count": 1
           },
           {
            "bin_end": 0.16124567474000007,
            "bin_start": 0.06124567474000009,
            "count": 0
           },
           {
            "bin_end": 0.26124567474000004,
            "bin_start": 0.16124567474000007,
            "count": 0
           },
           {
            "bin_end": 0.36124567474,
            "bin_start": 0.26124567474000004,
            "count": 0
           },
           {
            "bin_end": 0.46124567474,
            "bin_start": 0.36124567474,
            "count": 0
           }
          ],
          "max": "-0.03875432526",
          "min": "-0.03875432526",
          "nan_count": 0,
          "unique_count": 1
         }
        },
        {
         "dtype": "object",
         "name": "Category",
         "stats": {
          "categories": [
           {
            "count": 1,
            "name": "Electronics"
           }
          ],
          "nan_count": 0,
          "unique_count": 1
         }
        },
        {
         "dtype": "int64",
         "name": "_deepnote_index_column"
        }
       ],
       "row_count": 1,
       "rows": [
        {
         "Category": "Electronics",
         "Company": "Best Buy",
         "Sales": 34980,
         "Sales/Avg. Store": 24.68595625,
         "Store Count Growth": -0.03875432526,
         "Stores": 1389,
         "_deepnote_index_column": 12
        }
       ]
      },
      "text/html": [
       "<div>\n",
       "<style scoped>\n",
       "    .dataframe tbody tr th:only-of-type {\n",
       "        vertical-align: middle;\n",
       "    }\n",
       "\n",
       "    .dataframe tbody tr th {\n",
       "        vertical-align: top;\n",
       "    }\n",
       "\n",
       "    .dataframe thead th {\n",
       "        text-align: right;\n",
       "    }\n",
       "</style>\n",
       "<table border=\"1\" class=\"dataframe\">\n",
       "  <thead>\n",
       "    <tr style=\"text-align: right;\">\n",
       "      <th></th>\n",
       "      <th>Company</th>\n",
       "      <th>Sales</th>\n",
       "      <th>Stores</th>\n",
       "      <th>Sales/Avg. Store</th>\n",
       "      <th>Store Count Growth</th>\n",
       "      <th>Category</th>\n",
       "    </tr>\n",
       "  </thead>\n",
       "  <tbody>\n",
       "    <tr>\n",
       "      <th>12</th>\n",
       "      <td>Best Buy</td>\n",
       "      <td>34980</td>\n",
       "      <td>1389.0</td>\n",
       "      <td>24.685956</td>\n",
       "      <td>-0.038754</td>\n",
       "      <td>Electronics</td>\n",
       "    </tr>\n",
       "  </tbody>\n",
       "</table>\n",
       "</div>"
      ],
      "text/plain": [
       "     Company  Sales  Stores  Sales/Avg. Store  Store Count Growth     Category\n",
       "12  Best Buy  34980  1389.0         24.685956           -0.038754  Electronics"
      ]
     },
     "execution_count": 35,
     "metadata": {},
     "output_type": "execute_result"
    }
   ],
   "source": [
    "df_complete_sorted = df_complete.sort_values('Sales',ascending=False)\n",
    "df_complete_sorted[df_complete_sorted.Sales == df_complete_sorted.Sales.median()]\n"
   ]
  },
  {
   "cell_type": "markdown",
   "metadata": {
    "cell_id": "2e65b03c-d4d6-46a8-bed1-f390c763d0f9",
    "deepnote_cell_type": "markdown",
    "tags": []
   },
   "source": [
    "#### Ventas - Empresa con menos ventas sin considerar su categoria"
   ]
  },
  {
   "cell_type": "code",
   "execution_count": null,
   "metadata": {
    "cell_id": "9f0efbe1-d34f-4889-9bc6-2eeb07c866f2",
    "deepnote_cell_type": "code",
    "deepnote_to_be_reexecuted": false,
    "execution_millis": 11,
    "execution_start": 1645987407338,
    "source_hash": "657fd75d",
    "tags": []
   },
   "outputs": [
    {
     "data": {
      "application/vnd.deepnote.dataframe.v3+json": {
       "column_count": 6,
       "columns": [
        {
         "dtype": "object",
         "name": "Company",
         "stats": {
          "categories": [
           {
            "count": 1,
            "name": "Meijer"
           }
          ],
          "nan_count": 0,
          "unique_count": 1
         }
        },
        {
         "dtype": "int64",
         "name": "Sales",
         "stats": {
          "histogram": [
           {
            "bin_end": 16591.6,
            "bin_start": 16591.5,
            "count": 0
           },
           {
            "bin_end": 16591.7,
            "bin_start": 16591.6,
            "count": 0
           },
           {
            "bin_end": 16591.8,
            "bin_start": 16591.7,
            "count": 0
           },
           {
            "bin_end": 16591.9,
            "bin_start": 16591.8,
            "count": 0
           },
           {
            "bin_end": 16592,
            "bin_start": 16591.9,
            "count": 0
           },
           {
            "bin_end": 16592.1,
            "bin_start": 16592,
            "count": 1
           },
           {
            "bin_end": 16592.2,
            "bin_start": 16592.1,
            "count": 0
           },
           {
            "bin_end": 16592.3,
            "bin_start": 16592.2,
            "count": 0
           },
           {
            "bin_end": 16592.4,
            "bin_start": 16592.3,
            "count": 0
           },
           {
            "bin_end": 16592.5,
            "bin_start": 16592.4,
            "count": 0
           }
          ],
          "max": "16592",
          "min": "16592",
          "nan_count": 0,
          "unique_count": 1
         }
        },
        {
         "dtype": "float64",
         "name": "Stores",
         "stats": {
          "histogram": [
           {
            "bin_end": 230.6,
            "bin_start": 230.5,
            "count": 0
           },
           {
            "bin_end": 230.7,
            "bin_start": 230.6,
            "count": 0
           },
           {
            "bin_end": 230.8,
            "bin_start": 230.7,
            "count": 0
           },
           {
            "bin_end": 230.9,
            "bin_start": 230.8,
            "count": 0
           },
           {
            "bin_end": 231,
            "bin_start": 230.9,
            "count": 0
           },
           {
            "bin_end": 231.1,
            "bin_start": 231,
            "count": 1
           },
           {
            "bin_end": 231.2,
            "bin_start": 231.1,
            "count": 0
           },
           {
            "bin_end": 231.3,
            "bin_start": 231.2,
            "count": 0
           },
           {
            "bin_end": 231.4,
            "bin_start": 231.3,
            "count": 0
           },
           {
            "bin_end": 231.5,
            "bin_start": 231.4,
            "count": 0
           }
          ],
          "max": "231.0",
          "min": "231.0",
          "nan_count": 0,
          "unique_count": 1
         }
        },
        {
         "dtype": "float64",
         "name": "Sales/Avg. Store",
         "stats": {
          "histogram": [
           {
            "bin_end": 74.33873874,
            "bin_start": 74.23873874,
            "count": 0
           },
           {
            "bin_end": 74.43873874,
            "bin_start": 74.33873874,
            "count": 0
           },
           {
            "bin_end": 74.53873874,
            "bin_start": 74.43873874,
            "count": 0
           },
           {
            "bin_end": 74.63873874000001,
            "bin_start": 74.53873874,
            "count": 0
           },
           {
            "bin_end": 74.73873874,
            "bin_start": 74.63873874000001,
            "count": 0
           },
           {
            "bin_end": 74.83873874,
            "bin_start": 74.73873874,
            "count": 1
           },
           {
            "bin_end": 74.93873874,
            "bin_start": 74.83873874,
            "count": 0
           },
           {
            "bin_end": 75.03873874,
            "bin_start": 74.93873874,
            "count": 0
           },
           {
            "bin_end": 75.13873874000001,
            "bin_start": 75.03873874,
            "count": 0
           },
           {
            "bin_end": 75.23873874,
            "bin_start": 75.13873874000001,
            "count": 0
           }
          ],
          "max": "74.73873874",
          "min": "74.73873874",
          "nan_count": 0,
          "unique_count": 1
         }
        },
        {
         "dtype": "float64",
         "name": "Store Count Growth",
         "stats": {
          "histogram": [
           {
            "bin_end": -0.31549295774999997,
            "bin_start": -0.41549295775,
            "count": 0
           },
           {
            "bin_end": -0.21549295775,
            "bin_start": -0.31549295774999997,
            "count": 0
           },
           {
            "bin_end": -0.11549295774999996,
            "bin_start": -0.21549295775,
            "count": 0
           },
           {
            "bin_end": -0.01549295774999998,
            "bin_start": -0.11549295774999996,
            "count": 0
           },
           {
            "bin_end": 0.08450704225,
            "bin_start": -0.01549295774999998,
            "count": 0
           },
           {
            "bin_end": 0.1845070422500001,
            "bin_start": 0.08450704225,
            "count": 1
           },
           {
            "bin_end": 0.28450704225000006,
            "bin_start": 0.1845070422500001,
            "count": 0
           },
           {
            "bin_end": 0.38450704225000004,
            "bin_start": 0.28450704225000006,
            "count": 0
           },
           {
            "bin_end": 0.48450704225,
            "bin_start": 0.38450704225000004,
            "count": 0
           },
           {
            "bin_end": 0.58450704225,
            "bin_start": 0.48450704225,
            "count": 0
           }
          ],
          "max": "0.08450704225",
          "min": "0.08450704225",
          "nan_count": 0,
          "unique_count": 1
         }
        },
        {
         "dtype": "object",
         "name": "Category",
         "stats": {
          "categories": [
           {
            "count": 1,
            "name": "Supercenters"
           }
          ],
          "nan_count": 0,
          "unique_count": 1
         }
        },
        {
         "dtype": "int64",
         "name": "_deepnote_index_column"
        }
       ],
       "row_count": 1,
       "rows": [
        {
         "Category": "Supercenters",
         "Company": "Meijer",
         "Sales": 16592,
         "Sales/Avg. Store": 74.73873874,
         "Store Count Growth": 0.08450704225,
         "Stores": 231,
         "_deepnote_index_column": 24
        }
       ]
      },
      "text/html": [
       "<div>\n",
       "<style scoped>\n",
       "    .dataframe tbody tr th:only-of-type {\n",
       "        vertical-align: middle;\n",
       "    }\n",
       "\n",
       "    .dataframe tbody tr th {\n",
       "        vertical-align: top;\n",
       "    }\n",
       "\n",
       "    .dataframe thead th {\n",
       "        text-align: right;\n",
       "    }\n",
       "</style>\n",
       "<table border=\"1\" class=\"dataframe\">\n",
       "  <thead>\n",
       "    <tr style=\"text-align: right;\">\n",
       "      <th></th>\n",
       "      <th>Company</th>\n",
       "      <th>Sales</th>\n",
       "      <th>Stores</th>\n",
       "      <th>Sales/Avg. Store</th>\n",
       "      <th>Store Count Growth</th>\n",
       "      <th>Category</th>\n",
       "    </tr>\n",
       "  </thead>\n",
       "  <tbody>\n",
       "    <tr>\n",
       "      <th>24</th>\n",
       "      <td>Meijer</td>\n",
       "      <td>16592</td>\n",
       "      <td>231.0</td>\n",
       "      <td>74.738739</td>\n",
       "      <td>0.084507</td>\n",
       "      <td>Supercenters</td>\n",
       "    </tr>\n",
       "  </tbody>\n",
       "</table>\n",
       "</div>"
      ],
      "text/plain": [
       "   Company  Sales  Stores  Sales/Avg. Store  Store Count Growth      Category\n",
       "24  Meijer  16592   231.0         74.738739            0.084507  Supercenters"
      ]
     },
     "execution_count": 36,
     "metadata": {},
     "output_type": "execute_result"
    }
   ],
   "source": [
    "df_complete[df_complete.Sales == df_complete.Sales.min()]"
   ]
  },
  {
   "cell_type": "markdown",
   "metadata": {
    "cell_id": "d53a673f-5fdd-46d7-ab6a-e9fbe0b62631",
    "deepnote_cell_type": "markdown",
    "tags": []
   },
   "source": [
    "#### Tiendas - Empresa con más tiendas sin considerar su categoria"
   ]
  },
  {
   "cell_type": "code",
   "execution_count": null,
   "metadata": {
    "cell_id": "80628d07-b72c-4bca-a5a0-f588c76eed95",
    "deepnote_cell_type": "code",
    "deepnote_to_be_reexecuted": false,
    "execution_millis": 4,
    "execution_start": 1645987407376,
    "source_hash": "8e25c98f",
    "tags": []
   },
   "outputs": [
    {
     "data": {
      "application/vnd.deepnote.dataframe.v3+json": {
       "column_count": 6,
       "columns": [
        {
         "dtype": "object",
         "name": "Company",
         "stats": {
          "categories": [
           {
            "count": 1,
            "name": "Dollar Tree"
           }
          ],
          "nan_count": 0,
          "unique_count": 1
         }
        },
        {
         "dtype": "int64",
         "name": "Sales",
         "stats": {
          "histogram": [
           {
            "bin_end": 21463.6,
            "bin_start": 21463.5,
            "count": 0
           },
           {
            "bin_end": 21463.7,
            "bin_start": 21463.6,
            "count": 0
           },
           {
            "bin_end": 21463.8,
            "bin_start": 21463.7,
            "count": 0
           },
           {
            "bin_end": 21463.9,
            "bin_start": 21463.8,
            "count": 0
           },
           {
            "bin_end": 21464,
            "bin_start": 21463.9,
            "count": 0
           },
           {
            "bin_end": 21464.1,
            "bin_start": 21464,
            "count": 1
           },
           {
            "bin_end": 21464.2,
            "bin_start": 21464.1,
            "count": 0
           },
           {
            "bin_end": 21464.3,
            "bin_start": 21464.2,
            "count": 0
           },
           {
            "bin_end": 21464.4,
            "bin_start": 21464.3,
            "count": 0
           },
           {
            "bin_end": 21464.5,
            "bin_start": 21464.4,
            "count": 0
           }
          ],
          "max": "21464",
          "min": "21464",
          "nan_count": 0,
          "unique_count": 1
         }
        },
        {
         "dtype": "float64",
         "name": "Stores",
         "stats": {
          "histogram": [
           {
            "bin_end": 14249.6,
            "bin_start": 14249.5,
            "count": 0
           },
           {
            "bin_end": 14249.7,
            "bin_start": 14249.6,
            "count": 0
           },
           {
            "bin_end": 14249.8,
            "bin_start": 14249.7,
            "count": 0
           },
           {
            "bin_end": 14249.9,
            "bin_start": 14249.8,
            "count": 0
           },
           {
            "bin_end": 14250,
            "bin_start": 14249.9,
            "count": 0
           },
           {
            "bin_end": 14250.1,
            "bin_start": 14250,
            "count": 1
           },
           {
            "bin_end": 14250.2,
            "bin_start": 14250.1,
            "count": 0
           },
           {
            "bin_end": 14250.3,
            "bin_start": 14250.2,
            "count": 0
           },
           {
            "bin_end": 14250.4,
            "bin_start": 14250.3,
            "count": 0
           },
           {
            "bin_end": 14250.5,
            "bin_start": 14250.4,
            "count": 0
           }
          ],
          "max": "14250.0",
          "min": "14250.0",
          "nan_count": 0,
          "unique_count": 1
         }
        },
        {
         "dtype": "float64",
         "name": "Sales/Avg. Store",
         "stats": {
          "histogram": [
           {
            "bin_end": 1.16391854,
            "bin_start": 1.06391854,
            "count": 0
           },
           {
            "bin_end": 1.26391854,
            "bin_start": 1.16391854,
            "count": 0
           },
           {
            "bin_end": 1.36391854,
            "bin_start": 1.26391854,
            "count": 0
           },
           {
            "bin_end": 1.4639185399999999,
            "bin_start": 1.36391854,
            "count": 0
           },
           {
            "bin_end": 1.56391854,
            "bin_start": 1.4639185399999999,
            "count": 0
           },
           {
            "bin_end": 1.66391854,
            "bin_start": 1.56391854,
            "count": 1
           },
           {
            "bin_end": 1.7639185400000001,
            "bin_start": 1.66391854,
            "count": 0
           },
           {
            "bin_end": 1.86391854,
            "bin_start": 1.7639185400000001,
            "count": 0
           },
           {
            "bin_end": 1.9639185399999999,
            "bin_start": 1.86391854,
            "count": 0
           },
           {
            "bin_end": 2.06391854,
            "bin_start": 1.9639185399999999,
            "count": 0
           }
          ],
          "max": "1.56391854",
          "min": "1.56391854",
          "nan_count": 0,
          "unique_count": 1
         }
        },
        {
         "dtype": "float64",
         "name": "Store Count Growth",
         "stats": {
          "histogram": [
           {
            "bin_end": -0.32037275551,
            "bin_start": -0.42037275551,
            "count": 0
           },
           {
            "bin_end": -0.22037275550999996,
            "bin_start": -0.32037275551,
            "count": 0
           },
           {
            "bin_end": -0.12037275550999993,
            "bin_start": -0.22037275550999996,
            "count": 0
           },
           {
            "bin_end": -0.02037275550999995,
            "bin_start": -0.12037275550999993,
            "count": 0
           },
           {
            "bin_end": 0.07962724449000003,
            "bin_start": -0.02037275550999995,
            "count": 1
           },
           {
            "bin_end": 0.17962724449000012,
            "bin_start": 0.07962724449000003,
            "count": 0
           },
           {
            "bin_end": 0.2796272444900001,
            "bin_start": 0.17962724449000012,
            "count": 0
           },
           {
            "bin_end": 0.37962724449000007,
            "bin_start": 0.2796272444900001,
            "count": 0
           },
           {
            "bin_end": 0.47962724449000005,
            "bin_start": 0.37962724449000007,
            "count": 0
           },
           {
            "bin_end": 0.57962724449,
            "bin_start": 0.47962724449000005,
            "count": 0
           }
          ],
          "max": "0.07962724449",
          "min": "0.07962724449",
          "nan_count": 0,
          "unique_count": 1
         }
        },
        {
         "dtype": "object",
         "name": "Category",
         "stats": {
          "categories": [
           {
            "count": 1,
            "name": "Dollar Stores"
           }
          ],
          "nan_count": 0,
          "unique_count": 1
         }
        },
        {
         "dtype": "int64",
         "name": "_deepnote_index_column"
        }
       ],
       "row_count": 1,
       "rows": [
        {
         "Category": "Dollar Stores",
         "Company": "Dollar Tree",
         "Sales": 21464,
         "Sales/Avg. Store": 1.56391854,
         "Store Count Growth": 0.07962724449,
         "Stores": 14250,
         "_deepnote_index_column": 20
        }
       ]
      },
      "text/html": [
       "<div>\n",
       "<style scoped>\n",
       "    .dataframe tbody tr th:only-of-type {\n",
       "        vertical-align: middle;\n",
       "    }\n",
       "\n",
       "    .dataframe tbody tr th {\n",
       "        vertical-align: top;\n",
       "    }\n",
       "\n",
       "    .dataframe thead th {\n",
       "        text-align: right;\n",
       "    }\n",
       "</style>\n",
       "<table border=\"1\" class=\"dataframe\">\n",
       "  <thead>\n",
       "    <tr style=\"text-align: right;\">\n",
       "      <th></th>\n",
       "      <th>Company</th>\n",
       "      <th>Sales</th>\n",
       "      <th>Stores</th>\n",
       "      <th>Sales/Avg. Store</th>\n",
       "      <th>Store Count Growth</th>\n",
       "      <th>Category</th>\n",
       "    </tr>\n",
       "  </thead>\n",
       "  <tbody>\n",
       "    <tr>\n",
       "      <th>20</th>\n",
       "      <td>Dollar Tree</td>\n",
       "      <td>21464</td>\n",
       "      <td>14250.0</td>\n",
       "      <td>1.563919</td>\n",
       "      <td>0.079627</td>\n",
       "      <td>Dollar Stores</td>\n",
       "    </tr>\n",
       "  </tbody>\n",
       "</table>\n",
       "</div>"
      ],
      "text/plain": [
       "        Company  Sales   Stores  Sales/Avg. Store  Store Count Growth  \\\n",
       "20  Dollar Tree  21464  14250.0          1.563919            0.079627   \n",
       "\n",
       "         Category  \n",
       "20  Dollar Stores  "
      ]
     },
     "execution_count": 37,
     "metadata": {},
     "output_type": "execute_result"
    }
   ],
   "source": [
    "df_complete[df_complete.Stores == df_complete.Stores.max()]"
   ]
  },
  {
   "cell_type": "markdown",
   "metadata": {
    "cell_id": "5ba27201-1566-408f-864b-63f25391b70f",
    "deepnote_cell_type": "markdown",
    "tags": []
   },
   "source": [
    "#### Tiendas - Empresa con tiendas a la media sin considerar su categoria"
   ]
  },
  {
   "cell_type": "code",
   "execution_count": null,
   "metadata": {
    "cell_id": "03cecd1d-90fd-4b05-8ff6-2754ab3218a1",
    "deepnote_cell_type": "code",
    "deepnote_to_be_reexecuted": false,
    "execution_millis": 8,
    "execution_start": 1645987407379,
    "source_hash": "ebef3229",
    "tags": []
   },
   "outputs": [
    {
     "data": {
      "application/vnd.deepnote.dataframe.v3+json": {
       "column_count": 6,
       "columns": [
        {
         "dtype": "object",
         "name": "Company",
         "stats": {
          "categories": [
           {
            "count": 1,
            "name": "Target"
           }
          ],
          "nan_count": 0,
          "unique_count": 1
         }
        },
        {
         "dtype": "int64",
         "name": "Sales",
         "stats": {
          "histogram": [
           {
            "bin_end": 71207.6,
            "bin_start": 71207.5,
            "count": 0
           },
           {
            "bin_end": 71207.7,
            "bin_start": 71207.6,
            "count": 0
           },
           {
            "bin_end": 71207.8,
            "bin_start": 71207.7,
            "count": 0
           },
           {
            "bin_end": 71207.9,
            "bin_start": 71207.8,
            "count": 0
           },
           {
            "bin_end": 71208,
            "bin_start": 71207.9,
            "count": 0
           },
           {
            "bin_end": 71208.1,
            "bin_start": 71208,
            "count": 1
           },
           {
            "bin_end": 71208.2,
            "bin_start": 71208.1,
            "count": 0
           },
           {
            "bin_end": 71208.3,
            "bin_start": 71208.2,
            "count": 0
           },
           {
            "bin_end": 71208.4,
            "bin_start": 71208.3,
            "count": 0
           },
           {
            "bin_end": 71208.5,
            "bin_start": 71208.4,
            "count": 0
           }
          ],
          "max": "71208",
          "min": "71208",
          "nan_count": 0,
          "unique_count": 1
         }
        },
        {
         "dtype": "float64",
         "name": "Stores",
         "stats": {
          "histogram": [
           {
            "bin_end": 1771.6,
            "bin_start": 1771.5,
            "count": 0
           },
           {
            "bin_end": 1771.7,
            "bin_start": 1771.6,
            "count": 0
           },
           {
            "bin_end": 1771.8,
            "bin_start": 1771.7,
            "count": 0
           },
           {
            "bin_end": 1771.9,
            "bin_start": 1771.8,
            "count": 0
           },
           {
            "bin_end": 1772,
            "bin_start": 1771.9,
            "count": 0
           },
           {
            "bin_end": 1772.1,
            "bin_start": 1772,
            "count": 1
           },
           {
            "bin_end": 1772.2,
            "bin_start": 1772.1,
            "count": 0
           },
           {
            "bin_end": 1772.3,
            "bin_start": 1772.2,
            "count": 0
           },
           {
            "bin_end": 1772.4,
            "bin_start": 1772.3,
            "count": 0
           },
           {
            "bin_end": 1772.5,
            "bin_start": 1772.4,
            "count": 0
           }
          ],
          "max": "1772.0",
          "min": "1772.0",
          "nan_count": 0,
          "unique_count": 1
         }
        },
        {
         "dtype": "float64",
         "name": "Sales/Avg. Store",
         "stats": {
          "histogram": [
           {
            "bin_end": 39.58203257,
            "bin_start": 39.48203257,
            "count": 0
           },
           {
            "bin_end": 39.682032570000004,
            "bin_start": 39.58203257,
            "count": 0
           },
           {
            "bin_end": 39.78203257,
            "bin_start": 39.682032570000004,
            "count": 0
           },
           {
            "bin_end": 39.88203257,
            "bin_start": 39.78203257,
            "count": 0
           },
           {
            "bin_end": 39.98203257,
            "bin_start": 39.88203257,
            "count": 0
           },
           {
            "bin_end": 40.08203257,
            "bin_start": 39.98203257,
            "count": 1
           },
           {
            "bin_end": 40.182032570000004,
            "bin_start": 40.08203257,
            "count": 0
           },
           {
            "bin_end": 40.28203257,
            "bin_start": 40.182032570000004,
            "count": 0
           },
           {
            "bin_end": 40.38203257,
            "bin_start": 40.28203257,
            "count": 0
           },
           {
            "bin_end": 40.48203257,
            "bin_start": 40.38203257,
            "count": 0
           }
          ],
          "max": "39.98203257",
          "min": "39.98203257",
          "nan_count": 0,
          "unique_count": 1
         }
        },
        {
         "dtype": "float64",
         "name": "Store Count Growth",
         "stats": {
          "histogram": [
           {
            "bin_end": -0.41005586592,
            "bin_start": -0.51005586592,
            "count": 0
           },
           {
            "bin_end": -0.31005586591999995,
            "bin_start": -0.41005586592,
            "count": 0
           },
           {
            "bin_end": -0.21005586591999992,
            "bin_start": -0.31005586591999995,
            "count": 0
           },
           {
            "bin_end": -0.11005586591999994,
            "bin_start": -0.21005586591999992,
            "count": 0
           },
           {
            "bin_end": -0.010055865919999962,
            "bin_start": -0.11005586591999994,
            "count": 1
           },
           {
            "bin_end": 0.08994413408000013,
            "bin_start": -0.010055865919999962,
            "count": 0
           },
           {
            "bin_end": 0.1899441340800001,
            "bin_start": 0.08994413408000013,
            "count": 0
           },
           {
            "bin_end": 0.2899441340800001,
            "bin_start": 0.1899441340800001,
            "count": 0
           },
           {
            "bin_end": 0.38994413408000006,
            "bin_start": 0.2899441340800001,
            "count": 0
           },
           {
            "bin_end": 0.48994413408,
            "bin_start": 0.38994413408000006,
            "count": 0
           }
          ],
          "max": "-0.01005586592",
          "min": "-0.01005586592",
          "nan_count": 0,
          "unique_count": 1
         }
        },
        {
         "dtype": "object",
         "name": "Category",
         "stats": {
          "categories": [
           {
            "count": 1,
            "name": "Supercenters"
           }
          ],
          "nan_count": 0,
          "unique_count": 1
         }
        },
        {
         "dtype": "int64",
         "name": "_deepnote_index_column"
        }
       ],
       "row_count": 1,
       "rows": [
        {
         "Category": "Supercenters",
         "Company": "Target",
         "Sales": 71208,
         "Sales/Avg. Store": 39.98203257,
         "Store Count Growth": -0.01005586592,
         "Stores": 1772,
         "_deepnote_index_column": 7
        }
       ]
      },
      "text/html": [
       "<div>\n",
       "<style scoped>\n",
       "    .dataframe tbody tr th:only-of-type {\n",
       "        vertical-align: middle;\n",
       "    }\n",
       "\n",
       "    .dataframe tbody tr th {\n",
       "        vertical-align: top;\n",
       "    }\n",
       "\n",
       "    .dataframe thead th {\n",
       "        text-align: right;\n",
       "    }\n",
       "</style>\n",
       "<table border=\"1\" class=\"dataframe\">\n",
       "  <thead>\n",
       "    <tr style=\"text-align: right;\">\n",
       "      <th></th>\n",
       "      <th>Company</th>\n",
       "      <th>Sales</th>\n",
       "      <th>Stores</th>\n",
       "      <th>Sales/Avg. Store</th>\n",
       "      <th>Store Count Growth</th>\n",
       "      <th>Category</th>\n",
       "    </tr>\n",
       "  </thead>\n",
       "  <tbody>\n",
       "    <tr>\n",
       "      <th>7</th>\n",
       "      <td>Target</td>\n",
       "      <td>71208</td>\n",
       "      <td>1772.0</td>\n",
       "      <td>39.982033</td>\n",
       "      <td>-0.010056</td>\n",
       "      <td>Supercenters</td>\n",
       "    </tr>\n",
       "  </tbody>\n",
       "</table>\n",
       "</div>"
      ],
      "text/plain": [
       "  Company  Sales  Stores  Sales/Avg. Store  Store Count Growth      Category\n",
       "7  Target  71208  1772.0         39.982033           -0.010056  Supercenters"
      ]
     },
     "execution_count": 38,
     "metadata": {},
     "output_type": "execute_result"
    }
   ],
   "source": [
    "df_complete_sorted = df_complete.sort_values('Stores',ascending=False)\n",
    "df_complete_sorted[df_complete_sorted.Stores == df_complete_sorted.Stores.median()]\n"
   ]
  },
  {
   "cell_type": "markdown",
   "metadata": {
    "cell_id": "6fa2682f-7079-45b1-8aca-932b6c99e3ca",
    "deepnote_cell_type": "markdown",
    "tags": []
   },
   "source": [
    "#### Tiendas - Empresa con menos tiendas sin considerar categoria"
   ]
  },
  {
   "cell_type": "code",
   "execution_count": null,
   "metadata": {
    "cell_id": "f6d88dc0-35f1-42d9-bac6-5e1e1207ed78",
    "deepnote_cell_type": "code",
    "deepnote_to_be_reexecuted": false,
    "execution_millis": 14,
    "execution_start": 1645987407401,
    "source_hash": "c30c6b90",
    "tags": []
   },
   "outputs": [
    {
     "data": {
      "application/vnd.deepnote.dataframe.v3+json": {
       "column_count": 6,
       "columns": [
        {
         "dtype": "object",
         "name": "Company",
         "stats": {
          "categories": [
           {
            "count": 1,
            "name": "Meijer"
           }
          ],
          "nan_count": 0,
          "unique_count": 1
         }
        },
        {
         "dtype": "int64",
         "name": "Sales",
         "stats": {
          "histogram": [
           {
            "bin_end": 16591.6,
            "bin_start": 16591.5,
            "count": 0
           },
           {
            "bin_end": 16591.7,
            "bin_start": 16591.6,
            "count": 0
           },
           {
            "bin_end": 16591.8,
            "bin_start": 16591.7,
            "count": 0
           },
           {
            "bin_end": 16591.9,
            "bin_start": 16591.8,
            "count": 0
           },
           {
            "bin_end": 16592,
            "bin_start": 16591.9,
            "count": 0
           },
           {
            "bin_end": 16592.1,
            "bin_start": 16592,
            "count": 1
           },
           {
            "bin_end": 16592.2,
            "bin_start": 16592.1,
            "count": 0
           },
           {
            "bin_end": 16592.3,
            "bin_start": 16592.2,
            "count": 0
           },
           {
            "bin_end": 16592.4,
            "bin_start": 16592.3,
            "count": 0
           },
           {
            "bin_end": 16592.5,
            "bin_start": 16592.4,
            "count": 0
           }
          ],
          "max": "16592",
          "min": "16592",
          "nan_count": 0,
          "unique_count": 1
         }
        },
        {
         "dtype": "float64",
         "name": "Stores",
         "stats": {
          "histogram": [
           {
            "bin_end": 230.6,
            "bin_start": 230.5,
            "count": 0
           },
           {
            "bin_end": 230.7,
            "bin_start": 230.6,
            "count": 0
           },
           {
            "bin_end": 230.8,
            "bin_start": 230.7,
            "count": 0
           },
           {
            "bin_end": 230.9,
            "bin_start": 230.8,
            "count": 0
           },
           {
            "bin_end": 231,
            "bin_start": 230.9,
            "count": 0
           },
           {
            "bin_end": 231.1,
            "bin_start": 231,
            "count": 1
           },
           {
            "bin_end": 231.2,
            "bin_start": 231.1,
            "count": 0
           },
           {
            "bin_end": 231.3,
            "bin_start": 231.2,
            "count": 0
           },
           {
            "bin_end": 231.4,
            "bin_start": 231.3,
            "count": 0
           },
           {
            "bin_end": 231.5,
            "bin_start": 231.4,
            "count": 0
           }
          ],
          "max": "231.0",
          "min": "231.0",
          "nan_count": 0,
          "unique_count": 1
         }
        },
        {
         "dtype": "float64",
         "name": "Sales/Avg. Store",
         "stats": {
          "histogram": [
           {
            "bin_end": 74.33873874,
            "bin_start": 74.23873874,
            "count": 0
           },
           {
            "bin_end": 74.43873874,
            "bin_start": 74.33873874,
            "count": 0
           },
           {
            "bin_end": 74.53873874,
            "bin_start": 74.43873874,
            "count": 0
           },
           {
            "bin_end": 74.63873874000001,
            "bin_start": 74.53873874,
            "count": 0
           },
           {
            "bin_end": 74.73873874,
            "bin_start": 74.63873874000001,
            "count": 0
           },
           {
            "bin_end": 74.83873874,
            "bin_start": 74.73873874,
            "count": 1
           },
           {
            "bin_end": 74.93873874,
            "bin_start": 74.83873874,
            "count": 0
           },
           {
            "bin_end": 75.03873874,
            "bin_start": 74.93873874,
            "count": 0
           },
           {
            "bin_end": 75.13873874000001,
            "bin_start": 75.03873874,
            "count": 0
           },
           {
            "bin_end": 75.23873874,
            "bin_start": 75.13873874000001,
            "count": 0
           }
          ],
          "max": "74.73873874",
          "min": "74.73873874",
          "nan_count": 0,
          "unique_count": 1
         }
        },
        {
         "dtype": "float64",
         "name": "Store Count Growth",
         "stats": {
          "histogram": [
           {
            "bin_end": -0.31549295774999997,
            "bin_start": -0.41549295775,
            "count": 0
           },
           {
            "bin_end": -0.21549295775,
            "bin_start": -0.31549295774999997,
            "count": 0
           },
           {
            "bin_end": -0.11549295774999996,
            "bin_start": -0.21549295775,
            "count": 0
           },
           {
            "bin_end": -0.01549295774999998,
            "bin_start": -0.11549295774999996,
            "count": 0
           },
           {
            "bin_end": 0.08450704225,
            "bin_start": -0.01549295774999998,
            "count": 0
           },
           {
            "bin_end": 0.1845070422500001,
            "bin_start": 0.08450704225,
            "count": 1
           },
           {
            "bin_end": 0.28450704225000006,
            "bin_start": 0.1845070422500001,
            "count": 0
           },
           {
            "bin_end": 0.38450704225000004,
            "bin_start": 0.28450704225000006,
            "count": 0
           },
           {
            "bin_end": 0.48450704225,
            "bin_start": 0.38450704225000004,
            "count": 0
           },
           {
            "bin_end": 0.58450704225,
            "bin_start": 0.48450704225,
            "count": 0
           }
          ],
          "max": "0.08450704225",
          "min": "0.08450704225",
          "nan_count": 0,
          "unique_count": 1
         }
        },
        {
         "dtype": "object",
         "name": "Category",
         "stats": {
          "categories": [
           {
            "count": 1,
            "name": "Supercenters"
           }
          ],
          "nan_count": 0,
          "unique_count": 1
         }
        },
        {
         "dtype": "int64",
         "name": "_deepnote_index_column"
        }
       ],
       "row_count": 1,
       "rows": [
        {
         "Category": "Supercenters",
         "Company": "Meijer",
         "Sales": 16592,
         "Sales/Avg. Store": 74.73873874,
         "Store Count Growth": 0.08450704225,
         "Stores": 231,
         "_deepnote_index_column": 24
        }
       ]
      },
      "text/html": [
       "<div>\n",
       "<style scoped>\n",
       "    .dataframe tbody tr th:only-of-type {\n",
       "        vertical-align: middle;\n",
       "    }\n",
       "\n",
       "    .dataframe tbody tr th {\n",
       "        vertical-align: top;\n",
       "    }\n",
       "\n",
       "    .dataframe thead th {\n",
       "        text-align: right;\n",
       "    }\n",
       "</style>\n",
       "<table border=\"1\" class=\"dataframe\">\n",
       "  <thead>\n",
       "    <tr style=\"text-align: right;\">\n",
       "      <th></th>\n",
       "      <th>Company</th>\n",
       "      <th>Sales</th>\n",
       "      <th>Stores</th>\n",
       "      <th>Sales/Avg. Store</th>\n",
       "      <th>Store Count Growth</th>\n",
       "      <th>Category</th>\n",
       "    </tr>\n",
       "  </thead>\n",
       "  <tbody>\n",
       "    <tr>\n",
       "      <th>24</th>\n",
       "      <td>Meijer</td>\n",
       "      <td>16592</td>\n",
       "      <td>231.0</td>\n",
       "      <td>74.738739</td>\n",
       "      <td>0.084507</td>\n",
       "      <td>Supercenters</td>\n",
       "    </tr>\n",
       "  </tbody>\n",
       "</table>\n",
       "</div>"
      ],
      "text/plain": [
       "   Company  Sales  Stores  Sales/Avg. Store  Store Count Growth      Category\n",
       "24  Meijer  16592   231.0         74.738739            0.084507  Supercenters"
      ]
     },
     "execution_count": 39,
     "metadata": {},
     "output_type": "execute_result"
    }
   ],
   "source": [
    "df_complete_stores = df_complete[df_complete.Stores != 0]\n",
    "df_complete_stores[df_complete_stores.Stores == df_complete_stores.Stores.min()]"
   ]
  },
  {
   "cell_type": "markdown",
   "metadata": {
    "cell_id": "a6554b54-4ca6-4855-adf3-142c4ebc5879",
    "deepnote_cell_type": "markdown",
    "tags": []
   },
   "source": [
    "#### Empresa con mejor promedio de ventas por tienda sin considerar su categoria"
   ]
  },
  {
   "cell_type": "code",
   "execution_count": null,
   "metadata": {
    "cell_id": "315aa5be-e892-46a8-9c81-c7650027e204",
    "deepnote_cell_type": "code",
    "deepnote_to_be_reexecuted": false,
    "execution_millis": 17,
    "execution_start": 1645987407464,
    "source_hash": "47914d08",
    "tags": []
   },
   "outputs": [
    {
     "data": {
      "application/vnd.deepnote.dataframe.v3+json": {
       "column_count": 6,
       "columns": [
        {
         "dtype": "object",
         "name": "Company",
         "stats": {
          "categories": [
           {
            "count": 1,
            "name": "Costco"
           }
          ],
          "nan_count": 0,
          "unique_count": 1
         }
        },
        {
         "dtype": "int64",
         "name": "Sales",
         "stats": {
          "histogram": [
           {
            "bin_end": 90047.6,
            "bin_start": 90047.5,
            "count": 0
           },
           {
            "bin_end": 90047.7,
            "bin_start": 90047.6,
            "count": 0
           },
           {
            "bin_end": 90047.8,
            "bin_start": 90047.7,
            "count": 0
           },
           {
            "bin_end": 90047.9,
            "bin_start": 90047.8,
            "count": 0
           },
           {
            "bin_end": 90048,
            "bin_start": 90047.9,
            "count": 0
           },
           {
            "bin_end": 90048.1,
            "bin_start": 90048,
            "count": 1
           },
           {
            "bin_end": 90048.2,
            "bin_start": 90048.1,
            "count": 0
           },
           {
            "bin_end": 90048.3,
            "bin_start": 90048.2,
            "count": 0
           },
           {
            "bin_end": 90048.4,
            "bin_start": 90048.3,
            "count": 0
           },
           {
            "bin_end": 90048.5,
            "bin_start": 90048.4,
            "count": 0
           }
          ],
          "max": "90048",
          "min": "90048",
          "nan_count": 0,
          "unique_count": 1
         }
        },
        {
         "dtype": "float64",
         "name": "Stores",
         "stats": {
          "histogram": [
           {
            "bin_end": 494.6,
            "bin_start": 494.5,
            "count": 0
           },
           {
            "bin_end": 494.7,
            "bin_start": 494.6,
            "count": 0
           },
           {
            "bin_end": 494.8,
            "bin_start": 494.7,
            "count": 0
           },
           {
            "bin_end": 494.9,
            "bin_start": 494.8,
            "count": 0
           },
           {
            "bin_end": 495,
            "bin_start": 494.9,
            "count": 0
           },
           {
            "bin_end": 495.1,
            "bin_start": 495,
            "count": 1
           },
           {
            "bin_end": 495.2,
            "bin_start": 495.1,
            "count": 0
           },
           {
            "bin_end": 495.3,
            "bin_start": 495.2,
            "count": 0
           },
           {
            "bin_end": 495.4,
            "bin_start": 495.3,
            "count": 0
           },
           {
            "bin_end": 495.5,
            "bin_start": 495.4,
            "count": 0
           }
          ],
          "max": "495.0",
          "min": "495.0",
          "nan_count": 0,
          "unique_count": 1
         }
        },
        {
         "dtype": "float64",
         "name": "Sales/Avg. Store",
         "stats": {
          "histogram": [
           {
            "bin_end": 187.39562039999998,
            "bin_start": 187.2956204,
            "count": 0
           },
           {
            "bin_end": 187.49562039999998,
            "bin_start": 187.39562039999998,
            "count": 0
           },
           {
            "bin_end": 187.5956204,
            "bin_start": 187.49562039999998,
            "count": 0
           },
           {
            "bin_end": 187.6956204,
            "bin_start": 187.5956204,
            "count": 0
           },
           {
            "bin_end": 187.7956204,
            "bin_start": 187.6956204,
            "count": 0
           },
           {
            "bin_end": 187.89562039999998,
            "bin_start": 187.7956204,
            "count": 1
           },
           {
            "bin_end": 187.99562039999998,
            "bin_start": 187.89562039999998,
            "count": 0
           },
           {
            "bin_end": 188.0956204,
            "bin_start": 187.99562039999998,
            "count": 0
           },
           {
            "bin_end": 188.1956204,
            "bin_start": 188.0956204,
            "count": 0
           },
           {
            "bin_end": 188.2956204,
            "bin_start": 188.1956204,
            "count": 0
           }
          ],
          "max": "187.7956204",
          "min": "187.7956204",
          "nan_count": 0,
          "unique_count": 1
         }
        },
        {
         "dtype": "float64",
         "name": "Store Count Growth",
         "stats": {
          "histogram": [
           {
            "bin_end": -0.33318965517,
            "bin_start": -0.43318965516999997,
            "count": 0
           },
           {
            "bin_end": -0.23318965516999995,
            "bin_start": -0.33318965517,
            "count": 0
           },
           {
            "bin_end": -0.13318965516999992,
            "bin_start": -0.23318965516999995,
            "count": 0
           },
           {
            "bin_end": -0.03318965516999994,
            "bin_start": -0.13318965516999992,
            "count": 0
           },
           {
            "bin_end": 0.06681034483000003,
            "bin_start": -0.03318965516999994,
            "count": 1
           },
           {
            "bin_end": 0.16681034483000012,
            "bin_start": 0.06681034483000003,
            "count": 0
           },
           {
            "bin_end": 0.2668103448300001,
            "bin_start": 0.16681034483000012,
            "count": 0
           },
           {
            "bin_end": 0.3668103448300001,
            "bin_start": 0.2668103448300001,
            "count": 0
           },
           {
            "bin_end": 0.46681034483000006,
            "bin_start": 0.3668103448300001,
            "count": 0
           },
           {
            "bin_end": 0.56681034483,
            "bin_start": 0.46681034483000006,
            "count": 0
           }
          ],
          "max": "0.06681034483",
          "min": "0.06681034483",
          "nan_count": 0,
          "unique_count": 1
         }
        },
        {
         "dtype": "object",
         "name": "Category",
         "stats": {
          "categories": [
           {
            "count": 1,
            "name": "Warehouse Club"
           }
          ],
          "nan_count": 0,
          "unique_count": 1
         }
        },
        {
         "dtype": "int64",
         "name": "_deepnote_index_column"
        }
       ],
       "row_count": 1,
       "rows": [
        {
         "Category": "Warehouse Club",
         "Company": "Costco",
         "Sales": 90048,
         "Sales/Avg. Store": 187.7956204,
         "Store Count Growth": 0.06681034483,
         "Stores": 495,
         "_deepnote_index_column": 2
        }
       ]
      },
      "text/html": [
       "<div>\n",
       "<style scoped>\n",
       "    .dataframe tbody tr th:only-of-type {\n",
       "        vertical-align: middle;\n",
       "    }\n",
       "\n",
       "    .dataframe tbody tr th {\n",
       "        vertical-align: top;\n",
       "    }\n",
       "\n",
       "    .dataframe thead th {\n",
       "        text-align: right;\n",
       "    }\n",
       "</style>\n",
       "<table border=\"1\" class=\"dataframe\">\n",
       "  <thead>\n",
       "    <tr style=\"text-align: right;\">\n",
       "      <th></th>\n",
       "      <th>Company</th>\n",
       "      <th>Sales</th>\n",
       "      <th>Stores</th>\n",
       "      <th>Sales/Avg. Store</th>\n",
       "      <th>Store Count Growth</th>\n",
       "      <th>Category</th>\n",
       "    </tr>\n",
       "  </thead>\n",
       "  <tbody>\n",
       "    <tr>\n",
       "      <th>2</th>\n",
       "      <td>Costco</td>\n",
       "      <td>90048</td>\n",
       "      <td>495.0</td>\n",
       "      <td>187.79562</td>\n",
       "      <td>0.06681</td>\n",
       "      <td>Warehouse Club</td>\n",
       "    </tr>\n",
       "  </tbody>\n",
       "</table>\n",
       "</div>"
      ],
      "text/plain": [
       "  Company  Sales  Stores  Sales/Avg. Store  Store Count Growth        Category\n",
       "2  Costco  90048   495.0         187.79562             0.06681  Warehouse Club"
      ]
     },
     "execution_count": 40,
     "metadata": {},
     "output_type": "execute_result"
    }
   ],
   "source": [
    "df_complete[df_complete['Sales/Avg. Store'] == df_complete['Sales/Avg. Store'].max()]"
   ]
  },
  {
   "cell_type": "markdown",
   "metadata": {
    "cell_id": "dc543d78-b7e5-4a0a-8f67-a2f3e6b5eb6b",
    "deepnote_cell_type": "markdown",
    "tags": []
   },
   "source": [
    "#### Empresa que tuvo más ventas sin contar con tiendas fisicas"
   ]
  },
  {
   "cell_type": "code",
   "execution_count": null,
   "metadata": {
    "cell_id": "9cd06c54-68d7-4942-aa91-c32be9a44113",
    "deepnote_cell_type": "code",
    "deepnote_to_be_reexecuted": false,
    "execution_millis": 18,
    "execution_start": 1645987407465,
    "source_hash": "8700416a",
    "tags": []
   },
   "outputs": [
    {
     "data": {
      "application/vnd.deepnote.dataframe.v3+json": {
       "column_count": 6,
       "columns": [
        {
         "dtype": "object",
         "name": "Company",
         "stats": {
          "categories": [
           {
            "count": 1,
            "name": "Amazon"
           }
          ],
          "nan_count": 0,
          "unique_count": 1
         }
        },
        {
         "dtype": "int64",
         "name": "Sales",
         "stats": {
          "histogram": [
           {
            "bin_end": 71686.6,
            "bin_start": 71686.5,
            "count": 0
           },
           {
            "bin_end": 71686.7,
            "bin_start": 71686.6,
            "count": 0
           },
           {
            "bin_end": 71686.8,
            "bin_start": 71686.7,
            "count": 0
           },
           {
            "bin_end": 71686.9,
            "bin_start": 71686.8,
            "count": 0
           },
           {
            "bin_end": 71687,
            "bin_start": 71686.9,
            "count": 0
           },
           {
            "bin_end": 71687.1,
            "bin_start": 71687,
            "count": 1
           },
           {
            "bin_end": 71687.2,
            "bin_start": 71687.1,
            "count": 0
           },
           {
            "bin_end": 71687.3,
            "bin_start": 71687.2,
            "count": 0
           },
           {
            "bin_end": 71687.4,
            "bin_start": 71687.3,
            "count": 0
           },
           {
            "bin_end": 71687.5,
            "bin_start": 71687.4,
            "count": 0
           }
          ],
          "max": "71687",
          "min": "71687",
          "nan_count": 0,
          "unique_count": 1
         }
        },
        {
         "dtype": "float64",
         "name": "Stores",
         "stats": {
          "histogram": [
           {
            "bin_end": -0.4,
            "bin_start": -0.5,
            "count": 0
           },
           {
            "bin_end": -0.3,
            "bin_start": -0.4,
            "count": 0
           },
           {
            "bin_end": -0.19999999999999996,
            "bin_start": -0.3,
            "count": 0
           },
           {
            "bin_end": -0.09999999999999998,
            "bin_start": -0.19999999999999996,
            "count": 0
           },
           {
            "bin_end": 0,
            "bin_start": -0.09999999999999998,
            "count": 0
           },
           {
            "bin_end": 0.10000000000000009,
            "bin_start": 0,
            "count": 1
           },
           {
            "bin_end": 0.20000000000000007,
            "bin_start": 0.10000000000000009,
            "count": 0
           },
           {
            "bin_end": 0.30000000000000004,
            "bin_start": 0.20000000000000007,
            "count": 0
           },
           {
            "bin_end": 0.4,
            "bin_start": 0.30000000000000004,
            "count": 0
           },
           {
            "bin_end": 0.5,
            "bin_start": 0.4,
            "count": 0
           }
          ],
          "max": "0.0",
          "min": "0.0",
          "nan_count": 0,
          "unique_count": 1
         }
        },
        {
         "dtype": "float64",
         "name": "Sales/Avg. Store",
         "stats": {
          "histogram": [
           {
            "bin_end": -0.4,
            "bin_start": -0.5,
            "count": 0
           },
           {
            "bin_end": -0.3,
            "bin_start": -0.4,
            "count": 0
           },
           {
            "bin_end": -0.19999999999999996,
            "bin_start": -0.3,
            "count": 0
           },
           {
            "bin_end": -0.09999999999999998,
            "bin_start": -0.19999999999999996,
            "count": 0
           },
           {
            "bin_end": 0,
            "bin_start": -0.09999999999999998,
            "count": 0
           },
           {
            "bin_end": 0.10000000000000009,
            "bin_start": 0,
            "count": 1
           },
           {
            "bin_end": 0.20000000000000007,
            "bin_start": 0.10000000000000009,
            "count": 0
           },
           {
            "bin_end": 0.30000000000000004,
            "bin_start": 0.20000000000000007,
            "count": 0
           },
           {
            "bin_end": 0.4,
            "bin_start": 0.30000000000000004,
            "count": 0
           },
           {
            "bin_end": 0.5,
            "bin_start": 0.4,
            "count": 0
           }
          ],
          "max": "0.0",
          "min": "0.0",
          "nan_count": 0,
          "unique_count": 1
         }
        },
        {
         "dtype": "float64",
         "name": "Store Count Growth",
         "stats": {
          "histogram": [
           {
            "bin_end": -0.4,
            "bin_start": -0.5,
            "count": 0
           },
           {
            "bin_end": -0.3,
            "bin_start": -0.4,
            "count": 0
           },
           {
            "bin_end": -0.19999999999999996,
            "bin_start": -0.3,
            "count": 0
           },
           {
            "bin_end": -0.09999999999999998,
            "bin_start": -0.19999999999999996,
            "count": 0
           },
           {
            "bin_end": 0,
            "bin_start": -0.09999999999999998,
            "count": 0
           },
           {
            "bin_end": 0.10000000000000009,
            "bin_start": 0,
            "count": 1
           },
           {
            "bin_end": 0.20000000000000007,
            "bin_start": 0.10000000000000009,
            "count": 0
           },
           {
            "bin_end": 0.30000000000000004,
            "bin_start": 0.20000000000000007,
            "count": 0
           },
           {
            "bin_end": 0.4,
            "bin_start": 0.30000000000000004,
            "count": 0
           },
           {
            "bin_end": 0.5,
            "bin_start": 0.4,
            "count": 0
           }
          ],
          "max": "0.0",
          "min": "0.0",
          "nan_count": 0,
          "unique_count": 1
         }
        },
        {
         "dtype": "object",
         "name": "Category",
         "stats": {
          "categories": [
           {
            "count": 1,
            "name": "Electronic/Mail Order"
           }
          ],
          "nan_count": 0,
          "unique_count": 1
         }
        },
        {
         "dtype": "int64",
         "name": "_deepnote_index_column"
        }
       ],
       "row_count": 1,
       "rows": [
        {
         "Category": "Electronic/Mail Order",
         "Company": "Amazon",
         "Sales": 71687,
         "Sales/Avg. Store": 0,
         "Store Count Growth": 0,
         "Stores": 0,
         "_deepnote_index_column": 6
        }
       ]
      },
      "text/html": [
       "<div>\n",
       "<style scoped>\n",
       "    .dataframe tbody tr th:only-of-type {\n",
       "        vertical-align: middle;\n",
       "    }\n",
       "\n",
       "    .dataframe tbody tr th {\n",
       "        vertical-align: top;\n",
       "    }\n",
       "\n",
       "    .dataframe thead th {\n",
       "        text-align: right;\n",
       "    }\n",
       "</style>\n",
       "<table border=\"1\" class=\"dataframe\">\n",
       "  <thead>\n",
       "    <tr style=\"text-align: right;\">\n",
       "      <th></th>\n",
       "      <th>Company</th>\n",
       "      <th>Sales</th>\n",
       "      <th>Stores</th>\n",
       "      <th>Sales/Avg. Store</th>\n",
       "      <th>Store Count Growth</th>\n",
       "      <th>Category</th>\n",
       "    </tr>\n",
       "  </thead>\n",
       "  <tbody>\n",
       "    <tr>\n",
       "      <th>6</th>\n",
       "      <td>Amazon</td>\n",
       "      <td>71687</td>\n",
       "      <td>0.0</td>\n",
       "      <td>0.0</td>\n",
       "      <td>0.0</td>\n",
       "      <td>Electronic/Mail Order</td>\n",
       "    </tr>\n",
       "  </tbody>\n",
       "</table>\n",
       "</div>"
      ],
      "text/plain": [
       "  Company  Sales  Stores  Sales/Avg. Store  Store Count Growth  \\\n",
       "6  Amazon  71687     0.0               0.0                 0.0   \n",
       "\n",
       "                Category  \n",
       "6  Electronic/Mail Order  "
      ]
     },
     "execution_count": 41,
     "metadata": {},
     "output_type": "execute_result"
    }
   ],
   "source": [
    "no_stores = df_complete[df_complete.Stores == df_complete.Stores.min()] \n",
    "no_stores[no_stores.Sales == no_stores.Sales.max()]"
   ]
  },
  {
   "cell_type": "markdown",
   "metadata": {
    "cell_id": "2c07e42d-f07e-4162-99ce-1879be82147f",
    "deepnote_cell_type": "markdown",
    "tags": []
   },
   "source": [
    "#### Observaciones\n",
    "1. La empresa Kroger cuenta con 3,931 tiendas y su total de ventas fue de $115,037\n",
    "2. La empresa Dollar Tree cuenta con 14,250 tiendas, pero solo vendió $21,464 USD\n",
    "3. Esto nos dice que el número de tiendas no es un factor que produzca más ventas. Sin embargo debemos considerar la categoria de las empresas. Por que tal vez, empresas que pertenezcan a una misma categoria, la cantidad de tiendas si puede ser un factor para producir más ventas. Y es el caso de la categoria *Supercenters* donde se observa que el número de tiendas si es un factor determinante en las ventas."
   ]
  },
  {
   "cell_type": "markdown",
   "metadata": {
    "cell_id": "cc141631-e246-41c7-a56b-ad74255d674f",
    "deepnote_cell_height": 70,
    "deepnote_cell_type": "text-cell-h2",
    "is_collapsed": false,
    "tags": []
   },
   "source": [
    "## II. Preguntas del negocio"
   ]
  },
  {
   "cell_type": "markdown",
   "metadata": {
    "cell_id": "b919b92e-0df3-4f54-b093-c1db040bc4aa",
    "deepnote_cell_height": 126,
    "deepnote_cell_type": "markdown",
    "tags": []
   },
   "source": [
    "### 1. ¿Cuál es el promedio de ventas sin contar a la compañía dominante?"
   ]
  },
  {
   "cell_type": "code",
   "execution_count": null,
   "metadata": {
    "cell_id": "d0684d2b-d018-42ad-9b48-b545aae09eec",
    "deepnote_cell_height": 154.1875,
    "deepnote_cell_type": "code",
    "deepnote_output_heights": [
     21.1875
    ],
    "deepnote_to_be_reexecuted": false,
    "execution_millis": 15,
    "execution_start": 1645987407468,
    "source_hash": "ade05dde",
    "tags": []
   },
   "outputs": [
    {
     "data": {
      "text/plain": [
       "'El promedio es: $46602.42 million USD'"
      ]
     },
     "execution_count": 42,
     "metadata": {},
     "output_type": "execute_result"
    }
   ],
   "source": [
    "# dataset sin los datos de la empresa dominante: Walmart US\n",
    "os_df = df_complete[(df_complete['Company']!='Walmart US')]\n",
    "promedio = \"El promedio es: $\" + str(round(os_df['Sales'].mean(),2)) + \" million USD\"\n",
    "promedio"
   ]
  },
  {
   "cell_type": "markdown",
   "metadata": {
    "cell_id": "1814847a-365e-4bae-9fb9-6bed9b874b37",
    "deepnote_cell_height": 126,
    "deepnote_cell_type": "markdown",
    "tags": []
   },
   "source": [
    "### 2. ¿Cuánto dinero en ventas generó la mayoría de las compañías?"
   ]
  },
  {
   "cell_type": "code",
   "execution_count": null,
   "metadata": {
    "cell_id": "dbd44d6a-fd70-4db2-acbe-7f5d371b9a60",
    "deepnote_cell_type": "code",
    "deepnote_to_be_reexecuted": false,
    "execution_millis": 15,
    "execution_start": 1645987407484,
    "source_hash": "15c7e2c5",
    "tags": []
   },
   "outputs": [
    {
     "name": "stdout",
     "output_type": "stream",
     "text": [
      "La mayoria de las empresas (13) generó arriba de $30,000 USD, teniendo un promedio de ventas de: $66899.38 USD\n"
     ]
    }
   ],
   "source": [
    "mayoria_num = os_df[os_df['Sales'] >= 30000]['Company'].count()\n",
    "mayoria_ave = round(os_df[os_df['Sales'] >= 30000]['Sales'].mean(),2)\n",
    "print(\"La mayoria de las empresas (\" + str(mayoria_num) + \") generó arriba de $30,000 USD, teniendo un promedio de ventas de: $\" + str(mayoria_ave) + \" USD\")\n"
   ]
  },
  {
   "cell_type": "code",
   "execution_count": null,
   "metadata": {
    "cell_id": "7c7057cc-813b-4f93-8826-caed6cc738f9",
    "deepnote_cell_height": 66,
    "deepnote_cell_type": "code",
    "deepnote_to_be_reexecuted": false,
    "execution_millis": 184,
    "execution_start": 1645987407492,
    "source_hash": "c5743c7",
    "tags": []
   },
   "outputs": [
    {
     "data": {
      "image/png": "[encoded data removed]",
      "text/plain": [
       "<Figure size 432x288 with 1 Axes>"
      ]
     },
     "metadata": {
      "image/png": {
       "height": 278,
       "width": 387
      },
      "needs_background": "light"
     },
     "output_type": "display_data"
    }
   ],
   "source": [
    "# lista de valores que se van a graficar en el histograma\n",
    "#df_complete['Sales']\n",
    "# plt.hist(os_df['Sales'],bins=7, rwidth=.95)\n",
    "plt.hist(os_df['Sales'],bins=[15000,30000,45000,60000,75000,90000,105000,120000], rwidth=.95, color='y')\n",
    "plt.title('Histograma de ventas (sin la empresa dominante)')\n",
    "plt.xlabel('Ventas en $USD')\n",
    "plt.ylabel('Cantidad de retailers')\n",
    "plt.show()"
   ]
  },
  {
   "cell_type": "markdown",
   "metadata": {
    "cell_id": "9801295a-a27d-48af-ae87-c653cabd8f67",
    "deepnote_cell_height": 94,
    "deepnote_cell_type": "markdown",
    "tags": []
   },
   "source": [
    "### 3. ¿Cuántas tiendas tiene la mayoría de las compañías?"
   ]
  },
  {
   "cell_type": "markdown",
   "metadata": {
    "cell_id": "f77f74c5-e1c8-43d6-a9ca-8a954dce877e",
    "deepnote_cell_type": "markdown",
    "tags": []
   },
   "source": [
    "#### Respuestas\n",
    "1. La mayoria de las empresas (16), tienen menos de 3000 tiendas fisicas\n",
    "2. No se está contando las empresas con tiendas online."
   ]
  },
  {
   "cell_type": "markdown",
   "metadata": {
    "cell_id": "dc5d9c2c-4851-46e1-92be-563d901bba33",
    "deepnote_cell_type": "markdown",
    "tags": []
   },
   "source": [
    "#### Distribución de tiendas"
   ]
  },
  {
   "cell_type": "code",
   "execution_count": null,
   "metadata": {
    "cell_id": "cfcc2261-f6a1-44d8-b8fa-184eec2a77ff",
    "deepnote_cell_height": 66,
    "deepnote_cell_type": "code",
    "deepnote_to_be_reexecuted": false,
    "execution_millis": 191,
    "execution_start": 1645987407719,
    "source_hash": "d89aa45",
    "tags": []
   },
   "outputs": [
    {
     "data": {
      "image/png": "[encoded data removed]",
      "text/plain": [
       "<Figure size 432x288 with 1 Axes>"
      ]
     },
     "metadata": {
      "image/png": {
       "height": 248,
       "width": 368
      },
      "needs_background": "light"
     },
     "output_type": "display_data"
    }
   ],
   "source": [
    "data_points = df_complete_stores['Stores'].tolist()\n",
    "fig, ax = plt.subplots()\n",
    "ax.hist(data_points, bins=5,rwidth=.95, color='#a52a2a')\n",
    "plt.show()"
   ]
  },
  {
   "cell_type": "markdown",
   "metadata": {
    "cell_id": "0f6c9455-634e-42ae-9f2a-8cf196690ec3",
    "deepnote_cell_type": "markdown",
    "tags": []
   },
   "source": [
    "#### Listado de empresas con menos de 3000 tiendas físicas"
   ]
  },
  {
   "cell_type": "code",
   "execution_count": null,
   "metadata": {
    "cell_id": "f21ca70e-c603-43ec-b804-d0729e64241c",
    "deepnote_cell_type": "code",
    "deepnote_to_be_reexecuted": false,
    "execution_millis": 6,
    "execution_start": 1645987407908,
    "source_hash": "ceaf531",
    "tags": []
   },
   "outputs": [
    {
     "data": {
      "application/vnd.deepnote.dataframe.v3+json": {
       "column_count": 6,
       "columns": [
        {
         "dtype": "object",
         "name": "Company",
         "stats": {
          "categories": [
           {
            "count": 1,
            "name": "Costco"
           },
           {
            "count": 1,
            "name": "Home Depot"
           },
           {
            "count": 14,
            "name": "14 others"
           }
          ],
          "nan_count": 0,
          "unique_count": 16
         }
        },
        {
         "dtype": "int64",
         "name": "Sales",
         "stats": {
          "histogram": [
           {
            "bin_end": 23937.6,
            "bin_start": 16592,
            "count": 4
           },
           {
            "bin_end": 31283.2,
            "bin_start": 23937.6,
            "count": 4
           },
           {
            "bin_end": 38628.8,
            "bin_start": 31283.2,
            "count": 2
           },
           {
            "bin_end": 45974.4,
            "bin_start": 38628.8,
            "count": 0
           },
           {
            "bin_end": 53320,
            "bin_start": 45974.4,
            "count": 0
           },
           {
            "bin_end": 60665.600000000006,
            "bin_start": 53320,
            "count": 3
           },
           {
            "bin_end": 68011.20000000001,
            "bin_start": 60665.600000000006,
            "count": 0
           },
           {
            "bin_end": 75356.8,
            "bin_start": 68011.20000000001,
            "count": 1
           },
           {
            "bin_end": 82702.40000000001,
            "bin_start": 75356.8,
            "count": 0
           },
           {
            "bin_end": 90048,
            "bin_start": 82702.40000000001,
            "count": 2
           }
          ],
          "max": "90048",
          "min": "16592",
          "nan_count": 0,
          "unique_count": 16
         }
        },
        {
         "dtype": "float64",
         "name": "Stores",
         "stats": {
          "histogram": [
           {
            "bin_end": 484.9,
            "bin_start": 231,
            "count": 2
           },
           {
            "bin_end": 738.8,
            "bin_start": 484.9,
            "count": 2
           },
           {
            "bin_end": 992.7,
            "bin_start": 738.8,
            "count": 2
           },
           {
            "bin_end": 1246.6,
            "bin_start": 992.7,
            "count": 1
           },
           {
            "bin_end": 1500.5,
            "bin_start": 1246.6,
            "count": 3
           },
           {
            "bin_end": 1754.4,
            "bin_start": 1500.5,
            "count": 0
           },
           {
            "bin_end": 2008.3,
            "bin_start": 1754.4,
            "count": 3
           },
           {
            "bin_end": 2262.2,
            "bin_start": 2008.3,
            "count": 1
           },
           {
            "bin_end": 2516.1,
            "bin_start": 2262.2,
            "count": 1
           },
           {
            "bin_end": 2770,
            "bin_start": 2516.1,
            "count": 1
           }
          ],
          "max": "2770.0",
          "min": "231.0",
          "nan_count": 0,
          "unique_count": 16
         }
        },
        {
         "dtype": "float64",
         "name": "Sales/Avg. Store",
         "stats": {
          "histogram": [
           {
            "bin_end": 27.2121524131,
            "bin_start": 9.369544859,
            "count": 7
           },
           {
            "bin_end": 45.0547599672,
            "bin_start": 27.2121524131,
            "count": 5
           },
           {
            "bin_end": 62.8973675213,
            "bin_start": 45.0547599672,
            "count": 0
           },
           {
            "bin_end": 80.7399750754,
            "bin_start": 62.8973675213,
            "count": 2
           },
           {
            "bin_end": 98.5825826295,
            "bin_start": 80.7399750754,
            "count": 1
           },
           {
            "bin_end": 116.4251901836,
            "bin_start": 98.5825826295,
            "count": 0
           },
           {
            "bin_end": 134.2677977377,
            "bin_start": 116.4251901836,
            "count": 0
           },
           {
            "bin_end": 152.1104052918,
            "bin_start": 134.2677977377,
            "count": 0
           },
           {
            "bin_end": 169.9530128459,
            "bin_start": 152.1104052918,
            "count": 0
           },
           {
            "bin_end": 187.7956204,
            "bin_start": 169.9530128459,
            "count": 1
           }
          ],
          "max": "187.7956204",
          "min": "9.369544859",
          "nan_count": 0,
          "unique_count": 16
         }
        },
        {
         "dtype": "float64",
         "name": "Store Count Growth",
         "stats": {
          "histogram": [
           {
            "bin_end": -0.042336258465,
            "bin_start": -0.05951506245,
            "count": 2
           },
           {
            "bin_end": -0.02515745448,
            "bin_start": -0.042336258465,
            "count": 1
           },
           {
            "bin_end": -0.007978650495000003,
            "bin_start": -0.02515745448,
            "count": 1
           },
           {
            "bin_end": 0.009200153490000001,
            "bin_start": -0.007978650495000003,
            "count": 2
           },
           {
            "bin_end": 0.026378957475000006,
            "bin_start": 0.009200153490000001,
            "count": 3
           },
           {
            "bin_end": 0.04355776146,
            "bin_start": 0.026378957475000006,
            "count": 2
           },
           {
            "bin_end": 0.060736565445,
            "bin_start": 0.04355776146,
            "count": 0
           },
           {
            "bin_end": 0.07791536943,
            "bin_start": 0.060736565445,
            "count": 1
           },
           {
            "bin_end": 0.095094173415,
            "bin_start": 0.07791536943,
            "count": 3
           },
           {
            "bin_end": 0.1122729774,
            "bin_start": 0.095094173415,
            "count": 1
           }
          ],
          "max": "0.1122729774",
          "min": "-0.05951506245",
          "nan_count": 0,
          "unique_count": 16
         }
        },
        {
         "dtype": "object",
         "name": "Category",
         "stats": {
          "categories": [
           {
            "count": 6,
            "name": "Grocery"
           },
           {
            "count": 2,
            "name": "Warehouse Club"
           },
           {
            "count": 8,
            "name": "5 others"
           }
          ],
          "nan_count": 0,
          "unique_count": 7
         }
        },
        {
         "dtype": "int64",
         "name": "_deepnote_index_column"
        }
       ],
       "row_count": 16,
       "rows": [
        {
         "Category": "Warehouse Club",
         "Company": "Costco",
         "Sales": 90048,
         "Sales/Avg. Store": 187.7956204,
         "Store Count Growth": 0.06681034483,
         "Stores": 495,
         "_deepnote_index_column": 2
        },
        {
         "Category": "Home Improvement",
         "Company": "Home Depot",
         "Sales": 83976,
         "Sales/Avg. Store": 42.73587786,
         "Store Count Growth": 0,
         "Stores": 1965,
         "_deepnote_index_column": 3
        },
        {
         "Category": "Supercenters",
         "Company": "Target",
         "Sales": 71208,
         "Sales/Avg. Store": 39.98203257,
         "Store Count Growth": -0.01005586592,
         "Stores": 1772,
         "_deepnote_index_column": 7
        },
        {
         "Category": "Home Improvement",
         "Company": "Lowe's",
         "Sales": 60311,
         "Sales/Avg. Store": 33.31179232,
         "Store Count Growth": 0.01952035694,
         "Stores": 1828,
         "_deepnote_index_column": 8
        },
        {
         "Category": "Grocery",
         "Company": "Albertsons",
         "Sales": 56829,
         "Sales/Avg. Store": 23.87773109,
         "Store Count Growth": -0.04437140509,
         "Stores": 2326,
         "_deepnote_index_column": 9
        },
        {
         "Category": "Warehouse Club",
         "Company": "Sam's Club",
         "Sales": 56828,
         "Sales/Avg. Store": 87.29339478,
         "Store Count Growth": 0.01236476043,
         "Stores": 655,
         "_deepnote_index_column": 10
        },
        {
         "Category": "Electronics",
         "Company": "Best Buy",
         "Sales": 34980,
         "Sales/Avg. Store": 24.68595625,
         "Store Count Growth": -0.03875432526,
         "Stores": 1389,
         "_deepnote_index_column": 12
        },
        {
         "Category": "Grocery",
         "Company": "Publix",
         "Sales": 34408,
         "Sales/Avg. Store": 25.99773328,
         "Store Count Growth": 0.0424382716,
         "Stores": 1351,
         "_deepnote_index_column": 13
        },
        {
         "Category": "Grocery",
         "Company": "Ahold",
         "Sales": 26903,
         "Sales/Avg. Store": 34.446863,
         "Store Count Growth": 0.03385416667,
         "Stores": 794,
         "_deepnote_index_column": 15
        },
        {
         "Category": "Department Stores",
         "Company": "Macy's",
         "Sales": 26028,
         "Sales/Avg. Store": 30.44210526,
         "Store Count Growth": 0.08282582217,
         "Stores": 889,
         "_deepnote_index_column": 16
        }
       ]
      },
      "text/html": [
       "<div>\n",
       "<style scoped>\n",
       "    .dataframe tbody tr th:only-of-type {\n",
       "        vertical-align: middle;\n",
       "    }\n",
       "\n",
       "    .dataframe tbody tr th {\n",
       "        vertical-align: top;\n",
       "    }\n",
       "\n",
       "    .dataframe thead th {\n",
       "        text-align: right;\n",
       "    }\n",
       "</style>\n",
       "<table border=\"1\" class=\"dataframe\">\n",
       "  <thead>\n",
       "    <tr style=\"text-align: right;\">\n",
       "      <th></th>\n",
       "      <th>Company</th>\n",
       "      <th>Sales</th>\n",
       "      <th>Stores</th>\n",
       "      <th>Sales/Avg. Store</th>\n",
       "      <th>Store Count Growth</th>\n",
       "      <th>Category</th>\n",
       "    </tr>\n",
       "  </thead>\n",
       "  <tbody>\n",
       "    <tr>\n",
       "      <th>2</th>\n",
       "      <td>Costco</td>\n",
       "      <td>90048</td>\n",
       "      <td>495.0</td>\n",
       "      <td>187.795620</td>\n",
       "      <td>0.066810</td>\n",
       "      <td>Warehouse Club</td>\n",
       "    </tr>\n",
       "    <tr>\n",
       "      <th>3</th>\n",
       "      <td>Home Depot</td>\n",
       "      <td>83976</td>\n",
       "      <td>1965.0</td>\n",
       "      <td>42.735878</td>\n",
       "      <td>0.000000</td>\n",
       "      <td>Home Improvement</td>\n",
       "    </tr>\n",
       "    <tr>\n",
       "      <th>7</th>\n",
       "      <td>Target</td>\n",
       "      <td>71208</td>\n",
       "      <td>1772.0</td>\n",
       "      <td>39.982033</td>\n",
       "      <td>-0.010056</td>\n",
       "      <td>Supercenters</td>\n",
       "    </tr>\n",
       "    <tr>\n",
       "      <th>8</th>\n",
       "      <td>Lowe's</td>\n",
       "      <td>60311</td>\n",
       "      <td>1828.0</td>\n",
       "      <td>33.311792</td>\n",
       "      <td>0.019520</td>\n",
       "      <td>Home Improvement</td>\n",
       "    </tr>\n",
       "    <tr>\n",
       "      <th>9</th>\n",
       "      <td>Albertsons</td>\n",
       "      <td>56829</td>\n",
       "      <td>2326.0</td>\n",
       "      <td>23.877731</td>\n",
       "      <td>-0.044371</td>\n",
       "      <td>Grocery</td>\n",
       "    </tr>\n",
       "    <tr>\n",
       "      <th>10</th>\n",
       "      <td>Sam's Club</td>\n",
       "      <td>56828</td>\n",
       "      <td>655.0</td>\n",
       "      <td>87.293395</td>\n",
       "      <td>0.012365</td>\n",
       "      <td>Warehouse Club</td>\n",
       "    </tr>\n",
       "    <tr>\n",
       "      <th>12</th>\n",
       "      <td>Best Buy</td>\n",
       "      <td>34980</td>\n",
       "      <td>1389.0</td>\n",
       "      <td>24.685956</td>\n",
       "      <td>-0.038754</td>\n",
       "      <td>Electronics</td>\n",
       "    </tr>\n",
       "    <tr>\n",
       "      <th>13</th>\n",
       "      <td>Publix</td>\n",
       "      <td>34408</td>\n",
       "      <td>1351.0</td>\n",
       "      <td>25.997733</td>\n",
       "      <td>0.042438</td>\n",
       "      <td>Grocery</td>\n",
       "    </tr>\n",
       "    <tr>\n",
       "      <th>15</th>\n",
       "      <td>Ahold</td>\n",
       "      <td>26903</td>\n",
       "      <td>794.0</td>\n",
       "      <td>34.446863</td>\n",
       "      <td>0.033854</td>\n",
       "      <td>Grocery</td>\n",
       "    </tr>\n",
       "    <tr>\n",
       "      <th>16</th>\n",
       "      <td>Macy's</td>\n",
       "      <td>26028</td>\n",
       "      <td>889.0</td>\n",
       "      <td>30.442105</td>\n",
       "      <td>0.082826</td>\n",
       "      <td>Department Stores</td>\n",
       "    </tr>\n",
       "    <tr>\n",
       "      <th>17</th>\n",
       "      <td>TJX</td>\n",
       "      <td>25012</td>\n",
       "      <td>2770.0</td>\n",
       "      <td>9.369545</td>\n",
       "      <td>0.078241</td>\n",
       "      <td>Apparel</td>\n",
       "    </tr>\n",
       "    <tr>\n",
       "      <th>18</th>\n",
       "      <td>Aldi</td>\n",
       "      <td>24402</td>\n",
       "      <td>2021.0</td>\n",
       "      <td>12.715998</td>\n",
       "      <td>0.112273</td>\n",
       "      <td>Grocery</td>\n",
       "    </tr>\n",
       "    <tr>\n",
       "      <th>21</th>\n",
       "      <td>HEB</td>\n",
       "      <td>21384</td>\n",
       "      <td>323.0</td>\n",
       "      <td>66.825000</td>\n",
       "      <td>0.018927</td>\n",
       "      <td>Grocery</td>\n",
       "    </tr>\n",
       "    <tr>\n",
       "      <th>22</th>\n",
       "      <td>Kohl's</td>\n",
       "      <td>19060</td>\n",
       "      <td>1169.0</td>\n",
       "      <td>16.353496</td>\n",
       "      <td>0.006024</td>\n",
       "      <td>Department Stores</td>\n",
       "    </tr>\n",
       "    <tr>\n",
       "      <th>23</th>\n",
       "      <td>Delhaize</td>\n",
       "      <td>18201</td>\n",
       "      <td>1280.0</td>\n",
       "      <td>13.783415</td>\n",
       "      <td>-0.059515</td>\n",
       "      <td>Grocery</td>\n",
       "    </tr>\n",
       "    <tr>\n",
       "      <th>24</th>\n",
       "      <td>Meijer</td>\n",
       "      <td>16592</td>\n",
       "      <td>231.0</td>\n",
       "      <td>74.738739</td>\n",
       "      <td>0.084507</td>\n",
       "      <td>Supercenters</td>\n",
       "    </tr>\n",
       "  </tbody>\n",
       "</table>\n",
       "</div>"
      ],
      "text/plain": [
       "       Company  Sales  Stores  Sales/Avg. Store  Store Count Growth  \\\n",
       "2       Costco  90048   495.0        187.795620            0.066810   \n",
       "3   Home Depot  83976  1965.0         42.735878            0.000000   \n",
       "7       Target  71208  1772.0         39.982033           -0.010056   \n",
       "8       Lowe's  60311  1828.0         33.311792            0.019520   \n",
       "9   Albertsons  56829  2326.0         23.877731           -0.044371   \n",
       "10  Sam's Club  56828   655.0         87.293395            0.012365   \n",
       "12    Best Buy  34980  1389.0         24.685956           -0.038754   \n",
       "13      Publix  34408  1351.0         25.997733            0.042438   \n",
       "15       Ahold  26903   794.0         34.446863            0.033854   \n",
       "16      Macy's  26028   889.0         30.442105            0.082826   \n",
       "17         TJX  25012  2770.0          9.369545            0.078241   \n",
       "18        Aldi  24402  2021.0         12.715998            0.112273   \n",
       "21         HEB  21384   323.0         66.825000            0.018927   \n",
       "22      Kohl's  19060  1169.0         16.353496            0.006024   \n",
       "23    Delhaize  18201  1280.0         13.783415           -0.059515   \n",
       "24      Meijer  16592   231.0         74.738739            0.084507   \n",
       "\n",
       "             Category  \n",
       "2      Warehouse Club  \n",
       "3    Home Improvement  \n",
       "7        Supercenters  \n",
       "8    Home Improvement  \n",
       "9             Grocery  \n",
       "10     Warehouse Club  \n",
       "12        Electronics  \n",
       "13            Grocery  \n",
       "15            Grocery  \n",
       "16  Department Stores  \n",
       "17            Apparel  \n",
       "18            Grocery  \n",
       "21            Grocery  \n",
       "22  Department Stores  \n",
       "23            Grocery  \n",
       "24       Supercenters  "
      ]
     },
     "execution_count": 46,
     "metadata": {},
     "output_type": "execute_result"
    }
   ],
   "source": [
    "df_complete_stores[df_complete_stores.Stores < 3000]"
   ]
  },
  {
   "cell_type": "markdown",
   "metadata": {
    "cell_id": "c9b5de28-cd12-4088-9bc0-93df660401f3",
    "deepnote_cell_height": 222,
    "deepnote_cell_type": "markdown",
    "tags": []
   },
   "source": [
    "### 4. ¿La cantidad de tiendas está relacionada con la cantidad de ventas? Es decir, ¿si una empresa tiene más tiendas tendrá más dinero de ventas?"
   ]
  },
  {
   "cell_type": "markdown",
   "metadata": {
    "cell_id": "4b0ad9c8-f558-4ea2-96a6-d3c149c19753",
    "deepnote_cell_type": "markdown",
    "tags": []
   },
   "source": [
    "#### Respuestas\n",
    "1. Si se comparan las empresas sin tomar encuenta la categoria, entonces, la cantidad de tiendas no tiene que ver con la cantidad de ventas, como se puede ver la gráfica: *Distribución de ventas y numero de tiendas de las empresas sin clasificar*\n",
    "2. Tomando en cuenta las categorias de las empresas y lo muestran las gráficas se puede interpretar que en la categoria *Supercenter*, la cantidad de tiendas si es un factor en el monto de ventas, donde se observa que a mayor número de tiendas, mayor cantidad de ventas.\n",
    "2. En la categoria *Grocery*, hay 5 empresas que siguen una tendencia positiva, donde a mayor número de tiendas, sus ventas aumentan.\n",
    "3. Sin embargo, hay dos tiendas que no siguen la tendencia de las 5 anteriores, ya que si se comparan se observa que tienen mas tiendas pero con menos ventas. Aun así si se aislan estás dos tiendas,, muestran una tendencia positivia propia, donde a más tiendas, mayores ventas.\n"
   ]
  },
  {
   "cell_type": "markdown",
   "metadata": {
    "cell_id": "2f473167-b797-493a-a242-f8133d143493",
    "deepnote_cell_type": "markdown",
    "tags": []
   },
   "source": [
    "#### Distribución de ventas y numero de tiendas de las empresas sin clasificar"
   ]
  },
  {
   "cell_type": "code",
   "execution_count": null,
   "metadata": {
    "cell_id": "72dda234-6fca-477e-a088-99682e9766a2",
    "deepnote_cell_height": 66,
    "deepnote_cell_type": "code",
    "deepnote_to_be_reexecuted": false,
    "execution_millis": 847,
    "execution_start": 1645987407922,
    "source_hash": "9718090c",
    "tags": []
   },
   "outputs": [
    {
     "name": "stderr",
     "output_type": "stream",
     "text": [
      "/shared-libs/python3.7/py/lib/python3.7/site-packages/seaborn/_decorators.py:43: FutureWarning: Pass the following variables as keyword args: x, y. From version 0.12, the only valid positional argument will be `data`, and passing other arguments without an explicit keyword will result in an error or misinterpretation.\n",
      "  FutureWarning\n"
     ]
    },
    {
     "data": {
      "text/plain": [
       "<seaborn.axisgrid.FacetGrid at 0x7f3f6639e110>"
      ]
     },
     "execution_count": 47,
     "metadata": {},
     "output_type": "execute_result"
    },
    {
     "data": {
      "image/png": "[encoded data removed]",
      "text/plain": [
       "<Figure size 483.875x360 with 1 Axes>"
      ]
     },
     "metadata": {
      "image/png": {
       "height": 407,
       "width": 458
      },
      "needs_background": "light"
     },
     "output_type": "display_data"
    }
   ],
   "source": [
    "sns.relplot(df_complete['Stores'],df_complete['Sales'], hue=df_complete['Company'],style=df_complete['Company'])"
   ]
  },
  {
   "cell_type": "markdown",
   "metadata": {
    "cell_id": "e84fd0d9-cc29-4653-8a1c-e635dbe4371d",
    "deepnote_cell_type": "markdown",
    "tags": []
   },
   "source": [
    "#### Respuestas\n",
    "1. La empresa Walmart US cuenta con 4574 tiendas y su total de ventas fue de $658,119 USD\n",
    "2. La empresa Dollar Tree cuenta con 14,250 tiendas,(9676 más tiendas que Walmart US) pero solo vendió $21,464 USD\n",
    "3. Esto nos dice que el número de tiendas no es un factor que produzca más ventas. Sin embargo debemos considerar la categoria de las empresas. Por que tal vez, empresas que pertenezcan a una misma categoria, la cantidad de tiendas si puede ser un factor para producir más ventas. Y es el caso de la categoria *Supercenters* donde se observa que el número de tiendas si es un factor determinante en las ventas."
   ]
  },
  {
   "cell_type": "markdown",
   "metadata": {
    "cell_id": "d55cc515-f412-49ae-9c35-cb601ac5d7ae",
    "deepnote_cell_type": "markdown",
    "tags": []
   },
   "source": [
    "#### Comparar el numero de tiendas con las ventas de las empresas en la categoria *Supercenter*"
   ]
  },
  {
   "cell_type": "code",
   "execution_count": null,
   "metadata": {
    "cell_id": "87272126-64f8-48ad-a59d-6bac36910613",
    "deepnote_cell_type": "code",
    "deepnote_to_be_reexecuted": false,
    "execution_millis": 807,
    "execution_start": 1645987408777,
    "source_hash": "bcd3d132",
    "tags": []
   },
   "outputs": [
    {
     "name": "stderr",
     "output_type": "stream",
     "text": [
      "/shared-libs/python3.7/py/lib/python3.7/site-packages/seaborn/_decorators.py:43: FutureWarning: Pass the following variables as keyword args: x, y. From version 0.12, the only valid positional argument will be `data`, and passing other arguments without an explicit keyword will result in an error or misinterpretation.\n",
      "  FutureWarning\n"
     ]
    },
    {
     "data": {
      "text/plain": [
       "<seaborn.axisgrid.FacetGrid at 0x7f3f6639e550>"
      ]
     },
     "execution_count": 48,
     "metadata": {},
     "output_type": "execute_result"
    },
    {
     "data": {
      "image/png": "[encoded data removed]",
      "text/plain": [
       "<Figure size 454.75x360 with 1 Axes>"
      ]
     },
     "metadata": {
      "image/png": {
       "height": 352,
       "width": 435
      },
      "needs_background": "light"
     },
     "output_type": "display_data"
    }
   ],
   "source": [
    "sns.relplot(df_supercenters['Stores'],df_supercenters['Sales']\n",
    ",hue=df_supercenters['Company']\n",
    ",style=df_supercenters['Company'])"
   ]
  },
  {
   "cell_type": "markdown",
   "metadata": {
    "cell_id": "89ecb26e-03dd-4ca8-94bc-4563d5f725a2",
    "deepnote_cell_type": "markdown",
    "tags": []
   },
   "source": [
    "#### Relación de las ventas con la cantidad de tiendas en la categoria *Grocery*"
   ]
  },
  {
   "cell_type": "code",
   "execution_count": null,
   "metadata": {
    "cell_id": "c9685ac6-3391-4e8d-993d-06cf23e32bdd",
    "deepnote_cell_type": "code",
    "deepnote_to_be_reexecuted": false,
    "execution_millis": 475,
    "execution_start": 1645987409229,
    "source_hash": "239c8613",
    "tags": []
   },
   "outputs": [
    {
     "name": "stderr",
     "output_type": "stream",
     "text": [
      "/shared-libs/python3.7/py/lib/python3.7/site-packages/seaborn/_decorators.py:43: FutureWarning: Pass the following variables as keyword args: x, y. From version 0.12, the only valid positional argument will be `data`, and passing other arguments without an explicit keyword will result in an error or misinterpretation.\n",
      "  FutureWarning\n"
     ]
    },
    {
     "data": {
      "text/plain": [
       "<seaborn.axisgrid.FacetGrid at 0x7f3f6647add0>"
      ]
     },
     "execution_count": 49,
     "metadata": {},
     "output_type": "execute_result"
    },
    {
     "data": {
      "image/png": "[encoded data removed]",
      "text/plain": [
       "<Figure size 449x360 with 1 Axes>"
      ]
     },
     "metadata": {
      "image/png": {
       "height": 352,
       "width": 430
      },
      "needs_background": "light"
     },
     "output_type": "display_data"
    }
   ],
   "source": [
    "df_grocery = df_complete[df_complete.Category == 'Grocery']\n",
    "sns.relplot(df_grocery['Stores'],df_grocery['Sales']\n",
    ",hue=df_grocery['Company']\n",
    ",style=df_grocery['Company'])"
   ]
  },
  {
   "cell_type": "markdown",
   "metadata": {
    "cell_id": "1081c5f0-d0f4-44e6-be98-d6cc43c97217",
    "deepnote_cell_type": "markdown",
    "tags": []
   },
   "source": [
    "#### Respuestas\n",
    "1. De las gráficas se puede interpretar que en la categoria *Supercenter*, la cantidad de tiendas si es un factor en el monto de ventas, donde se observa que a mayor número de tiendas, mayor cantidad de ventas.\n",
    "2. En la categoria *Grocery*, hay 5 empresas que siguen una tendencia positiva, donde a mayor número de tiendas, sus ventas aumentan.\n",
    "3. Sin embargo, hay dos tiendas que no siguen la tendencia de las 5 anteriores, ya que si se comparan se observa que tienen mas tiendas pero con menos ventas. Aun así si se aislan estás dos tiendas,, muestran una tendencia positivia propia, donde a más tiendas, mayores ventas."
   ]
  },
  {
   "cell_type": "markdown",
   "metadata": {
    "cell_id": "d296130b-b739-4424-8c5d-8dc8b6fc8ee5",
    "deepnote_cell_height": 94,
    "deepnote_cell_type": "markdown",
    "tags": []
   },
   "source": [
    "### 5. ¿Cuál es el rango que existe entre las ventas?"
   ]
  },
  {
   "cell_type": "code",
   "execution_count": null,
   "metadata": {
    "cell_id": "083d96d8-b9f2-45f5-bde4-0f2fbaf2b45a",
    "deepnote_cell_height": 136.1875,
    "deepnote_cell_type": "code",
    "deepnote_output_heights": [
     21.1875
    ],
    "deepnote_to_be_reexecuted": false,
    "execution_millis": 8,
    "execution_start": 1645987409703,
    "source_hash": "8a3dcc6b",
    "tags": []
   },
   "outputs": [
    {
     "name": "stdout",
     "output_type": "stream",
     "text": [
      "El rango es de: $641527 USD\n"
     ]
    }
   ],
   "source": [
    "df_complete_sorted\n",
    "rango = df_complete_sorted['Sales'].max() - df_complete_sorted['Sales'].min()\n",
    "print(\"El rango es de: $\" + str(rango) + \" USD\")"
   ]
  },
  {
   "cell_type": "markdown",
   "metadata": {
    "cell_id": "6c36ddc3-51ef-4017-a6f9-06cbb8b970e4",
    "deepnote_cell_height": 94,
    "deepnote_cell_type": "markdown",
    "tags": []
   },
   "source": [
    "### 6. ¿Cuáles son las 5 empresas que más tiendas físicas tienen? ¿Cuáles de ellas están dentro de las 5 empresas que más ventas tuvieron?"
   ]
  },
  {
   "cell_type": "markdown",
   "metadata": {
    "cell_id": "15f9a977-1cb0-4c2b-913f-6555d0a3c4b1",
    "deepnote_cell_type": "markdown",
    "tags": []
   },
   "source": [
    "#### Respuestas\n",
    "1. Las 5 empresas que tienen más tiendas físicas son: Dollar Tree, Drollar General, CVS incl. Target, Walgreen Boots y Walmart US\n",
    "2. De las cuales, Walmart US y Walgreen Boots están dentro de las 5 empresas que más ventas tuvieron"
   ]
  },
  {
   "cell_type": "code",
   "execution_count": null,
   "metadata": {
    "cell_id": "804178f2-cfb6-4d63-b8e4-1666ec43dc12",
    "deepnote_cell_height": 411,
    "deepnote_cell_type": "code",
    "deepnote_to_be_reexecuted": false,
    "execution_millis": 21,
    "execution_start": 1645987409716,
    "source_hash": "3a8b44c5",
    "tags": []
   },
   "outputs": [
    {
     "data": {
      "application/vnd.deepnote.dataframe.v3+json": {
       "column_count": 6,
       "columns": [
        {
         "dtype": "object",
         "name": "Company",
         "stats": {
          "categories": [
           {
            "count": 1,
            "name": "Dollar Tree"
           },
           {
            "count": 1,
            "name": "Dollar General"
           },
           {
            "count": 3,
            "name": "3 others"
           }
          ],
          "nan_count": 0,
          "unique_count": 5
         }
        },
        {
         "dtype": "int64",
         "name": "Sales",
         "stats": {
          "histogram": [
           {
            "bin_end": 85129.5,
            "bin_start": 21464,
            "count": 4
           },
           {
            "bin_end": 148795,
            "bin_start": 85129.5,
            "count": 0
           },
           {
            "bin_end": 212460.5,
            "bin_start": 148795,
            "count": 0
           },
           {
            "bin_end": 276126,
            "bin_start": 212460.5,
            "count": 0
           },
           {
            "bin_end": 339791.5,
            "bin_start": 276126,
            "count": 0
           },
           {
            "bin_end": 403457,
            "bin_start": 339791.5,
            "count": 0
           },
           {
            "bin_end": 467122.5,
            "bin_start": 403457,
            "count": 0
           },
           {
            "bin_end": 530788,
            "bin_start": 467122.5,
            "count": 0
           },
           {
            "bin_end": 594453.5,
            "bin_start": 530788,
            "count": 0
           },
           {
            "bin_end": 658119,
            "bin_start": 594453.5,
            "count": 1
           }
          ],
          "max": "658119",
          "min": "21464",
          "nan_count": 0,
          "unique_count": 5
         }
        },
        {
         "dtype": "float64",
         "name": "Stores",
         "stats": {
          "histogram": [
           {
            "bin_end": 5541.6,
            "bin_start": 4574,
            "count": 1
           },
           {
            "bin_end": 6509.2,
            "bin_start": 5541.6,
            "count": 0
           },
           {
            "bin_end": 7476.8,
            "bin_start": 6509.2,
            "count": 0
           },
           {
            "bin_end": 8444.4,
            "bin_start": 7476.8,
            "count": 1
           },
           {
            "bin_end": 9412,
            "bin_start": 8444.4,
            "count": 0
           },
           {
            "bin_end": 10379.6,
            "bin_start": 9412,
            "count": 1
           },
           {
            "bin_end": 11347.2,
            "bin_start": 10379.6,
            "count": 0
           },
           {
            "bin_end": 12314.8,
            "bin_start": 11347.2,
            "count": 0
           },
           {
            "bin_end": 13282.4,
            "bin_start": 12314.8,
            "count": 0
           },
           {
            "bin_end": 14250,
            "bin_start": 13282.4,
            "count": 2
           }
          ],
          "max": "14250.0",
          "min": "4574.0",
          "nan_count": 0,
          "unique_count": 5
         }
        },
        {
         "dtype": "float64",
         "name": "Sales/Avg. Store",
         "stats": {
          "histogram": [
           {
            "bin_end": 7.972499182999998,
            "bin_start": 1.56391854,
            "count": 2
           },
           {
            "bin_end": 14.381079825999997,
            "bin_start": 7.972499182999998,
            "count": 2
           },
           {
            "bin_end": 20.789660468999994,
            "bin_start": 14.381079825999997,
            "count": 0
           },
           {
            "bin_end": 27.198241111999995,
            "bin_start": 20.789660468999994,
            "count": 0
           },
           {
            "bin_end": 33.606821755,
            "bin_start": 27.198241111999995,
            "count": 0
           },
           {
            "bin_end": 40.01540239799999,
            "bin_start": 33.606821755,
            "count": 0
           },
           {
            "bin_end": 46.42398304099999,
            "bin_start": 40.01540239799999,
            "count": 0
           },
           {
            "bin_end": 52.83256368399999,
            "bin_start": 46.42398304099999,
            "count": 0
           },
           {
            "bin_end": 59.24114432699999,
            "bin_start": 52.83256368399999,
            "count": 0
           },
           {
            "bin_end": 65.64972497,
            "bin_start": 59.24114432699999,
            "count": 1
           }
          ],
          "max": "65.64972497",
          "min": "1.56391854",
          "nan_count": 0,
          "unique_count": 5
         }
        },
        {
         "dtype": "float64",
         "name": "Store Count Growth",
         "stats": {
          "histogram": [
           {
            "bin_end": 0.016106592248000005,
            "bin_start": -0.01051069618,
            "count": 2
           },
           {
            "bin_end": 0.042723880676000005,
            "bin_start": 0.016106592248000005,
            "count": 0
           },
           {
            "bin_end": 0.06934116910400001,
            "bin_start": 0.042723880676000005,
            "count": 0
           },
           {
            "bin_end": 0.09595845753200001,
            "bin_start": 0.06934116910400001,
            "count": 1
           },
           {
            "bin_end": 0.12257574596000001,
            "bin_start": 0.09595845753200001,
            "count": 0
           },
           {
            "bin_end": 0.14919303438800002,
            "bin_start": 0.12257574596000001,
            "count": 1
           },
           {
            "bin_end": 0.175810322816,
            "bin_start": 0.14919303438800002,
            "count": 0
           },
           {
            "bin_end": 0.20242761124400002,
            "bin_start": 0.175810322816,
            "count": 0
           },
           {
            "bin_end": 0.22904489967200004,
            "bin_start": 0.20242761124400002,
            "count": 0
           },
           {
            "bin_end": 0.2556621881,
            "bin_start": 0.22904489967200004,
            "count": 1
           }
          ],
          "max": "0.2556621881",
          "min": "-0.01051069618",
          "nan_count": 0,
          "unique_count": 5
         }
        },
        {
         "dtype": "object",
         "name": "Category",
         "stats": {
          "categories": [
           {
            "count": 2,
            "name": "Dollar Stores"
           },
           {
            "count": 2,
            "name": "Drug Stores"
           },
           {
            "count": 1,
            "name": "Supercenters"
           }
          ],
          "nan_count": 0,
          "unique_count": 3
         }
        },
        {
         "dtype": "int64",
         "name": "_deepnote_index_column"
        }
       ],
       "row_count": 5,
       "rows": [
        {
         "Category": "Dollar Stores",
         "Company": "Dollar Tree",
         "Sales": 21464,
         "Sales/Avg. Store": 1.56391854,
         "Store Count Growth": 0.07962724449,
         "Stores": 14250,
         "_deepnote_index_column": 20
        },
        {
         "Category": "Dollar Stores",
         "Company": "Dollar General",
         "Sales": 22234,
         "Sales/Avg. Store": 1.768884999,
         "Store Count Growth": 0.1324115701,
         "Stores": 13350,
         "_deepnote_index_column": 19
        },
        {
         "Category": "Drug Stores",
         "Company": "CVS incl. Target",
         "Sales": 77792,
         "Sales/Avg. Store": 8.825958702,
         "Store Count Growth": 0.2556621881,
         "Stores": 9813,
         "_deepnote_index_column": 5
        },
        {
         "Category": "Drug Stores",
         "Company": "Walgreen Boots",
         "Sales": 78924,
         "Sales/Avg. Store": 9.81092672,
         "Store Count Growth": -0.01051069618,
         "Stores": 8002,
         "_deepnote_index_column": 4
        },
        {
         "Category": "Supercenters",
         "Company": "Walmart US",
         "Sales": 658119,
         "Sales/Avg. Store": 65.64972497,
         "Store Count Growth": 0.01284322409,
         "Stores": 4574,
         "_deepnote_index_column": 0
        }
       ]
      },
      "text/html": [
       "<div>\n",
       "<style scoped>\n",
       "    .dataframe tbody tr th:only-of-type {\n",
       "        vertical-align: middle;\n",
       "    }\n",
       "\n",
       "    .dataframe tbody tr th {\n",
       "        vertical-align: top;\n",
       "    }\n",
       "\n",
       "    .dataframe thead th {\n",
       "        text-align: right;\n",
       "    }\n",
       "</style>\n",
       "<table border=\"1\" class=\"dataframe\">\n",
       "  <thead>\n",
       "    <tr style=\"text-align: right;\">\n",
       "      <th></th>\n",
       "      <th>Company</th>\n",
       "      <th>Sales</th>\n",
       "      <th>Stores</th>\n",
       "      <th>Sales/Avg. Store</th>\n",
       "      <th>Store Count Growth</th>\n",
       "      <th>Category</th>\n",
       "    </tr>\n",
       "  </thead>\n",
       "  <tbody>\n",
       "    <tr>\n",
       "      <th>20</th>\n",
       "      <td>Dollar Tree</td>\n",
       "      <td>21464</td>\n",
       "      <td>14250.0</td>\n",
       "      <td>1.563919</td>\n",
       "      <td>0.079627</td>\n",
       "      <td>Dollar Stores</td>\n",
       "    </tr>\n",
       "    <tr>\n",
       "      <th>19</th>\n",
       "      <td>Dollar General</td>\n",
       "      <td>22234</td>\n",
       "      <td>13350.0</td>\n",
       "      <td>1.768885</td>\n",
       "      <td>0.132412</td>\n",
       "      <td>Dollar Stores</td>\n",
       "    </tr>\n",
       "    <tr>\n",
       "      <th>5</th>\n",
       "      <td>CVS incl. Target</td>\n",
       "      <td>77792</td>\n",
       "      <td>9813.0</td>\n",
       "      <td>8.825959</td>\n",
       "      <td>0.255662</td>\n",
       "      <td>Drug Stores</td>\n",
       "    </tr>\n",
       "    <tr>\n",
       "      <th>4</th>\n",
       "      <td>Walgreen Boots</td>\n",
       "      <td>78924</td>\n",
       "      <td>8002.0</td>\n",
       "      <td>9.810927</td>\n",
       "      <td>-0.010511</td>\n",
       "      <td>Drug Stores</td>\n",
       "    </tr>\n",
       "    <tr>\n",
       "      <th>0</th>\n",
       "      <td>Walmart US</td>\n",
       "      <td>658119</td>\n",
       "      <td>4574.0</td>\n",
       "      <td>65.649725</td>\n",
       "      <td>0.012843</td>\n",
       "      <td>Supercenters</td>\n",
       "    </tr>\n",
       "  </tbody>\n",
       "</table>\n",
       "</div>"
      ],
      "text/plain": [
       "             Company   Sales   Stores  Sales/Avg. Store  Store Count Growth  \\\n",
       "20       Dollar Tree   21464  14250.0          1.563919            0.079627   \n",
       "19    Dollar General   22234  13350.0          1.768885            0.132412   \n",
       "5   CVS incl. Target   77792   9813.0          8.825959            0.255662   \n",
       "4     Walgreen Boots   78924   8002.0          9.810927           -0.010511   \n",
       "0         Walmart US  658119   4574.0         65.649725            0.012843   \n",
       "\n",
       "         Category  \n",
       "20  Dollar Stores  \n",
       "19  Dollar Stores  \n",
       "5     Drug Stores  \n",
       "4     Drug Stores  \n",
       "0    Supercenters  "
      ]
     },
     "execution_count": 51,
     "metadata": {},
     "output_type": "execute_result"
    }
   ],
   "source": [
    "# 5 empresas que más tiendas físicas tienen\n",
    "df_sorted_stores = df_complete.sort_values('Stores', ascending=False)\n",
    "retailer_5_with_more_stores = df_sorted_stores[0:5]\n",
    "retailer_5_with_more_stores"
   ]
  },
  {
   "cell_type": "markdown",
   "metadata": {
    "cell_id": "1e785c6d-d107-41e4-b212-709522642f92",
    "deepnote_cell_type": "markdown",
    "tags": []
   },
   "source": [
    "#### Gráfica de las 5 empresas con más tiendas"
   ]
  },
  {
   "cell_type": "code",
   "execution_count": null,
   "metadata": {
    "cell_id": "1295319d-09d0-42f0-9de0-ff0e689f400f",
    "deepnote_cell_height": 626,
    "deepnote_cell_type": "code",
    "deepnote_output_heights": [
     349
    ],
    "deepnote_to_be_reexecuted": false,
    "execution_millis": 249,
    "execution_start": 1645987409783,
    "source_hash": "5119e284",
    "tags": []
   },
   "outputs": [
    {
     "data": {
      "image/png": "[encoded data removed]",
      "text/plain": [
       "<Figure size 432x288 with 1 Axes>"
      ]
     },
     "metadata": {
      "image/png": {
       "height": 349,
       "width": 401
      },
      "needs_background": "light"
     },
     "output_type": "display_data"
    }
   ],
   "source": [
    "# crear variables para ordenar datos y graficar\n",
    "df_sorted_stores = df.sort_values('Stores', ascending=False)\n",
    "x = df_sorted_stores['Company'][0:5]\n",
    "y = df_sorted_stores['Stores'][0:5]\n",
    "# grafica de barra que muestra el numero de tiendas de las 5 empresas mas grandes\n",
    "plt.bar(x,y)\n",
    "plt.xlabel('Companies')\n",
    "plt.ylabel('Number of stores per company')\n",
    "plt.title('Top 5 companies', fontsize=16)\n",
    "plt.xticks(rotation='vertical')\n",
    "plt.show()"
   ]
  },
  {
   "cell_type": "markdown",
   "metadata": {
    "cell_id": "33b086a5-b508-4bc9-a010-3bb48eccc428",
    "deepnote_cell_height": 94,
    "deepnote_cell_type": "markdown",
    "tags": []
   },
   "source": [
    "### 6.1 ¿Cuáles de ellas están dentro de las 5 empresas que más ventas tuvieron?"
   ]
  },
  {
   "cell_type": "code",
   "execution_count": null,
   "metadata": {
    "cell_id": "00940453-ba76-44d9-a28c-b98b219f5486",
    "deepnote_cell_type": "code",
    "deepnote_to_be_reexecuted": false,
    "execution_millis": 11,
    "execution_start": 1645987410021,
    "source_hash": "5e9bc61d",
    "tags": []
   },
   "outputs": [
    {
     "data": {
      "application/vnd.deepnote.dataframe.v3+json": {
       "column_count": 6,
       "columns": [
        {
         "dtype": "object",
         "name": "Company",
         "stats": {
          "categories": [
           {
            "count": 1,
            "name": "Walmart US"
           },
           {
            "count": 1,
            "name": "Kroger"
           },
           {
            "count": 3,
            "name": "3 others"
           }
          ],
          "nan_count": 0,
          "unique_count": 5
         }
        },
        {
         "dtype": "int64",
         "name": "Sales",
         "stats": {
          "histogram": [
           {
            "bin_end": 136843.5,
            "bin_start": 78924,
            "count": 4
           },
           {
            "bin_end": 194763,
            "bin_start": 136843.5,
            "count": 0
           },
           {
            "bin_end": 252682.5,
            "bin_start": 194763,
            "count": 0
           },
           {
            "bin_end": 310602,
            "bin_start": 252682.5,
            "count": 0
           },
           {
            "bin_end": 368521.5,
            "bin_start": 310602,
            "count": 0
           },
           {
            "bin_end": 426441,
            "bin_start": 368521.5,
            "count": 0
           },
           {
            "bin_end": 484360.5,
            "bin_start": 426441,
            "count": 0
           },
           {
            "bin_end": 542280,
            "bin_start": 484360.5,
            "count": 0
           },
           {
            "bin_end": 600199.5,
            "bin_start": 542280,
            "count": 0
           },
           {
            "bin_end": 658119,
            "bin_start": 600199.5,
            "count": 1
           }
          ],
          "max": "658119",
          "min": "78924",
          "nan_count": 0,
          "unique_count": 5
         }
        },
        {
         "dtype": "float64",
         "name": "Stores",
         "stats": {
          "histogram": [
           {
            "bin_end": 1245.7,
            "bin_start": 495,
            "count": 1
           },
           {
            "bin_end": 1996.4,
            "bin_start": 1245.7,
            "count": 1
           },
           {
            "bin_end": 2747.1000000000004,
            "bin_start": 1996.4,
            "count": 0
           },
           {
            "bin_end": 3497.8,
            "bin_start": 2747.1000000000004,
            "count": 0
           },
           {
            "bin_end": 4248.5,
            "bin_start": 3497.8,
            "count": 1
           },
           {
            "bin_end": 4999.200000000001,
            "bin_start": 4248.5,
            "count": 1
           },
           {
            "bin_end": 5749.900000000001,
            "bin_start": 4999.200000000001,
            "count": 0
           },
           {
            "bin_end": 6500.6,
            "bin_start": 5749.900000000001,
            "count": 0
           },
           {
            "bin_end": 7251.3,
            "bin_start": 6500.6,
            "count": 0
           },
           {
            "bin_end": 8002,
            "bin_start": 7251.3,
            "count": 1
           }
          ],
          "max": "8002.0",
          "min": "495.0",
          "nan_count": 0,
          "unique_count": 5
         }
        },
        {
         "dtype": "float64",
         "name": "Sales/Avg. Store",
         "stats": {
          "histogram": [
           {
            "bin_end": 27.609396087999997,
            "bin_start": 9.81092672,
            "count": 1
           },
           {
            "bin_end": 45.407865455999996,
            "bin_start": 27.609396087999997,
            "count": 2
           },
           {
            "bin_end": 63.206334823999995,
            "bin_start": 45.407865455999996,
            "count": 0
           },
           {
            "bin_end": 81.004804192,
            "bin_start": 63.206334823999995,
            "count": 1
           },
           {
            "bin_end": 98.80327356,
            "bin_start": 81.004804192,
            "count": 0
           },
           {
            "bin_end": 116.601742928,
            "bin_start": 98.80327356,
            "count": 0
           },
           {
            "bin_end": 134.400212296,
            "bin_start": 116.601742928,
            "count": 0
           },
           {
            "bin_end": 152.198681664,
            "bin_start": 134.400212296,
            "count": 0
           },
           {
            "bin_end": 169.99715103199998,
            "bin_start": 152.198681664,
            "count": 0
           },
           {
            "bin_end": 187.7956204,
            "bin_start": 169.99715103199998,
            "count": 1
           }
          ],
          "max": "187.7956204",
          "min": "9.81092672",
          "nan_count": 0,
          "unique_count": 5
         }
        },
        {
         "dtype": "float64",
         "name": "Store Count Growth",
         "stats": {
          "histogram": [
           {
            "bin_end": -0.0027785920789999983,
            "bin_start": -0.01051069618,
            "count": 1
           },
           {
            "bin_end": 0.004953512022000003,
            "bin_start": -0.0027785920789999983,
            "count": 1
           },
           {
            "bin_end": 0.012685616123000005,
            "bin_start": 0.004953512022000003,
            "count": 0
           },
           {
            "bin_end": 0.020417720224000006,
            "bin_start": 0.012685616123000005,
            "count": 1
           },
           {
            "bin_end": 0.028149824325000003,
            "bin_start": 0.020417720224000006,
            "count": 0
           },
           {
            "bin_end": 0.03588192842600001,
            "bin_start": 0.028149824325000003,
            "count": 0
           },
           {
            "bin_end": 0.043614032527,
            "bin_start": 0.03588192842600001,
            "count": 0
           },
           {
            "bin_end": 0.05134613662800001,
            "bin_start": 0.043614032527,
            "count": 0
           },
           {
            "bin_end": 0.059078240729,
            "bin_start": 0.05134613662800001,
            "count": 1
           },
           {
            "bin_end": 0.06681034483,
            "bin_start": 0.059078240729,
            "count": 1
           }
          ],
          "max": "0.06681034483",
          "min": "-0.01051069618",
          "nan_count": 0,
          "unique_count": 5
         }
        },
        {
         "dtype": "object",
         "name": "Category",
         "stats": {
          "categories": [
           {
            "count": 1,
            "name": "Supercenters"
           },
           {
            "count": 1,
            "name": "Grocery"
           },
           {
            "count": 3,
            "name": "3 others"
           }
          ],
          "nan_count": 0,
          "unique_count": 5
         }
        },
        {
         "dtype": "int64",
         "name": "_deepnote_index_column"
        }
       ],
       "row_count": 5,
       "rows": [
        {
         "Category": "Supercenters",
         "Company": "Walmart US",
         "Sales": 658119,
         "Sales/Avg. Store": 65.64972497,
         "Store Count Growth": 0.01284322409,
         "Stores": 4574,
         "_deepnote_index_column": 0
        },
        {
         "Category": "Grocery",
         "Company": "Kroger",
         "Sales": 115037,
         "Sales/Avg. Store": 30.03184963,
         "Store Count Growth": 0.05388739946,
         "Stores": 3931,
         "_deepnote_index_column": 1
        },
        {
         "Category": "Warehouse Club",
         "Company": "Costco",
         "Sales": 90048,
         "Sales/Avg. Store": 187.7956204,
         "Store Count Growth": 0.06681034483,
         "Stores": 495,
         "_deepnote_index_column": 2
        },
        {
         "Category": "Home Improvement",
         "Company": "Home Depot",
         "Sales": 83976,
         "Sales/Avg. Store": 42.73587786,
         "Store Count Growth": 0,
         "Stores": 1965,
         "_deepnote_index_column": 3
        },
        {
         "Category": "Drug Stores",
         "Company": "Walgreen Boots",
         "Sales": 78924,
         "Sales/Avg. Store": 9.81092672,
         "Store Count Growth": -0.01051069618,
         "Stores": 8002,
         "_deepnote_index_column": 4
        }
       ]
      },
      "text/html": [
       "<div>\n",
       "<style scoped>\n",
       "    .dataframe tbody tr th:only-of-type {\n",
       "        vertical-align: middle;\n",
       "    }\n",
       "\n",
       "    .dataframe tbody tr th {\n",
       "        vertical-align: top;\n",
       "    }\n",
       "\n",
       "    .dataframe thead th {\n",
       "        text-align: right;\n",
       "    }\n",
       "</style>\n",
       "<table border=\"1\" class=\"dataframe\">\n",
       "  <thead>\n",
       "    <tr style=\"text-align: right;\">\n",
       "      <th></th>\n",
       "      <th>Company</th>\n",
       "      <th>Sales</th>\n",
       "      <th>Stores</th>\n",
       "      <th>Sales/Avg. Store</th>\n",
       "      <th>Store Count Growth</th>\n",
       "      <th>Category</th>\n",
       "    </tr>\n",
       "  </thead>\n",
       "  <tbody>\n",
       "    <tr>\n",
       "      <th>0</th>\n",
       "      <td>Walmart US</td>\n",
       "      <td>658119</td>\n",
       "      <td>4574.0</td>\n",
       "      <td>65.649725</td>\n",
       "      <td>0.012843</td>\n",
       "      <td>Supercenters</td>\n",
       "    </tr>\n",
       "    <tr>\n",
       "      <th>1</th>\n",
       "      <td>Kroger</td>\n",
       "      <td>115037</td>\n",
       "      <td>3931.0</td>\n",
       "      <td>30.031850</td>\n",
       "      <td>0.053887</td>\n",
       "      <td>Grocery</td>\n",
       "    </tr>\n",
       "    <tr>\n",
       "      <th>2</th>\n",
       "      <td>Costco</td>\n",
       "      <td>90048</td>\n",
       "      <td>495.0</td>\n",
       "      <td>187.795620</td>\n",
       "      <td>0.066810</td>\n",
       "      <td>Warehouse Club</td>\n",
       "    </tr>\n",
       "    <tr>\n",
       "      <th>3</th>\n",
       "      <td>Home Depot</td>\n",
       "      <td>83976</td>\n",
       "      <td>1965.0</td>\n",
       "      <td>42.735878</td>\n",
       "      <td>0.000000</td>\n",
       "      <td>Home Improvement</td>\n",
       "    </tr>\n",
       "    <tr>\n",
       "      <th>4</th>\n",
       "      <td>Walgreen Boots</td>\n",
       "      <td>78924</td>\n",
       "      <td>8002.0</td>\n",
       "      <td>9.810927</td>\n",
       "      <td>-0.010511</td>\n",
       "      <td>Drug Stores</td>\n",
       "    </tr>\n",
       "  </tbody>\n",
       "</table>\n",
       "</div>"
      ],
      "text/plain": [
       "          Company   Sales  Stores  Sales/Avg. Store  Store Count Growth  \\\n",
       "0      Walmart US  658119  4574.0         65.649725            0.012843   \n",
       "1          Kroger  115037  3931.0         30.031850            0.053887   \n",
       "2          Costco   90048   495.0        187.795620            0.066810   \n",
       "3      Home Depot   83976  1965.0         42.735878            0.000000   \n",
       "4  Walgreen Boots   78924  8002.0          9.810927           -0.010511   \n",
       "\n",
       "           Category  \n",
       "0      Supercenters  \n",
       "1           Grocery  \n",
       "2    Warehouse Club  \n",
       "3  Home Improvement  \n",
       "4       Drug Stores  "
      ]
     },
     "execution_count": 53,
     "metadata": {},
     "output_type": "execute_result"
    }
   ],
   "source": [
    "# 5 empresas que más tiendas físicas tienen\n",
    "df_sorted_stores = df_complete.sort_values('Sales', ascending=False)\n",
    "retailer_5_with_more_sales = df_sorted_stores[0:5]\n",
    "retailer_5_with_more_sales"
   ]
  },
  {
   "cell_type": "code",
   "execution_count": null,
   "metadata": {
    "cell_id": "a0bfa1bd-f591-4e8f-9d1b-49964ff11d6d",
    "deepnote_cell_type": "code",
    "deepnote_to_be_reexecuted": false,
    "execution_millis": 227,
    "execution_start": 1645987410037,
    "source_hash": "82453bb8",
    "tags": []
   },
   "outputs": [
    {
     "data": {
      "image/png": "[encoded data removed]",
      "text/plain": [
       "<Figure size 432x288 with 1 Axes>"
      ]
     },
     "metadata": {
      "image/png": {
       "height": 349,
       "width": 407
      },
      "needs_background": "light"
     },
     "output_type": "display_data"
    }
   ],
   "source": [
    " # crear variables para ordenar datos y graficar\n",
    "df_sorted_stores = df_complete.sort_values('Sales', ascending=False)\n",
    "x = df_sorted_stores['Company'][0:5]\n",
    "y = df_sorted_stores['Sales'][0:5]\n",
    "# grafica de barra que muestra el numero de tiendas de las 5 empresas mas grandes\n",
    "plt.bar(x,y)\n",
    "plt.xlabel('Companies')\n",
    "plt.ylabel('Number of stores per company')\n",
    "plt.title('Top 5 companies', fontsize=16)\n",
    "plt.xticks(rotation='vertical')\n",
    "plt.show()"
   ]
  },
  {
   "cell_type": "code",
   "execution_count": null,
   "metadata": {
    "cell_id": "c72c5465-9b0d-46bf-9864-bc1c4c1cdebb",
    "deepnote_cell_type": "code",
    "deepnote_to_be_reexecuted": false,
    "execution_millis": 3,
    "execution_start": 1645987410277,
    "source_hash": "3ddedc88",
    "tags": []
   },
   "outputs": [
    {
     "data": {
      "text/plain": [
       "0    Walmart US\n",
       "Name: Company, dtype: object"
      ]
     },
     "execution_count": 55,
     "metadata": {},
     "output_type": "execute_result"
    }
   ],
   "source": [
    "# filtrar por las empresas con más tiendas\n",
    "top_5_stores = df_complete.sort_values('Stores', ascending=False)\n",
    "df_top_5_stores = top_5_stores[0:5]\n",
    "# Filtrar por las empresas con más ventas\n",
    "df_top_5_stores[df_top_5_stores.Sales == df_top_5_stores.Sales.max()]['Company']"
   ]
  },
  {
   "cell_type": "markdown",
   "metadata": {
    "cell_id": "7d1d5db9-ad1d-4081-968b-bea1357e236a",
    "deepnote_cell_height": 70,
    "deepnote_cell_type": "markdown",
    "tags": []
   },
   "source": [
    "## II. Preguntas opcionales"
   ]
  },
  {
   "cell_type": "markdown",
   "metadata": {
    "cell_id": "27e5ddcb-8674-4809-844e-8c3442430be1",
    "deepnote_cell_height": 126,
    "deepnote_cell_type": "markdown",
    "tags": []
   },
   "source": [
    "### 7. ¿Qué categoría de compañía generó más ventas?"
   ]
  },
  {
   "cell_type": "markdown",
   "metadata": {
    "cell_id": "b10634ca-6030-42da-8ea2-4b81ba77ffe5",
    "deepnote_cell_type": "markdown",
    "tags": []
   },
   "source": [
    "#### Respuestas\n",
    "\n",
    "1. Se puede observar que la categoria *Supercenters* representa el 42% de las ventas totales, convirtiéndose en la categoria que generó más ventas\n",
    "\n",
    "2. La categoria *Grocery* es la categoria que está en segundo lugar con el 17% de las ventas totales"
   ]
  },
  {
   "cell_type": "code",
   "execution_count": null,
   "metadata": {
    "cell_id": "fcc0ff72-f954-4023-b187-f43c7ecc77ce",
    "deepnote_cell_height": 66,
    "deepnote_cell_type": "code",
    "deepnote_to_be_reexecuted": false,
    "execution_millis": 289,
    "execution_start": 1645987410278,
    "source_hash": "d5fed40e",
    "tags": []
   },
   "outputs": [
    {
     "data": {
      "image/png": "[encoded data removed]",
      "text/plain": [
       "<Figure size 432x288 with 1 Axes>"
      ]
     },
     "metadata": {
      "image/png": {
       "height": 408,
       "width": 581
      }
     },
     "output_type": "display_data"
    }
   ],
   "source": [
    "# Graficar la proporción de ventas por categoria\n",
    "pie_sales = sales_list_df['Sales']\n",
    "pie_category = sales_list_df['categoria']\n",
    "plt.axis(\"equal\")\n",
    "plt.pie(pie_sales,labels=pie_category, radius=2, autopct='%0.0f%%',shadow=True, explode=[0,0,0,0,0,0,0,0,0.1,0])\n",
    "#plt.title(\"Distribución de ventas por categoria\", loc='right')\n",
    "plt.show()"
   ]
  },
  {
   "cell_type": "markdown",
   "metadata": {
    "cell_id": "33668883-9f01-485c-bdf9-822cd13ad952",
    "deepnote_cell_height": 158,
    "deepnote_cell_type": "markdown",
    "tags": []
   },
   "source": [
    "### 8. ¿Cuál es la compañía que en relación con su cantidad de tiendas físicas genera más ventas?"
   ]
  },
  {
   "cell_type": "markdown",
   "metadata": {
    "cell_id": "cc6e5c44-d4b9-4eda-92b1-a3c9a872ca58",
    "deepnote_cell_type": "markdown",
    "tags": []
   },
   "source": [
    "#### Respuesta\n",
    "1. Walmart US con una cantidad de tiendas fisicas de 4574 produjo $658,119 [Dollar amounts in millions], siena la empresa que más tiendas físicas tiene en la categoria *Supercenters*"
   ]
  },
  {
   "cell_type": "code",
   "execution_count": null,
   "metadata": {
    "cell_id": "903008ff-c22d-431e-8130-a954a94b16e8",
    "deepnote_cell_height": 66,
    "deepnote_cell_type": "code",
    "deepnote_to_be_reexecuted": false,
    "execution_millis": 1496,
    "execution_start": 1645987410650,
    "source_hash": "e0afe8f2",
    "tags": []
   },
   "outputs": [
    {
     "name": "stderr",
     "output_type": "stream",
     "text": [
      "/shared-libs/python3.7/py/lib/python3.7/site-packages/seaborn/_decorators.py:43: FutureWarning: Pass the following variables as keyword args: x, y. From version 0.12, the only valid positional argument will be `data`, and passing other arguments without an explicit keyword will result in an error or misinterpretation.\n",
      "  FutureWarning\n"
     ]
    },
    {
     "data": {
      "text/plain": [
       "<seaborn.axisgrid.FacetGrid at 0x7f3f6414f5d0>"
      ]
     },
     "execution_count": 57,
     "metadata": {},
     "output_type": "execute_result"
    },
    {
     "data": {
      "image/png": "[encoded data removed]",
      "text/plain": [
       "<Figure size 483.875x360 with 1 Axes>"
      ]
     },
     "metadata": {
      "image/png": {
       "height": 407,
       "width": 458
      },
      "needs_background": "light"
     },
     "output_type": "display_data"
    }
   ],
   "source": [
    "sns.relplot(df_complete['Stores'],df_complete['Sales']\n",
    ",hue=df_complete['Company']\n",
    ",style=df_complete['Company'])"
   ]
  },
  {
   "cell_type": "code",
   "execution_count": null,
   "metadata": {
    "cell_id": "e49a4930-0879-4466-a855-618b4df92546",
    "deepnote_cell_type": "code",
    "deepnote_to_be_reexecuted": false,
    "execution_millis": 939,
    "execution_start": 1645987411652,
    "source_hash": "9f1062cf",
    "tags": []
   },
   "outputs": [
    {
     "name": "stderr",
     "output_type": "stream",
     "text": [
      "/shared-libs/python3.7/py/lib/python3.7/site-packages/seaborn/_decorators.py:43: FutureWarning: Pass the following variables as keyword args: x, y. From version 0.12, the only valid positional argument will be `data`, and passing other arguments without an explicit keyword will result in an error or misinterpretation.\n",
      "  FutureWarning\n"
     ]
    },
    {
     "data": {
      "text/plain": [
       "<seaborn.axisgrid.FacetGrid at 0x7f3f70d45d90>"
      ]
     },
     "execution_count": 58,
     "metadata": {},
     "output_type": "execute_result"
    },
    {
     "data": {
      "image/png": "[encoded data removed]",
      "text/plain": [
       "<Figure size 483.875x360 with 1 Axes>"
      ]
     },
     "metadata": {
      "image/png": {
       "height": 392,
       "width": 458
      },
      "needs_background": "light"
     },
     "output_type": "display_data"
    }
   ],
   "source": [
    "\n",
    "sns.relplot(os_df['Stores'],os_df['Sales']\n",
    ",hue=os_df['Company']\n",
    ",style=os_df['Company'])"
   ]
  },
  {
   "cell_type": "markdown",
   "metadata": {
    "cell_id": "e9a00ffe-de8a-41f0-98e7-67b905d0d14f",
    "deepnote_cell_height": 190,
    "deepnote_cell_type": "markdown",
    "tags": []
   },
   "source": [
    "### 9. ¿Cuáles compañías venden de forma exclusivamente online? ¿Sus ventas destacan sobre las que también tienen tiendas físicas?"
   ]
  },
  {
   "cell_type": "markdown",
   "metadata": {
    "cell_id": "7b7c7b1c-e089-477b-8785-b6e678ab1878",
    "deepnote_cell_type": "markdown",
    "tags": []
   },
   "source": [
    "#### Respuesta\n",
    "1. Las empresas que venden online son: Amazon y Apple\n",
    "2. Las ventas online, solo representan el 6% del total de ventas"
   ]
  },
  {
   "cell_type": "code",
   "execution_count": null,
   "metadata": {
    "cell_id": "49f49490-e2ca-4e7e-b504-00b9f7890be8",
    "deepnote_cell_type": "code",
    "deepnote_to_be_reexecuted": false,
    "execution_millis": 5,
    "execution_start": 1645987412610,
    "source_hash": "af7d3b70",
    "tags": []
   },
   "outputs": [
    {
     "data": {
      "application/vnd.deepnote.dataframe.v3+json": {
       "column_count": 6,
       "columns": [
        {
         "dtype": "object",
         "name": "Company",
         "stats": {
          "categories": [
           {
            "count": 1,
            "name": "Amazon"
           },
           {
            "count": 1,
            "name": "Apple incl. Online"
           }
          ],
          "nan_count": 0,
          "unique_count": 2
         }
        },
        {
         "dtype": "int64",
         "name": "Sales",
         "stats": {
          "histogram": [
           {
            "bin_end": 41066.3,
            "bin_start": 37664,
            "count": 1
           },
           {
            "bin_end": 44468.6,
            "bin_start": 41066.3,
            "count": 0
           },
           {
            "bin_end": 47870.9,
            "bin_start": 44468.6,
            "count": 0
           },
           {
            "bin_end": 51273.2,
            "bin_start": 47870.9,
            "count": 0
           },
           {
            "bin_end": 54675.5,
            "bin_start": 51273.2,
            "count": 0
           },
           {
            "bin_end": 58077.8,
            "bin_start": 54675.5,
            "count": 0
           },
           {
            "bin_end": 61480.100000000006,
            "bin_start": 58077.8,
            "count": 0
           },
           {
            "bin_end": 64882.4,
            "bin_start": 61480.100000000006,
            "count": 0
           },
           {
            "bin_end": 68284.7,
            "bin_start": 64882.4,
            "count": 0
           },
           {
            "bin_end": 71687,
            "bin_start": 68284.7,
            "count": 1
           }
          ],
          "max": "71687",
          "min": "37664",
          "nan_count": 0,
          "unique_count": 2
         }
        },
        {
         "dtype": "float64",
         "name": "Stores",
         "stats": {
          "histogram": [
           {
            "bin_end": -0.4,
            "bin_start": -0.5,
            "count": 0
           },
           {
            "bin_end": -0.3,
            "bin_start": -0.4,
            "count": 0
           },
           {
            "bin_end": -0.19999999999999996,
            "bin_start": -0.3,
            "count": 0
           },
           {
            "bin_end": -0.09999999999999998,
            "bin_start": -0.19999999999999996,
            "count": 0
           },
           {
            "bin_end": 0,
            "bin_start": -0.09999999999999998,
            "count": 0
           },
           {
            "bin_end": 0.10000000000000009,
            "bin_start": 0,
            "count": 2
           },
           {
            "bin_end": 0.20000000000000007,
            "bin_start": 0.10000000000000009,
            "count": 0
           },
           {
            "bin_end": 0.30000000000000004,
            "bin_start": 0.20000000000000007,
            "count": 0
           },
           {
            "bin_end": 0.4,
            "bin_start": 0.30000000000000004,
            "count": 0
           },
           {
            "bin_end": 0.5,
            "bin_start": 0.4,
            "count": 0
           }
          ],
          "max": "0.0",
          "min": "0.0",
          "nan_count": 0,
          "unique_count": 1
         }
        },
        {
         "dtype": "float64",
         "name": "Sales/Avg. Store",
         "stats": {
          "histogram": [
           {
            "bin_end": -0.4,
            "bin_start": -0.5,
            "count": 0
           },
           {
            "bin_end": -0.3,
            "bin_start": -0.4,
            "count": 0
           },
           {
            "bin_end": -0.19999999999999996,
            "bin_start": -0.3,
            "count": 0
           },
           {
            "bin_end": -0.09999999999999998,
            "bin_start": -0.19999999999999996,
            "count": 0
           },
           {
            "bin_end": 0,
            "bin_start": -0.09999999999999998,
            "count": 0
           },
           {
            "bin_end": 0.10000000000000009,
            "bin_start": 0,
            "count": 2
           },
           {
            "bin_end": 0.20000000000000007,
            "bin_start": 0.10000000000000009,
            "count": 0
           },
           {
            "bin_end": 0.30000000000000004,
            "bin_start": 0.20000000000000007,
            "count": 0
           },
           {
            "bin_end": 0.4,
            "bin_start": 0.30000000000000004,
            "count": 0
           },
           {
            "bin_end": 0.5,
            "bin_start": 0.4,
            "count": 0
           }
          ],
          "max": "0.0",
          "min": "0.0",
          "nan_count": 0,
          "unique_count": 1
         }
        },
        {
         "dtype": "float64",
         "name": "Store Count Growth",
         "stats": {
          "histogram": [
           {
            "bin_end": -0.4,
            "bin_start": -0.5,
            "count": 0
           },
           {
            "bin_end": -0.3,
            "bin_start": -0.4,
            "count": 0
           },
           {
            "bin_end": -0.19999999999999996,
            "bin_start": -0.3,
            "count": 0
           },
           {
            "bin_end": -0.09999999999999998,
            "bin_start": -0.19999999999999996,
            "count": 0
           },
           {
            "bin_end": 0,
            "bin_start": -0.09999999999999998,
            "count": 0
           },
           {
            "bin_end": 0.10000000000000009,
            "bin_start": 0,
            "count": 2
           },
           {
            "bin_end": 0.20000000000000007,
            "bin_start": 0.10000000000000009,
            "count": 0
           },
           {
            "bin_end": 0.30000000000000004,
            "bin_start": 0.20000000000000007,
            "count": 0
           },
           {
            "bin_end": 0.4,
            "bin_start": 0.30000000000000004,
            "count": 0
           },
           {
            "bin_end": 0.5,
            "bin_start": 0.4,
            "count": 0
           }
          ],
          "max": "0.0",
          "min": "0.0",
          "nan_count": 0,
          "unique_count": 1
         }
        },
        {
         "dtype": "object",
         "name": "Category",
         "stats": {
          "categories": [
           {
            "count": 2,
            "name": "Electronic/Mail Order"
           }
          ],
          "nan_count": 0,
          "unique_count": 1
         }
        },
        {
         "dtype": "int64",
         "name": "_deepnote_index_column"
        }
       ],
       "row_count": 2,
       "rows": [
        {
         "Category": "Electronic/Mail Order",
         "Company": "Amazon",
         "Sales": 71687,
         "Sales/Avg. Store": 0,
         "Store Count Growth": 0,
         "Stores": 0,
         "_deepnote_index_column": 6
        },
        {
         "Category": "Electronic/Mail Order",
         "Company": "Apple incl. Online",
         "Sales": 37664,
         "Sales/Avg. Store": 0,
         "Store Count Growth": 0,
         "Stores": 0,
         "_deepnote_index_column": 11
        }
       ]
      },
      "text/html": [
       "<div>\n",
       "<style scoped>\n",
       "    .dataframe tbody tr th:only-of-type {\n",
       "        vertical-align: middle;\n",
       "    }\n",
       "\n",
       "    .dataframe tbody tr th {\n",
       "        vertical-align: top;\n",
       "    }\n",
       "\n",
       "    .dataframe thead th {\n",
       "        text-align: right;\n",
       "    }\n",
       "</style>\n",
       "<table border=\"1\" class=\"dataframe\">\n",
       "  <thead>\n",
       "    <tr style=\"text-align: right;\">\n",
       "      <th></th>\n",
       "      <th>Company</th>\n",
       "      <th>Sales</th>\n",
       "      <th>Stores</th>\n",
       "      <th>Sales/Avg. Store</th>\n",
       "      <th>Store Count Growth</th>\n",
       "      <th>Category</th>\n",
       "    </tr>\n",
       "  </thead>\n",
       "  <tbody>\n",
       "    <tr>\n",
       "      <th>6</th>\n",
       "      <td>Amazon</td>\n",
       "      <td>71687</td>\n",
       "      <td>0.0</td>\n",
       "      <td>0.0</td>\n",
       "      <td>0.0</td>\n",
       "      <td>Electronic/Mail Order</td>\n",
       "    </tr>\n",
       "    <tr>\n",
       "      <th>11</th>\n",
       "      <td>Apple incl. Online</td>\n",
       "      <td>37664</td>\n",
       "      <td>0.0</td>\n",
       "      <td>0.0</td>\n",
       "      <td>0.0</td>\n",
       "      <td>Electronic/Mail Order</td>\n",
       "    </tr>\n",
       "  </tbody>\n",
       "</table>\n",
       "</div>"
      ],
      "text/plain": [
       "               Company  Sales  Stores  Sales/Avg. Store  Store Count Growth  \\\n",
       "6               Amazon  71687     0.0               0.0                 0.0   \n",
       "11  Apple incl. Online  37664     0.0               0.0                 0.0   \n",
       "\n",
       "                 Category  \n",
       "6   Electronic/Mail Order  \n",
       "11  Electronic/Mail Order  "
      ]
     },
     "execution_count": 59,
     "metadata": {},
     "output_type": "execute_result"
    }
   ],
   "source": [
    "# Empresas online\n",
    "no_stores"
   ]
  },
  {
   "cell_type": "code",
   "execution_count": null,
   "metadata": {
    "cell_id": "cb6d5d30-783d-44af-9c84-f31689cb3487",
    "deepnote_cell_height": 66,
    "deepnote_cell_type": "code",
    "deepnote_to_be_reexecuted": false,
    "execution_millis": 269,
    "execution_start": 1645987412629,
    "source_hash": "44bbfde7",
    "tags": []
   },
   "outputs": [
    {
     "data": {
      "image/png": "[encoded data removed]",
      "text/plain": [
       "<Figure size 432x288 with 1 Axes>"
      ]
     },
     "metadata": {
      "image/png": {
       "height": 362,
       "width": 491
      }
     },
     "output_type": "display_data"
    }
   ],
   "source": [
    "\n",
    "no_stores_sales = no_stores.Sales.sum()\n",
    "\n",
    "# empresas con tiendas físicas\n",
    "with_stores = df_complete[df_complete['Stores'] != 0]\n",
    "with_stores_sales = with_stores.Sales.sum()\n",
    "\n",
    "# diccionario\n",
    "sales_stores_no_stores = {\n",
    "    \"Sales\" : [with_stores_sales,no_stores_sales]\n",
    "    ,\"Subcategory\" : [\"Store\",\"Online\"]\n",
    "    #,\"index\" : [0]\n",
    "}\n",
    "\n",
    "#sales_stores_no_stores\n",
    "df_sales_stores_no_stores = pd.DataFrame(sales_stores_no_stores)\n",
    "#df_sales_stores_no_stores\n",
    "\n",
    "# graficar\n",
    "pie_sales = df_sales_stores_no_stores['Sales']\n",
    "pie_category = df_sales_stores_no_stores['Subcategory']\n",
    "plt.axis(\"equal\")\n",
    "plt.pie(pie_sales,labels=pie_category, radius=2, autopct='%0.0f%%', explode=[0,.5])\n",
    "plt.legend()\n",
    "plt.show()"
   ]
  },
  {
   "cell_type": "markdown",
   "metadata": {
    "cell_id": "58c80612-3fb2-4c71-9aab-813b121430a0",
    "deepnote_cell_height": 110,
    "deepnote_cell_type": "markdown",
    "tags": []
   },
   "source": [
    "## III. Tus propias preguntas"
   ]
  },
  {
   "cell_type": "markdown",
   "metadata": {
    "cell_id": "fa60966b-7d95-43f0-9a1e-201f1373f1be",
    "deepnote_cell_height": 62,
    "deepnote_cell_type": "markdown",
    "tags": []
   },
   "source": [
    "### 10. Pregunta"
   ]
  },
  {
   "cell_type": "code",
   "execution_count": null,
   "metadata": {
    "cell_id": "52ea290f-004f-4aaa-8e1a-0d0908996b0a",
    "deepnote_cell_height": 66,
    "deepnote_cell_type": "code",
    "deepnote_to_be_reexecuted": false,
    "execution_millis": 3,
    "execution_start": 1645987412895,
    "source_hash": "b623e53d",
    "tags": []
   },
   "outputs": [],
   "source": []
  },
  {
   "cell_type": "markdown",
   "metadata": {
    "cell_id": "83e0e566-969d-4872-b32d-915ac945a370",
    "deepnote_cell_height": 62,
    "deepnote_cell_type": "markdown",
    "tags": []
   },
   "source": [
    "### 11. Pregunta"
   ]
  },
  {
   "cell_type": "code",
   "execution_count": null,
   "metadata": {
    "cell_id": "04a6786e-fd39-4b41-b85c-0ecae003e4db",
    "deepnote_cell_height": 66,
    "deepnote_cell_type": "code",
    "deepnote_to_be_reexecuted": false,
    "execution_millis": 0,
    "execution_start": 1645987412901,
    "source_hash": "b623e53d",
    "tags": []
   },
   "outputs": [],
   "source": []
  },
  {
   "cell_type": "markdown",
   "metadata": {
    "cell_id": "d5a17c31-5e8f-4d67-9679-c5705053de69",
    "deepnote_cell_height": 62,
    "deepnote_cell_type": "markdown",
    "tags": []
   },
   "source": [
    "### 12. Pregunta"
   ]
  },
  {
   "cell_type": "code",
   "execution_count": null,
   "metadata": {
    "cell_id": "b168ad4f-adf7-4f82-9126-461a1fc64b84",
    "deepnote_cell_height": 66,
    "deepnote_cell_type": "code",
    "deepnote_to_be_reexecuted": false,
    "execution_millis": 265200778,
    "execution_start": 1645987412908,
    "source_hash": "b623e53d",
    "tags": []
   },
   "outputs": [],
   "source": []
  },
  {
   "cell_type": "markdown",
   "metadata": {
    "cell_id": "dfff2c9b-7fb9-4fa5-8805-7dde5e1a55bf",
    "deepnote_cell_type": "text-cell-h2",
    "is_collapsed": false,
    "tags": []
   },
   "source": [
    "## III. Conclusiones"
   ]
  },
  {
   "cell_type": "markdown",
   "metadata": {
    "cell_id": "dd57f283-0021-4654-8173-aa4fdd820d35",
    "deepnote_cell_type": "markdown",
    "tags": []
   },
   "source": [
    "Se puede concluir que si se maneja la información por categorias, se puede tener un mejor entendimiento de los datos proporcionados, donde se puede observar que para las empresas que cuentan con tiendas físicas, cuando incrementan el número de sucursales, pueden incrementar sus ventas, pero puede ser factor de bajar el rendimiento por tienda. \n",
    "\n",
    "\n",
    "#### Recomendaciones\n",
    "En base a los números de ventas hechos por Walmart US, se recomienda hacer un estudio de la estrategia que usa Walmart US. Ya que siendo un competidor tan fuerte, sigue una estrategia que le ha funcionado. Su estrategia no está en el número de tiendas, ya que la empresa Dollar Tree, cuenta con más sucursales (14250) que Walmart US y solo ha alcanzado ventas por (*$21,464*) \n",
    "\n",
    "En cambio Walmart US con 5474 sucursales ha alcanzado ventas por (*$6581,19*). \n",
    "\n",
    "Por supuesto hay que aclarar que ambas empresas pertenecen a categorias distintas."
   ]
  },
  {
   "cell_type": "markdown",
   "metadata": {
    "created_in_deepnote_cell": true,
    "deepnote_cell_type": "markdown",
    "tags": []
   },
   "source": [
    "<a style='text-decoration:none;line-height:16px;display:flex;color:#5B5B62;padding:10px;justify-content:end;' href='https://deepnote.com?utm_source=created-in-deepnote-cell&projectId=65c713ba-14d4-4d31-bc27-e023f18c8bec' target=\"_blank\">\n",
    "<img alt='Created in deepnote.com' style='display:inline;max-height:16px;margin:0px;margin-right:7.5px;' src='data:image/svg+xml;base64,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' > </img>\n",
    "Created in <span style='font-weight:600;margin-left:4px;'>Deepnote</span></a>"
   ]
  }
 ],
 "metadata": {
  "deepnote": {
   "is_reactive": false
  },
  "deepnote_execution_queue": [],
  "deepnote_notebook_id": "85b76ea9-ace4-4c85-8b21-59120be91703",
  "kernelspec": {
   "display_name": "Python 3 (ipykernel)",
   "language": "python",
   "name": "python3"
  },
  "language_info": {
   "codemirror_mode": {
    "name": "ipython",
    "version": 3
   },
   "file_extension": ".py",
   "mimetype": "text/x-python",
   "name": "python",
   "nbconvert_exporter": "python",
   "pygments_lexer": "ipython3",
   "version": "3.9.12"
  }
 },
 "nbformat": 4,
 "nbformat_minor": 2
}
